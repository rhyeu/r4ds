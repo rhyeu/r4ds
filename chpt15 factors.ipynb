{
 "cells": [
  {
   "cell_type": "code",
   "execution_count": 3,
   "metadata": {},
   "outputs": [],
   "source": [
    "library(tidyverse)\n",
    "library(forcats)"
   ]
  },
  {
   "cell_type": "code",
   "execution_count": 5,
   "metadata": {},
   "outputs": [],
   "source": [
    "x1 <- c(\"Dec\", \"Apr\", \"Jan\", \"Mar\")\n",
    "x2 <- c(\"Dec\", \"Apr\", \"Jam\", \"Mar\")"
   ]
  },
  {
   "cell_type": "code",
   "execution_count": 6,
   "metadata": {},
   "outputs": [
    {
     "data": {
      "text/html": [
       "<ol class=list-inline>\n",
       "\t<li>'Apr'</li>\n",
       "\t<li>'Dec'</li>\n",
       "\t<li>'Jan'</li>\n",
       "\t<li>'Mar'</li>\n",
       "</ol>\n"
      ],
      "text/latex": [
       "\\begin{enumerate*}\n",
       "\\item 'Apr'\n",
       "\\item 'Dec'\n",
       "\\item 'Jan'\n",
       "\\item 'Mar'\n",
       "\\end{enumerate*}\n"
      ],
      "text/markdown": [
       "1. 'Apr'\n",
       "2. 'Dec'\n",
       "3. 'Jan'\n",
       "4. 'Mar'\n",
       "\n",
       "\n"
      ],
      "text/plain": [
       "[1] \"Apr\" \"Dec\" \"Jan\" \"Mar\""
      ]
     },
     "metadata": {},
     "output_type": "display_data"
    }
   ],
   "source": [
    "sort(x1)"
   ]
  },
  {
   "cell_type": "code",
   "execution_count": 7,
   "metadata": {},
   "outputs": [],
   "source": [
    "month_levels <- c(\n",
    "  \"Jan\", \"Feb\", \"Mar\", \"Apr\", \"May\", \"Jun\", \n",
    "  \"Jul\", \"Aug\", \"Sep\", \"Oct\", \"Nov\", \"Dec\"\n",
    ")"
   ]
  },
  {
   "cell_type": "code",
   "execution_count": 9,
   "metadata": {},
   "outputs": [
    {
     "data": {
      "text/html": [
       "<ol class=list-inline>\n",
       "\t<li>Dec</li>\n",
       "\t<li>Apr</li>\n",
       "\t<li>Jan</li>\n",
       "\t<li>Mar</li>\n",
       "</ol>\n",
       "\n",
       "<details>\n",
       "\t<summary style=display:list-item;cursor:pointer>\n",
       "\t\t<strong>Levels</strong>:\n",
       "\t</summary>\n",
       "\t<ol class=list-inline>\n",
       "\t\t<li>'Jan'</li>\n",
       "\t\t<li>'Feb'</li>\n",
       "\t\t<li>'Mar'</li>\n",
       "\t\t<li>'Apr'</li>\n",
       "\t\t<li>'May'</li>\n",
       "\t\t<li>'Jun'</li>\n",
       "\t\t<li>'Jul'</li>\n",
       "\t\t<li>'Aug'</li>\n",
       "\t\t<li>'Sep'</li>\n",
       "\t\t<li>'Oct'</li>\n",
       "\t\t<li>'Nov'</li>\n",
       "\t\t<li>'Dec'</li>\n",
       "\t</ol>\n",
       "</details>"
      ],
      "text/latex": [
       "\\begin{enumerate*}\n",
       "\\item Dec\n",
       "\\item Apr\n",
       "\\item Jan\n",
       "\\item Mar\n",
       "\\end{enumerate*}\n",
       "\n",
       "\\emph{Levels}: \\begin{enumerate*}\n",
       "\\item 'Jan'\n",
       "\\item 'Feb'\n",
       "\\item 'Mar'\n",
       "\\item 'Apr'\n",
       "\\item 'May'\n",
       "\\item 'Jun'\n",
       "\\item 'Jul'\n",
       "\\item 'Aug'\n",
       "\\item 'Sep'\n",
       "\\item 'Oct'\n",
       "\\item 'Nov'\n",
       "\\item 'Dec'\n",
       "\\end{enumerate*}\n"
      ],
      "text/markdown": [
       "1. Dec\n",
       "2. Apr\n",
       "3. Jan\n",
       "4. Mar\n",
       "\n",
       "\n",
       "\n",
       "**Levels**: 1. 'Jan'\n",
       "2. 'Feb'\n",
       "3. 'Mar'\n",
       "4. 'Apr'\n",
       "5. 'May'\n",
       "6. 'Jun'\n",
       "7. 'Jul'\n",
       "8. 'Aug'\n",
       "9. 'Sep'\n",
       "10. 'Oct'\n",
       "11. 'Nov'\n",
       "12. 'Dec'\n",
       "\n",
       "\n"
      ],
      "text/plain": [
       "[1] Dec Apr Jan Mar\n",
       "Levels: Jan Feb Mar Apr May Jun Jul Aug Sep Oct Nov Dec"
      ]
     },
     "metadata": {},
     "output_type": "display_data"
    }
   ],
   "source": [
    "(y1 = factor(x1, levels = month_levels))"
   ]
  },
  {
   "cell_type": "code",
   "execution_count": 10,
   "metadata": {},
   "outputs": [
    {
     "data": {
      "text/html": [
       "<ol class=list-inline>\n",
       "\t<li>Dec</li>\n",
       "\t<li>Apr</li>\n",
       "\t<li>&lt;NA&gt;</li>\n",
       "\t<li>Mar</li>\n",
       "</ol>\n",
       "\n",
       "<details>\n",
       "\t<summary style=display:list-item;cursor:pointer>\n",
       "\t\t<strong>Levels</strong>:\n",
       "\t</summary>\n",
       "\t<ol class=list-inline>\n",
       "\t\t<li>'Jan'</li>\n",
       "\t\t<li>'Feb'</li>\n",
       "\t\t<li>'Mar'</li>\n",
       "\t\t<li>'Apr'</li>\n",
       "\t\t<li>'May'</li>\n",
       "\t\t<li>'Jun'</li>\n",
       "\t\t<li>'Jul'</li>\n",
       "\t\t<li>'Aug'</li>\n",
       "\t\t<li>'Sep'</li>\n",
       "\t\t<li>'Oct'</li>\n",
       "\t\t<li>'Nov'</li>\n",
       "\t\t<li>'Dec'</li>\n",
       "\t</ol>\n",
       "</details>"
      ],
      "text/latex": [
       "\\begin{enumerate*}\n",
       "\\item Dec\n",
       "\\item Apr\n",
       "\\item <NA>\n",
       "\\item Mar\n",
       "\\end{enumerate*}\n",
       "\n",
       "\\emph{Levels}: \\begin{enumerate*}\n",
       "\\item 'Jan'\n",
       "\\item 'Feb'\n",
       "\\item 'Mar'\n",
       "\\item 'Apr'\n",
       "\\item 'May'\n",
       "\\item 'Jun'\n",
       "\\item 'Jul'\n",
       "\\item 'Aug'\n",
       "\\item 'Sep'\n",
       "\\item 'Oct'\n",
       "\\item 'Nov'\n",
       "\\item 'Dec'\n",
       "\\end{enumerate*}\n"
      ],
      "text/markdown": [
       "1. Dec\n",
       "2. Apr\n",
       "3. &lt;NA&gt;\n",
       "4. Mar\n",
       "\n",
       "\n",
       "\n",
       "**Levels**: 1. 'Jan'\n",
       "2. 'Feb'\n",
       "3. 'Mar'\n",
       "4. 'Apr'\n",
       "5. 'May'\n",
       "6. 'Jun'\n",
       "7. 'Jul'\n",
       "8. 'Aug'\n",
       "9. 'Sep'\n",
       "10. 'Oct'\n",
       "11. 'Nov'\n",
       "12. 'Dec'\n",
       "\n",
       "\n"
      ],
      "text/plain": [
       "[1] Dec  Apr  <NA> Mar \n",
       "Levels: Jan Feb Mar Apr May Jun Jul Aug Sep Oct Nov Dec"
      ]
     },
     "metadata": {},
     "output_type": "display_data"
    }
   ],
   "source": [
    "(y2 = factor(x2, levels=month_levels))"
   ]
  },
  {
   "cell_type": "code",
   "execution_count": 12,
   "metadata": {},
   "outputs": [
    {
     "data": {
      "text/html": [
       "<ol class=list-inline>\n",
       "\t<li>Dec</li>\n",
       "\t<li>Apr</li>\n",
       "\t<li>Jan</li>\n",
       "\t<li>Mar</li>\n",
       "</ol>\n",
       "\n",
       "<details>\n",
       "\t<summary style=display:list-item;cursor:pointer>\n",
       "\t\t<strong>Levels</strong>:\n",
       "\t</summary>\n",
       "\t<ol class=list-inline>\n",
       "\t\t<li>'Dec'</li>\n",
       "\t\t<li>'Apr'</li>\n",
       "\t\t<li>'Jan'</li>\n",
       "\t\t<li>'Mar'</li>\n",
       "\t</ol>\n",
       "</details>"
      ],
      "text/latex": [
       "\\begin{enumerate*}\n",
       "\\item Dec\n",
       "\\item Apr\n",
       "\\item Jan\n",
       "\\item Mar\n",
       "\\end{enumerate*}\n",
       "\n",
       "\\emph{Levels}: \\begin{enumerate*}\n",
       "\\item 'Dec'\n",
       "\\item 'Apr'\n",
       "\\item 'Jan'\n",
       "\\item 'Mar'\n",
       "\\end{enumerate*}\n"
      ],
      "text/markdown": [
       "1. Dec\n",
       "2. Apr\n",
       "3. Jan\n",
       "4. Mar\n",
       "\n",
       "\n",
       "\n",
       "**Levels**: 1. 'Dec'\n",
       "2. 'Apr'\n",
       "3. 'Jan'\n",
       "4. 'Mar'\n",
       "\n",
       "\n"
      ],
      "text/plain": [
       "[1] Dec Apr Jan Mar\n",
       "Levels: Dec Apr Jan Mar"
      ]
     },
     "metadata": {},
     "output_type": "display_data"
    }
   ],
   "source": [
    "(f1 = factor(x1, levels = unique(x1)))"
   ]
  },
  {
   "cell_type": "code",
   "execution_count": 13,
   "metadata": {},
   "outputs": [],
   "source": [
    "f2 = x1  %>% factor()  %>% fct_inorder()"
   ]
  },
  {
   "cell_type": "code",
   "execution_count": 14,
   "metadata": {},
   "outputs": [],
   "source": [
    "?fct_inorder()"
   ]
  },
  {
   "cell_type": "markdown",
   "metadata": {},
   "source": [
    "### 15.3 General Social Survey"
   ]
  },
  {
   "cell_type": "code",
   "execution_count": 15,
   "metadata": {},
   "outputs": [
    {
     "data": {
      "text/html": [
       "<table>\n",
       "<thead><tr><th scope=col>race</th><th scope=col>n</th></tr></thead>\n",
       "<tbody>\n",
       "\t<tr><td>Other</td><td> 1959</td></tr>\n",
       "\t<tr><td>Black</td><td> 3129</td></tr>\n",
       "\t<tr><td>White</td><td>16395</td></tr>\n",
       "</tbody>\n",
       "</table>\n"
      ],
      "text/latex": [
       "\\begin{tabular}{r|ll}\n",
       " race & n\\\\\n",
       "\\hline\n",
       "\t Other &  1959\\\\\n",
       "\t Black &  3129\\\\\n",
       "\t White & 16395\\\\\n",
       "\\end{tabular}\n"
      ],
      "text/markdown": [
       "\n",
       "| race | n |\n",
       "|---|---|\n",
       "| Other |  1959 |\n",
       "| Black |  3129 |\n",
       "| White | 16395 |\n",
       "\n"
      ],
      "text/plain": [
       "  race  n    \n",
       "1 Other  1959\n",
       "2 Black  3129\n",
       "3 White 16395"
      ]
     },
     "metadata": {},
     "output_type": "display_data"
    }
   ],
   "source": [
    "gss_cat  %>% count(race)"
   ]
  },
  {
   "cell_type": "code",
   "execution_count": 18,
   "metadata": {},
   "outputs": [
    {
     "data": {
      "image/png": "[encoded data removed]",
      "text/plain": [
       "plot without title"
      ]
     },
     "metadata": {},
     "output_type": "display_data"
    }
   ],
   "source": [
    "gss_cat %>% ggplot(aes(race)) + geom_bar() + \n",
    "    scale_x_discrete(drop = F)"
   ]
  },
  {
   "cell_type": "markdown",
   "metadata": {},
   "source": [
    "### 15.4 Modifying factor order"
   ]
  },
  {
   "cell_type": "code",
   "execution_count": 20,
   "metadata": {},
   "outputs": [],
   "source": [
    "relig_summary <- gss_cat %>% \n",
    "    group_by(relig)  %>% \n",
    "    summarize(\n",
    "        age = mean(age, na.rm = T),\n",
    "        tvhours = mean(tvhours, na.rm = T), \n",
    "        n = n())"
   ]
  },
  {
   "cell_type": "code",
   "execution_count": 21,
   "metadata": {},
   "outputs": [
    {
     "data": {
      "image/png": "[encoded data removed]",
      "text/plain": [
       "plot without title"
      ]
     },
     "metadata": {},
     "output_type": "display_data"
    }
   ],
   "source": [
    "relig_summary  %>% ggplot(aes(tvhours, relig)) + geom_point()"
   ]
  },
  {
   "cell_type": "code",
   "execution_count": 23,
   "metadata": {},
   "outputs": [
    {
     "data": {
      "image/png": "[encoded data removed]",
      "text/plain": [
       "plot without title"
      ]
     },
     "metadata": {},
     "output_type": "display_data"
    }
   ],
   "source": [
    "### plot상에서 factor 순서 변경하기\n",
    "relig_summary  %>% ggplot(aes(tvhours, fct_reorder(relig, tvhours))) + geom_point()"
   ]
  },
  {
   "cell_type": "code",
   "execution_count": 25,
   "metadata": {},
   "outputs": [],
   "source": [
    "rincom_summary = gss_cat %>% \n",
    "    group_by(rincome)  %>% \n",
    "    summarize(\n",
    "    age = mean(age, na.rm = T),\n",
    "    tvhours = mean(tvhours, na.rm = T),\n",
    "    n = n())"
   ]
  },
  {
   "cell_type": "code",
   "execution_count": 28,
   "metadata": {},
   "outputs": [
    {
     "data": {
      "image/png": "[encoded data removed]",
      "text/plain": [
       "plot without title"
      ]
     },
     "metadata": {},
     "output_type": "display_data"
    }
   ],
   "source": [
    "rincom_summary %>% ggplot(aes(age, fct_reorder(rincome, age))) + geom_point()"
   ]
  },
  {
   "cell_type": "code",
   "execution_count": 29,
   "metadata": {},
   "outputs": [
    {
     "data": {
      "image/png": "[encoded data removed]",
      "text/plain": [
       "plot without title"
      ]
     },
     "metadata": {},
     "output_type": "display_data"
    }
   ],
   "source": [
    "rincom_summary %>% ggplot(aes(age, fct_relevel(rincome, \"Not applicable\"))) + geom_point()"
   ]
  },
  {
   "cell_type": "code",
   "execution_count": 32,
   "metadata": {},
   "outputs": [],
   "source": [
    "by_age  <- gss_cat %>% \n",
    "    filter(!is.na(age))  %>% \n",
    "    count(age, marital)  %>% \n",
    "    group_by(age)  %>% \n",
    "    mutate(prop = n / sum(n))"
   ]
  },
  {
   "cell_type": "code",
   "execution_count": 34,
   "metadata": {},
   "outputs": [
    {
     "data": {
      "image/png": "[encoded data removed]",
      "text/plain": [
       "plot without title"
      ]
     },
     "metadata": {},
     "output_type": "display_data"
    }
   ],
   "source": [
    "by_age  %>% ggplot(aes(age, prop, color = marital)) + geom_line()"
   ]
  },
  {
   "cell_type": "code",
   "execution_count": 35,
   "metadata": {},
   "outputs": [
    {
     "data": {
      "image/png": "[encoded data removed]",
      "text/plain": [
       "plot without title"
      ]
     },
     "metadata": {},
     "output_type": "display_data"
    }
   ],
   "source": [
    "by_age  %>% ggplot(aes(age, prop, color = fct_reorder2(marital, age, prop))) + geom_line()"
   ]
  },
  {
   "cell_type": "code",
   "execution_count": 37,
   "metadata": {},
   "outputs": [
    {
     "data": {
      "image/png": "[encoded data removed]",
      "text/plain": [
       "plot without title"
      ]
     },
     "metadata": {},
     "output_type": "display_data"
    }
   ],
   "source": [
    "gss_cat  %>% \n",
    "    mutate(marital = marital  %>% fct_infreq()  %>% fct_rev())  %>% ggplot(aes(marital)) + geom_bar()"
   ]
  },
  {
   "cell_type": "markdown",
   "metadata": {},
   "source": [
    "### Modifying factor levels"
   ]
  },
  {
   "cell_type": "code",
   "execution_count": 40,
   "metadata": {},
   "outputs": [
    {
     "data": {
      "text/html": [
       "<table>\n",
       "<thead><tr><th scope=col>partyid</th><th scope=col>n</th></tr></thead>\n",
       "<tbody>\n",
       "\t<tr><td>No answer            </td><td> 154                 </td></tr>\n",
       "\t<tr><td>Don't know           </td><td>   1                 </td></tr>\n",
       "\t<tr><td>Other party          </td><td> 393                 </td></tr>\n",
       "\t<tr><td>Republican, strong   </td><td>2314                 </td></tr>\n",
       "\t<tr><td>Republican, weak     </td><td>3032                 </td></tr>\n",
       "\t<tr><td>Independent, near rep</td><td>1791                 </td></tr>\n",
       "\t<tr><td>Independent          </td><td>4119                 </td></tr>\n",
       "\t<tr><td>Independent, near dem</td><td>2499                 </td></tr>\n",
       "\t<tr><td>Democrat, weak       </td><td>3690                 </td></tr>\n",
       "\t<tr><td>Democrat, strong     </td><td>3490                 </td></tr>\n",
       "</tbody>\n",
       "</table>\n"
      ],
      "text/latex": [
       "\\begin{tabular}{r|ll}\n",
       " partyid & n\\\\\n",
       "\\hline\n",
       "\t No answer             &  154                 \\\\\n",
       "\t Don't know            &    1                 \\\\\n",
       "\t Other party           &  393                 \\\\\n",
       "\t Republican, strong    & 2314                 \\\\\n",
       "\t Republican, weak      & 3032                 \\\\\n",
       "\t Independent, near rep & 1791                 \\\\\n",
       "\t Independent           & 4119                 \\\\\n",
       "\t Independent, near dem & 2499                 \\\\\n",
       "\t Democrat, weak        & 3690                 \\\\\n",
       "\t Democrat, strong      & 3490                 \\\\\n",
       "\\end{tabular}\n"
      ],
      "text/markdown": [
       "\n",
       "| partyid | n |\n",
       "|---|---|\n",
       "| No answer             |  154                  |\n",
       "| Don't know            |    1                  |\n",
       "| Other party           |  393                  |\n",
       "| Republican, strong    | 2314                  |\n",
       "| Republican, weak      | 3032                  |\n",
       "| Independent, near rep | 1791                  |\n",
       "| Independent           | 4119                  |\n",
       "| Independent, near dem | 2499                  |\n",
       "| Democrat, weak        | 3690                  |\n",
       "| Democrat, strong      | 3490                  |\n",
       "\n"
      ],
      "text/plain": [
       "   partyid               n   \n",
       "1  No answer              154\n",
       "2  Don't know               1\n",
       "3  Other party            393\n",
       "4  Republican, strong    2314\n",
       "5  Republican, weak      3032\n",
       "6  Independent, near rep 1791\n",
       "7  Independent           4119\n",
       "8  Independent, near dem 2499\n",
       "9  Democrat, weak        3690\n",
       "10 Democrat, strong      3490"
      ]
     },
     "metadata": {},
     "output_type": "display_data"
    }
   ],
   "source": [
    "gss_cat %>%\n",
    "  mutate(partyid = fct_recode(partyid,\n",
    "    \"Republican, strong\"    = \"Strong republican\",\n",
    "    \"Republican, weak\"      = \"Not str republican\",\n",
    "    \"Independent, near rep\" = \"Ind,near rep\",\n",
    "    \"Independent, near dem\" = \"Ind,near dem\",\n",
    "    \"Democrat, weak\"        = \"Not str democrat\",\n",
    "    \"Democrat, strong\"      = \"Strong democrat\"\n",
    "  )) %>%\n",
    "  count(partyid)"
   ]
  },
  {
   "cell_type": "code",
   "execution_count": 42,
   "metadata": {},
   "outputs": [
    {
     "data": {
      "text/html": [
       "<table>\n",
       "<thead><tr><th scope=col>partyid</th><th scope=col>n</th></tr></thead>\n",
       "<tbody>\n",
       "\t<tr><td>Independent          </td><td>4119                 </td></tr>\n",
       "\t<tr><td>Democrat, weak       </td><td>3690                 </td></tr>\n",
       "\t<tr><td>Democrat, strong     </td><td>3490                 </td></tr>\n",
       "\t<tr><td>Republican, weak     </td><td>3032                 </td></tr>\n",
       "\t<tr><td>Independent, near dem</td><td>2499                 </td></tr>\n",
       "\t<tr><td>Republican, strong   </td><td>2314                 </td></tr>\n",
       "\t<tr><td>Independent, near rep</td><td>1791                 </td></tr>\n",
       "\t<tr><td>Other                </td><td> 548                 </td></tr>\n",
       "</tbody>\n",
       "</table>\n"
      ],
      "text/latex": [
       "\\begin{tabular}{r|ll}\n",
       " partyid & n\\\\\n",
       "\\hline\n",
       "\t Independent           & 4119                 \\\\\n",
       "\t Democrat, weak        & 3690                 \\\\\n",
       "\t Democrat, strong      & 3490                 \\\\\n",
       "\t Republican, weak      & 3032                 \\\\\n",
       "\t Independent, near dem & 2499                 \\\\\n",
       "\t Republican, strong    & 2314                 \\\\\n",
       "\t Independent, near rep & 1791                 \\\\\n",
       "\t Other                 &  548                 \\\\\n",
       "\\end{tabular}\n"
      ],
      "text/markdown": [
       "\n",
       "| partyid | n |\n",
       "|---|---|\n",
       "| Independent           | 4119                  |\n",
       "| Democrat, weak        | 3690                  |\n",
       "| Democrat, strong      | 3490                  |\n",
       "| Republican, weak      | 3032                  |\n",
       "| Independent, near dem | 2499                  |\n",
       "| Republican, strong    | 2314                  |\n",
       "| Independent, near rep | 1791                  |\n",
       "| Other                 |  548                  |\n",
       "\n"
      ],
      "text/plain": [
       "  partyid               n   \n",
       "1 Independent           4119\n",
       "2 Democrat, weak        3690\n",
       "3 Democrat, strong      3490\n",
       "4 Republican, weak      3032\n",
       "5 Independent, near dem 2499\n",
       "6 Republican, strong    2314\n",
       "7 Independent, near rep 1791\n",
       "8 Other                  548"
      ]
     },
     "metadata": {},
     "output_type": "display_data"
    }
   ],
   "source": [
    "gss_cat %>%\n",
    "  mutate(partyid = fct_recode(partyid,\n",
    "    \"Republican, strong\"    = \"Strong republican\",\n",
    "    \"Republican, weak\"      = \"Not str republican\",\n",
    "    \"Independent, near rep\" = \"Ind,near rep\",\n",
    "    \"Independent, near dem\" = \"Ind,near dem\",\n",
    "    \"Democrat, weak\"        = \"Not str democrat\",\n",
    "    \"Democrat, strong\"      = \"Strong democrat\",\n",
    "    \"Other\"                 = \"No answer\",\n",
    "    \"Other\"                 = \"Don't know\",\n",
    "    \"Other\"                 = \"Other party\"\n",
    "  )) %>%\n",
    "  count(partyid, sort =T)"
   ]
  },
  {
   "cell_type": "code",
   "execution_count": 47,
   "metadata": {},
   "outputs": [
    {
     "data": {
      "text/html": [
       "<table>\n",
       "<thead><tr><th scope=col>partyid</th><th scope=col>n</th></tr></thead>\n",
       "<tbody>\n",
       "\t<tr><td>other</td><td> 548 </td></tr>\n",
       "\t<tr><td>rep  </td><td>5346 </td></tr>\n",
       "\t<tr><td>ind  </td><td>8409 </td></tr>\n",
       "\t<tr><td>dem  </td><td>7180 </td></tr>\n",
       "</tbody>\n",
       "</table>\n"
      ],
      "text/latex": [
       "\\begin{tabular}{r|ll}\n",
       " partyid & n\\\\\n",
       "\\hline\n",
       "\t other &  548 \\\\\n",
       "\t rep   & 5346 \\\\\n",
       "\t ind   & 8409 \\\\\n",
       "\t dem   & 7180 \\\\\n",
       "\\end{tabular}\n"
      ],
      "text/markdown": [
       "\n",
       "| partyid | n |\n",
       "|---|---|\n",
       "| other |  548  |\n",
       "| rep   | 5346  |\n",
       "| ind   | 8409  |\n",
       "| dem   | 7180  |\n",
       "\n"
      ],
      "text/plain": [
       "  partyid n   \n",
       "1 other    548\n",
       "2 rep     5346\n",
       "3 ind     8409\n",
       "4 dem     7180"
      ]
     },
     "metadata": {},
     "output_type": "display_data"
    }
   ],
   "source": [
    "gss_cat  %>% \n",
    "    mutate(partyid = fct_collapse(partyid,\n",
    "                                  other = c(\"No answer\", \"Don't know\", \"Other party\"),\n",
    "                                  rep = c(\"Strong republican\", \"Not str republican\"),\n",
    "                                  ind = c(\"Ind,near rep\", \"Independent\", \"Ind,near dem\"), \n",
    "                                    dem = c(\"Not str democrat\", \"Strong democrat\")))  %>% \n",
    "count(partyid)"
   ]
  }
 ],
 "metadata": {
  "kernelspec": {
   "display_name": "R",
   "language": "R",
   "name": "ir"
  },
  "language_info": {
   "codemirror_mode": "r",
   "file_extension": ".r",
   "mimetype": "text/x-r-source",
   "name": "R",
   "pygments_lexer": "r",
   "version": "3.6.1"
  }
 },
 "nbformat": 4,
 "nbformat_minor": 2
}
