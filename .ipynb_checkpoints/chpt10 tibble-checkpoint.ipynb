{
 "cells": [
  {
   "cell_type": "code",
   "execution_count": 8,
   "metadata": {},
   "outputs": [
    {
     "name": "stdout",
     "output_type": "stream",
     "text": [
      "package 'lubridate' successfully unpacked and MD5 sums checked\n"
     ]
    },
    {
     "name": "stderr",
     "output_type": "stream",
     "text": [
      "Warning message:\n",
      "\"cannot remove prior installation of package 'lubridate'\""
     ]
    },
    {
     "name": "stdout",
     "output_type": "stream",
     "text": [
      "\n",
      "The downloaded binary packages are in\n",
      "\tC:\\Users\\griff\\AppData\\Local\\Temp\\Rtmpoz9FiN\\downloaded_packages\n"
     ]
    }
   ],
   "source": [
    "library(tidyverse)"
   ]
  },
  {
   "cell_type": "code",
   "execution_count": 3,
   "metadata": {},
   "outputs": [
    {
     "data": {
      "text/html": [
       "<table>\n",
       "<thead><tr><th scope=col>x</th><th scope=col>y</th><th scope=col>z</th></tr></thead>\n",
       "<tbody>\n",
       "\t<tr><td>1 </td><td>1 </td><td> 2</td></tr>\n",
       "\t<tr><td>2 </td><td>1 </td><td> 5</td></tr>\n",
       "\t<tr><td>3 </td><td>1 </td><td>10</td></tr>\n",
       "\t<tr><td>4 </td><td>1 </td><td>17</td></tr>\n",
       "\t<tr><td>5 </td><td>1 </td><td>26</td></tr>\n",
       "</tbody>\n",
       "</table>\n"
      ],
      "text/latex": [
       "\\begin{tabular}{r|lll}\n",
       " x & y & z\\\\\n",
       "\\hline\n",
       "\t 1  & 1  &  2\\\\\n",
       "\t 2  & 1  &  5\\\\\n",
       "\t 3  & 1  & 10\\\\\n",
       "\t 4  & 1  & 17\\\\\n",
       "\t 5  & 1  & 26\\\\\n",
       "\\end{tabular}\n"
      ],
      "text/markdown": [
       "\n",
       "x | y | z | \n",
       "|---|---|---|---|---|\n",
       "| 1  | 1  |  2 | \n",
       "| 2  | 1  |  5 | \n",
       "| 3  | 1  | 10 | \n",
       "| 4  | 1  | 17 | \n",
       "| 5  | 1  | 26 | \n",
       "\n",
       "\n"
      ],
      "text/plain": [
       "  x y z \n",
       "1 1 1  2\n",
       "2 2 1  5\n",
       "3 3 1 10\n",
       "4 4 1 17\n",
       "5 5 1 26"
      ]
     },
     "metadata": {},
     "output_type": "display_data"
    }
   ],
   "source": [
    "tibble(\n",
    "x = 1:5,\n",
    "y = 1,\n",
    "z = x^2 + y)"
   ]
  },
  {
   "cell_type": "code",
   "execution_count": 5,
   "metadata": {},
   "outputs": [
    {
     "data": {
      "text/html": [
       "<table>\n",
       "<thead><tr><th scope=col>:)</th><th scope=col> </th><th scope=col>2000</th></tr></thead>\n",
       "<tbody>\n",
       "\t<tr><td>스마일  </td><td>스페이스</td><td>숫자    </td></tr>\n",
       "</tbody>\n",
       "</table>\n"
      ],
      "text/latex": [
       "\\begin{tabular}{r|lll}\n",
       " :) &   & 2000\\\\\n",
       "\\hline\n",
       "\t 스마일   & 스페이스 & 숫자    \\\\\n",
       "\\end{tabular}\n"
      ],
      "text/markdown": [
       "\n",
       ":) |   | 2000 | \n",
       "|---|\n",
       "| 스마일   | 스페이스 | 숫자     | \n",
       "\n",
       "\n"
      ],
      "text/plain": [
       "  :)              2000\n",
       "1 스마일 스페이스 숫자"
      ]
     },
     "metadata": {},
     "output_type": "display_data"
    }
   ],
   "source": [
    "tb = tibble(\n",
    "\":)\" = \"스마일\",\n",
    "\" \" = \"스페이스\",\n",
    "'2000' = \"숫자\")\n",
    "tb"
   ]
  },
  {
   "cell_type": "code",
   "execution_count": 6,
   "metadata": {},
   "outputs": [
    {
     "data": {
      "text/html": [
       "<table>\n",
       "<thead><tr><th scope=col>x</th><th scope=col>y</th><th scope=col>z</th></tr></thead>\n",
       "<tbody>\n",
       "\t<tr><td>a  </td><td>2  </td><td>3.6</td></tr>\n",
       "\t<tr><td>b  </td><td>1  </td><td>8.5</td></tr>\n",
       "</tbody>\n",
       "</table>\n"
      ],
      "text/latex": [
       "\\begin{tabular}{r|lll}\n",
       " x & y & z\\\\\n",
       "\\hline\n",
       "\t a   & 2   & 3.6\\\\\n",
       "\t b   & 1   & 8.5\\\\\n",
       "\\end{tabular}\n"
      ],
      "text/markdown": [
       "\n",
       "x | y | z | \n",
       "|---|---|\n",
       "| a   | 2   | 3.6 | \n",
       "| b   | 1   | 8.5 | \n",
       "\n",
       "\n"
      ],
      "text/plain": [
       "  x y z  \n",
       "1 a 2 3.6\n",
       "2 b 1 8.5"
      ]
     },
     "metadata": {},
     "output_type": "display_data"
    }
   ],
   "source": [
    "tribble(\n",
    "~x,~y,~z,\n",
    "# --|--|====\n",
    "\"a\", 2, 3.6,\n",
    "\"b\", 1, 8.5)"
   ]
  },
  {
   "cell_type": "code",
   "execution_count": 10,
   "metadata": {},
   "outputs": [
    {
     "data": {
      "text/html": [
       "<table>\n",
       "<thead><tr><th scope=col>a</th><th scope=col>b</th><th scope=col>c</th><th scope=col>d</th><th scope=col>e</th></tr></thead>\n",
       "<tbody>\n",
       "\t<tr><td>2019-10-12 15:13:31</td><td>2019-10-28         </td><td>1                  </td><td>0.1211054          </td><td>o                  </td></tr>\n",
       "\t<tr><td>2019-10-12 17:49:16</td><td>2019-10-31         </td><td>2                  </td><td>0.6215944          </td><td>o                  </td></tr>\n",
       "\t<tr><td>2019-10-12 00:21:10</td><td>2019-10-20         </td><td>3                  </td><td>0.9511675          </td><td>u                  </td></tr>\n",
       "\t<tr><td>2019-10-12 00:39:23</td><td>2019-10-29         </td><td>4                  </td><td>0.6233121          </td><td>d                  </td></tr>\n",
       "\t<tr><td>2019-10-12 15:40:04</td><td>2019-10-19         </td><td>5                  </td><td>0.5677481          </td><td>h                  </td></tr>\n",
       "\t<tr><td>2019-10-12 08:00:27</td><td>2019-10-30         </td><td>6                  </td><td>0.4568843          </td><td>b                  </td></tr>\n",
       "</tbody>\n",
       "</table>\n"
      ],
      "text/latex": [
       "\\begin{tabular}{r|lllll}\n",
       " a & b & c & d & e\\\\\n",
       "\\hline\n",
       "\t 2019-10-12 15:13:31 & 2019-10-28          & 1                   & 0.1211054           & o                  \\\\\n",
       "\t 2019-10-12 17:49:16 & 2019-10-31          & 2                   & 0.6215944           & o                  \\\\\n",
       "\t 2019-10-12 00:21:10 & 2019-10-20          & 3                   & 0.9511675           & u                  \\\\\n",
       "\t 2019-10-12 00:39:23 & 2019-10-29          & 4                   & 0.6233121           & d                  \\\\\n",
       "\t 2019-10-12 15:40:04 & 2019-10-19          & 5                   & 0.5677481           & h                  \\\\\n",
       "\t 2019-10-12 08:00:27 & 2019-10-30          & 6                   & 0.4568843           & b                  \\\\\n",
       "\\end{tabular}\n"
      ],
      "text/markdown": [
       "\n",
       "a | b | c | d | e | \n",
       "|---|---|---|---|---|---|\n",
       "| 2019-10-12 15:13:31 | 2019-10-28          | 1                   | 0.1211054           | o                   | \n",
       "| 2019-10-12 17:49:16 | 2019-10-31          | 2                   | 0.6215944           | o                   | \n",
       "| 2019-10-12 00:21:10 | 2019-10-20          | 3                   | 0.9511675           | u                   | \n",
       "| 2019-10-12 00:39:23 | 2019-10-29          | 4                   | 0.6233121           | d                   | \n",
       "| 2019-10-12 15:40:04 | 2019-10-19          | 5                   | 0.5677481           | h                   | \n",
       "| 2019-10-12 08:00:27 | 2019-10-30          | 6                   | 0.4568843           | b                   | \n",
       "\n",
       "\n"
      ],
      "text/plain": [
       "  a                   b          c d         e\n",
       "1 2019-10-12 15:13:31 2019-10-28 1 0.1211054 o\n",
       "2 2019-10-12 17:49:16 2019-10-31 2 0.6215944 o\n",
       "3 2019-10-12 00:21:10 2019-10-20 3 0.9511675 u\n",
       "4 2019-10-12 00:39:23 2019-10-29 4 0.6233121 d\n",
       "5 2019-10-12 15:40:04 2019-10-19 5 0.5677481 h\n",
       "6 2019-10-12 08:00:27 2019-10-30 6 0.4568843 b"
      ]
     },
     "metadata": {},
     "output_type": "display_data"
    }
   ],
   "source": [
    "tibble(\n",
    "a = lubridate::now() + runif(1e3)*86400,\n",
    "b = lubridate::today() + runif(1e3)*30,\n",
    "c = 1:1e3,\n",
    "d = runif(1e3),\n",
    "e = sample(letters, 1e3, replace = T))  %>% head()"
   ]
  },
  {
   "cell_type": "code",
   "execution_count": 12,
   "metadata": {},
   "outputs": [
    {
     "data": {
      "text/html": [
       "<table>\n",
       "<thead><tr><th scope=col>Sepal.Length</th><th scope=col>Sepal.Width</th><th scope=col>Petal.Length</th><th scope=col>Petal.Width</th><th scope=col>Species</th></tr></thead>\n",
       "<tbody>\n",
       "\t<tr><td>5.1   </td><td>3.5   </td><td>1.4   </td><td>0.2   </td><td>setosa</td></tr>\n",
       "\t<tr><td>4.9   </td><td>3.0   </td><td>1.4   </td><td>0.2   </td><td>setosa</td></tr>\n",
       "\t<tr><td>4.7   </td><td>3.2   </td><td>1.3   </td><td>0.2   </td><td>setosa</td></tr>\n",
       "\t<tr><td>4.6   </td><td>3.1   </td><td>1.5   </td><td>0.2   </td><td>setosa</td></tr>\n",
       "\t<tr><td>5.0   </td><td>3.6   </td><td>1.4   </td><td>0.2   </td><td>setosa</td></tr>\n",
       "\t<tr><td>5.4   </td><td>3.9   </td><td>1.7   </td><td>0.4   </td><td>setosa</td></tr>\n",
       "</tbody>\n",
       "</table>\n"
      ],
      "text/latex": [
       "\\begin{tabular}{r|lllll}\n",
       " Sepal.Length & Sepal.Width & Petal.Length & Petal.Width & Species\\\\\n",
       "\\hline\n",
       "\t 5.1    & 3.5    & 1.4    & 0.2    & setosa\\\\\n",
       "\t 4.9    & 3.0    & 1.4    & 0.2    & setosa\\\\\n",
       "\t 4.7    & 3.2    & 1.3    & 0.2    & setosa\\\\\n",
       "\t 4.6    & 3.1    & 1.5    & 0.2    & setosa\\\\\n",
       "\t 5.0    & 3.6    & 1.4    & 0.2    & setosa\\\\\n",
       "\t 5.4    & 3.9    & 1.7    & 0.4    & setosa\\\\\n",
       "\\end{tabular}\n"
      ],
      "text/markdown": [
       "\n",
       "Sepal.Length | Sepal.Width | Petal.Length | Petal.Width | Species | \n",
       "|---|---|---|---|---|---|\n",
       "| 5.1    | 3.5    | 1.4    | 0.2    | setosa | \n",
       "| 4.9    | 3.0    | 1.4    | 0.2    | setosa | \n",
       "| 4.7    | 3.2    | 1.3    | 0.2    | setosa | \n",
       "| 4.6    | 3.1    | 1.5    | 0.2    | setosa | \n",
       "| 5.0    | 3.6    | 1.4    | 0.2    | setosa | \n",
       "| 5.4    | 3.9    | 1.7    | 0.4    | setosa | \n",
       "\n",
       "\n"
      ],
      "text/plain": [
       "  Sepal.Length Sepal.Width Petal.Length Petal.Width Species\n",
       "1 5.1          3.5         1.4          0.2         setosa \n",
       "2 4.9          3.0         1.4          0.2         setosa \n",
       "3 4.7          3.2         1.3          0.2         setosa \n",
       "4 4.6          3.1         1.5          0.2         setosa \n",
       "5 5.0          3.6         1.4          0.2         setosa \n",
       "6 5.4          3.9         1.7          0.4         setosa "
      ]
     },
     "metadata": {},
     "output_type": "display_data"
    }
   ],
   "source": [
    "as_tibble(iris)  %>% head()"
   ]
  },
  {
   "cell_type": "code",
   "execution_count": 15,
   "metadata": {},
   "outputs": [
    {
     "name": "stdout",
     "output_type": "stream",
     "text": [
      "# A\n",
      "#   tibble:\n",
      "#   336,776\n",
      "#   x 19\n",
      "    year\n",
      "   <int>\n",
      " 1  2013\n",
      " 2  2013\n",
      " 3  2013\n",
      " 4  2013\n",
      " 5  2013\n",
      " 6  2013\n",
      " 7  2013\n",
      " 8  2013\n",
      " 9  2013\n",
      "10  2013\n",
      "# ...\n",
      "#   with\n",
      "#   3.368e+05\n",
      "#   more\n",
      "#   rows,\n",
      "#   and\n",
      "#   18\n",
      "#   more\n",
      "#   variables:\n",
      "#   month <int>,\n",
      "#   day <int>,\n",
      "#   dep_time <int>,\n",
      "#   sched_dep_time <int>,\n",
      "#   dep_delay <dbl>,\n",
      "#   arr_time <int>,\n",
      "#   sched_arr_time <int>,\n",
      "#   arr_delay <dbl>,\n",
      "#   carrier <chr>,\n",
      "#   flight <int>,\n",
      "#   tailnum <chr>,\n",
      "#   origin <chr>,\n",
      "#   dest <chr>,\n",
      "#   air_time <dbl>,\n",
      "#   distance <dbl>,\n",
      "#   hour <dbl>,\n",
      "#   minute <dbl>,\n",
      "#   time_hour <dttm>\n"
     ]
    }
   ],
   "source": [
    "nycflights13::flights %>% print(n = 10, width = 10)"
   ]
  },
  {
   "cell_type": "code",
   "execution_count": 17,
   "metadata": {},
   "outputs": [
    {
     "data": {
      "text/html": [
       "<ol class=list-inline>\n",
       "\t<li>0.287369630066678</li>\n",
       "\t<li>0.82788118510507</li>\n",
       "\t<li>0.000730389496311545</li>\n",
       "\t<li>0.557638690108433</li>\n",
       "\t<li>0.969328553415835</li>\n",
       "</ol>\n"
      ],
      "text/latex": [
       "\\begin{enumerate*}\n",
       "\\item 0.287369630066678\n",
       "\\item 0.82788118510507\n",
       "\\item 0.000730389496311545\n",
       "\\item 0.557638690108433\n",
       "\\item 0.969328553415835\n",
       "\\end{enumerate*}\n"
      ],
      "text/markdown": [
       "1. 0.287369630066678\n",
       "2. 0.82788118510507\n",
       "3. 0.000730389496311545\n",
       "4. 0.557638690108433\n",
       "5. 0.969328553415835\n",
       "\n",
       "\n"
      ],
      "text/plain": [
       "[1] 0.2873696301 0.8278811851 0.0007303895 0.5576386901 0.9693285534"
      ]
     },
     "metadata": {},
     "output_type": "display_data"
    }
   ],
   "source": [
    "df = tibble(\n",
    "x = runif(5),\n",
    "y = rnorm(5))\n",
    "df$x"
   ]
  },
  {
   "cell_type": "code",
   "execution_count": 18,
   "metadata": {},
   "outputs": [
    {
     "data": {
      "text/html": [
       "<ol class=list-inline>\n",
       "\t<li>0.287369630066678</li>\n",
       "\t<li>0.82788118510507</li>\n",
       "\t<li>0.000730389496311545</li>\n",
       "\t<li>0.557638690108433</li>\n",
       "\t<li>0.969328553415835</li>\n",
       "</ol>\n"
      ],
      "text/latex": [
       "\\begin{enumerate*}\n",
       "\\item 0.287369630066678\n",
       "\\item 0.82788118510507\n",
       "\\item 0.000730389496311545\n",
       "\\item 0.557638690108433\n",
       "\\item 0.969328553415835\n",
       "\\end{enumerate*}\n"
      ],
      "text/markdown": [
       "1. 0.287369630066678\n",
       "2. 0.82788118510507\n",
       "3. 0.000730389496311545\n",
       "4. 0.557638690108433\n",
       "5. 0.969328553415835\n",
       "\n",
       "\n"
      ],
      "text/plain": [
       "[1] 0.2873696301 0.8278811851 0.0007303895 0.5576386901 0.9693285534"
      ]
     },
     "metadata": {},
     "output_type": "display_data"
    }
   ],
   "source": [
    "df[[\"x\"]]"
   ]
  },
  {
   "cell_type": "code",
   "execution_count": 19,
   "metadata": {},
   "outputs": [
    {
     "data": {
      "text/html": [
       "<ol class=list-inline>\n",
       "\t<li>0.287369630066678</li>\n",
       "\t<li>0.82788118510507</li>\n",
       "\t<li>0.000730389496311545</li>\n",
       "\t<li>0.557638690108433</li>\n",
       "\t<li>0.969328553415835</li>\n",
       "</ol>\n"
      ],
      "text/latex": [
       "\\begin{enumerate*}\n",
       "\\item 0.287369630066678\n",
       "\\item 0.82788118510507\n",
       "\\item 0.000730389496311545\n",
       "\\item 0.557638690108433\n",
       "\\item 0.969328553415835\n",
       "\\end{enumerate*}\n"
      ],
      "text/markdown": [
       "1. 0.287369630066678\n",
       "2. 0.82788118510507\n",
       "3. 0.000730389496311545\n",
       "4. 0.557638690108433\n",
       "5. 0.969328553415835\n",
       "\n",
       "\n"
      ],
      "text/plain": [
       "[1] 0.2873696301 0.8278811851 0.0007303895 0.5576386901 0.9693285534"
      ]
     },
     "metadata": {},
     "output_type": "display_data"
    }
   ],
   "source": [
    "df %>% .$x"
   ]
  },
  {
   "cell_type": "code",
   "execution_count": 21,
   "metadata": {},
   "outputs": [
    {
     "data": {
      "text/html": [
       "<ol class=list-inline>\n",
       "\t<li>0.287369630066678</li>\n",
       "\t<li>0.82788118510507</li>\n",
       "\t<li>0.000730389496311545</li>\n",
       "\t<li>0.557638690108433</li>\n",
       "\t<li>0.969328553415835</li>\n",
       "</ol>\n"
      ],
      "text/latex": [
       "\\begin{enumerate*}\n",
       "\\item 0.287369630066678\n",
       "\\item 0.82788118510507\n",
       "\\item 0.000730389496311545\n",
       "\\item 0.557638690108433\n",
       "\\item 0.969328553415835\n",
       "\\end{enumerate*}\n"
      ],
      "text/markdown": [
       "1. 0.287369630066678\n",
       "2. 0.82788118510507\n",
       "3. 0.000730389496311545\n",
       "4. 0.557638690108433\n",
       "5. 0.969328553415835\n",
       "\n",
       "\n"
      ],
      "text/plain": [
       "[1] 0.2873696301 0.8278811851 0.0007303895 0.5576386901 0.9693285534"
      ]
     },
     "metadata": {},
     "output_type": "display_data"
    }
   ],
   "source": [
    "df  %>% .[[\"x\"]]"
   ]
  },
  {
   "cell_type": "code",
   "execution_count": null,
   "metadata": {},
   "outputs": [],
   "source": []
  },
  {
   "cell_type": "code",
   "execution_count": null,
   "metadata": {},
   "outputs": [],
   "source": []
  },
  {
   "cell_type": "code",
   "execution_count": null,
   "metadata": {},
   "outputs": [],
   "source": []
  },
  {
   "cell_type": "code",
   "execution_count": null,
   "metadata": {},
   "outputs": [],
   "source": []
  },
  {
   "cell_type": "code",
   "execution_count": null,
   "metadata": {},
   "outputs": [],
   "source": []
  },
  {
   "cell_type": "code",
   "execution_count": null,
   "metadata": {},
   "outputs": [],
   "source": []
  },
  {
   "cell_type": "code",
   "execution_count": null,
   "metadata": {},
   "outputs": [],
   "source": []
  },
  {
   "cell_type": "code",
   "execution_count": null,
   "metadata": {},
   "outputs": [],
   "source": []
  },
  {
   "cell_type": "code",
   "execution_count": null,
   "metadata": {},
   "outputs": [],
   "source": []
  },
  {
   "cell_type": "code",
   "execution_count": null,
   "metadata": {},
   "outputs": [],
   "source": []
  },
  {
   "cell_type": "code",
   "execution_count": null,
   "metadata": {},
   "outputs": [],
   "source": []
  },
  {
   "cell_type": "code",
   "execution_count": null,
   "metadata": {},
   "outputs": [],
   "source": []
  },
  {
   "cell_type": "code",
   "execution_count": null,
   "metadata": {},
   "outputs": [],
   "source": []
  },
  {
   "cell_type": "code",
   "execution_count": null,
   "metadata": {},
   "outputs": [],
   "source": []
  },
  {
   "cell_type": "code",
   "execution_count": null,
   "metadata": {},
   "outputs": [],
   "source": []
  },
  {
   "cell_type": "code",
   "execution_count": null,
   "metadata": {},
   "outputs": [],
   "source": []
  },
  {
   "cell_type": "code",
   "execution_count": null,
   "metadata": {},
   "outputs": [],
   "source": []
  },
  {
   "cell_type": "code",
   "execution_count": null,
   "metadata": {},
   "outputs": [],
   "source": []
  },
  {
   "cell_type": "code",
   "execution_count": null,
   "metadata": {},
   "outputs": [],
   "source": []
  },
  {
   "cell_type": "code",
   "execution_count": null,
   "metadata": {},
   "outputs": [],
   "source": []
  },
  {
   "cell_type": "code",
   "execution_count": null,
   "metadata": {},
   "outputs": [],
   "source": []
  },
  {
   "cell_type": "code",
   "execution_count": null,
   "metadata": {},
   "outputs": [],
   "source": []
  },
  {
   "cell_type": "code",
   "execution_count": null,
   "metadata": {},
   "outputs": [],
   "source": []
  },
  {
   "cell_type": "code",
   "execution_count": null,
   "metadata": {},
   "outputs": [],
   "source": []
  },
  {
   "cell_type": "code",
   "execution_count": null,
   "metadata": {},
   "outputs": [],
   "source": []
  },
  {
   "cell_type": "code",
   "execution_count": null,
   "metadata": {},
   "outputs": [],
   "source": []
  },
  {
   "cell_type": "code",
   "execution_count": null,
   "metadata": {},
   "outputs": [],
   "source": []
  },
  {
   "cell_type": "code",
   "execution_count": null,
   "metadata": {},
   "outputs": [],
   "source": []
  },
  {
   "cell_type": "code",
   "execution_count": null,
   "metadata": {},
   "outputs": [],
   "source": []
  },
  {
   "cell_type": "code",
   "execution_count": null,
   "metadata": {},
   "outputs": [],
   "source": []
  },
  {
   "cell_type": "code",
   "execution_count": null,
   "metadata": {},
   "outputs": [],
   "source": []
  },
  {
   "cell_type": "code",
   "execution_count": null,
   "metadata": {},
   "outputs": [],
   "source": []
  },
  {
   "cell_type": "code",
   "execution_count": null,
   "metadata": {},
   "outputs": [],
   "source": []
  },
  {
   "cell_type": "code",
   "execution_count": null,
   "metadata": {},
   "outputs": [],
   "source": []
  },
  {
   "cell_type": "code",
   "execution_count": null,
   "metadata": {},
   "outputs": [],
   "source": []
  },
  {
   "cell_type": "code",
   "execution_count": null,
   "metadata": {},
   "outputs": [],
   "source": []
  },
  {
   "cell_type": "code",
   "execution_count": null,
   "metadata": {},
   "outputs": [],
   "source": []
  },
  {
   "cell_type": "code",
   "execution_count": null,
   "metadata": {},
   "outputs": [],
   "source": []
  },
  {
   "cell_type": "code",
   "execution_count": null,
   "metadata": {},
   "outputs": [],
   "source": []
  },
  {
   "cell_type": "code",
   "execution_count": null,
   "metadata": {},
   "outputs": [],
   "source": []
  },
  {
   "cell_type": "code",
   "execution_count": null,
   "metadata": {},
   "outputs": [],
   "source": []
  },
  {
   "cell_type": "code",
   "execution_count": null,
   "metadata": {},
   "outputs": [],
   "source": []
  },
  {
   "cell_type": "code",
   "execution_count": null,
   "metadata": {},
   "outputs": [],
   "source": []
  }
 ],
 "metadata": {
  "kernelspec": {
   "display_name": "R 3.6",
   "language": "R",
   "name": "ir36"
  },
  "language_info": {
   "codemirror_mode": "r",
   "file_extension": ".r",
   "mimetype": "text/x-r-source",
   "name": "R",
   "pygments_lexer": "r",
   "version": "3.4.3"
  }
 },
 "nbformat": 4,
 "nbformat_minor": 2
}
