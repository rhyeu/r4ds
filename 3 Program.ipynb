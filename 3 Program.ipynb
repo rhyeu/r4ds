{
 "cells": [
  {
   "cell_type": "code",
   "execution_count": 2,
   "metadata": {},
   "outputs": [
    {
     "name": "stderr",
     "output_type": "stream",
     "text": [
      "Registered S3 methods overwritten by 'ggplot2':\n",
      "  method         from \n",
      "  [.quosures     rlang\n",
      "  c.quosures     rlang\n",
      "  print.quosures rlang\n",
      "Registered S3 method overwritten by 'rvest':\n",
      "  method            from\n",
      "  read_xml.response xml2\n",
      "-- Attaching packages --------------------------------------- tidyverse 1.2.1 --\n",
      "√ ggplot2 3.1.1       √ purrr   0.3.2  \n",
      "√ tibble  2.1.1       √ dplyr   0.8.0.1\n",
      "√ tidyr   0.8.3       √ stringr 1.4.0  \n",
      "√ readr   1.3.1       √ forcats 0.4.0  \n",
      "-- Conflicts ------------------------------------------ tidyverse_conflicts() --\n",
      "x dplyr::filter() masks stats::filter()\n",
      "x dplyr::lag()    masks stats::lag()\n"
     ]
    }
   ],
   "source": [
    "library(tidyverse)"
   ]
  },
  {
   "cell_type": "code",
   "execution_count": 3,
   "metadata": {},
   "outputs": [
    {
     "name": "stdout",
     "output_type": "stream",
     "text": [
      " NULL\n"
     ]
    },
    {
     "data": {
      "image/png": "[encoded data removed]",
      "text/plain": [
       "plot without title"
      ]
     },
     "metadata": {},
     "output_type": "display_data"
    }
   ],
   "source": []
  },
  {
   "cell_type": "code",
   "execution_count": 5,
   "metadata": {},
   "outputs": [],
   "source": [
    "df <- tibble(\n",
    "  a = rnorm(10),\n",
    "  b = rnorm(10),\n",
    "  c = rnorm(10),\n",
    "  d = rnorm(10)\n",
    ")"
   ]
  },
  {
   "cell_type": "code",
   "execution_count": 9,
   "metadata": {},
   "outputs": [
    {
     "data": {
      "text/html": [
       "<dl class=dl-horizontal>\n",
       "\t<dt>a</dt>\n",
       "\t\t<dd>0.0934679947480029</dd>\n",
       "\t<dt>b</dt>\n",
       "\t\t<dd>0.289509175935878</dd>\n",
       "\t<dt>c</dt>\n",
       "\t\t<dd>-0.0426121092357119</dd>\n",
       "\t<dt>d</dt>\n",
       "\t\t<dd>0.429000441265615</dd>\n",
       "</dl>\n"
      ],
      "text/latex": [
       "\\begin{description*}\n",
       "\\item[a] 0.0934679947480029\n",
       "\\item[b] 0.289509175935878\n",
       "\\item[c] -0.0426121092357119\n",
       "\\item[d] 0.429000441265615\n",
       "\\end{description*}\n"
      ],
      "text/markdown": [
       "a\n",
       ":   0.0934679947480029b\n",
       ":   0.289509175935878c\n",
       ":   -0.0426121092357119d\n",
       ":   0.429000441265615\n",
       "\n"
      ],
      "text/plain": [
       "          a           b           c           d \n",
       " 0.09346799  0.28950918 -0.04261211  0.42900044 "
      ]
     },
     "metadata": {},
     "output_type": "display_data"
    }
   ],
   "source": [
    "map_dbl(df, mean)"
   ]
  },
  {
   "cell_type": "code",
   "execution_count": 13,
   "metadata": {},
   "outputs": [
    {
     "data": {
      "text/html": [
       "<dl class=dl-horizontal>\n",
       "\t<dt>a</dt>\n",
       "\t\t<dd>0.093</dd>\n",
       "\t<dt>b</dt>\n",
       "\t\t<dd>0.29</dd>\n",
       "\t<dt>c</dt>\n",
       "\t\t<dd>-0.043</dd>\n",
       "\t<dt>d</dt>\n",
       "\t\t<dd>0.429</dd>\n",
       "</dl>\n"
      ],
      "text/latex": [
       "\\begin{description*}\n",
       "\\item[a] 0.093\n",
       "\\item[b] 0.29\n",
       "\\item[c] -0.043\n",
       "\\item[d] 0.429\n",
       "\\end{description*}\n"
      ],
      "text/markdown": [
       "a\n",
       ":   0.093b\n",
       ":   0.29c\n",
       ":   -0.043d\n",
       ":   0.429\n",
       "\n"
      ],
      "text/plain": [
       "     a      b      c      d \n",
       " 0.093  0.290 -0.043  0.429 "
      ]
     },
     "metadata": {},
     "output_type": "display_data"
    }
   ],
   "source": [
    "df  %>% map_dbl(mean)  %>% round(3)"
   ]
  },
  {
   "cell_type": "code",
   "execution_count": 15,
   "metadata": {},
   "outputs": [
    {
     "data": {
      "text/html": [
       "<dl class=dl-horizontal>\n",
       "\t<dt>x</dt>\n",
       "\t\t<dd>3</dd>\n",
       "\t<dt>y</dt>\n",
       "\t\t<dd>2</dd>\n",
       "</dl>\n"
      ],
      "text/latex": [
       "\\begin{description*}\n",
       "\\item[x] 3\n",
       "\\item[y] 2\n",
       "\\end{description*}\n"
      ],
      "text/markdown": [
       "x\n",
       ":   3y\n",
       ":   2\n",
       "\n"
      ],
      "text/plain": [
       "x y \n",
       "3 2 "
      ]
     },
     "metadata": {},
     "output_type": "display_data"
    }
   ],
   "source": [
    "z <- list(x = 1:3, y = 4:5)\n",
    "z  %>% map_int(length)"
   ]
  },
  {
   "cell_type": "code",
   "execution_count": 16,
   "metadata": {},
   "outputs": [],
   "source": [
    "models <- mtcars  %>% \n",
    "    split(.$cyl)  %>% \n",
    "    map(function(df) lm(mpg~wt, data=df))"
   ]
  },
  {
   "cell_type": "code",
   "execution_count": 18,
   "metadata": {},
   "outputs": [
    {
     "data": {
      "text/html": [
       "<dl class=dl-horizontal>\n",
       "\t<dt>4</dt>\n",
       "\t\t<dd>0.5086</dd>\n",
       "\t<dt>6</dt>\n",
       "\t\t<dd>0.4645</dd>\n",
       "\t<dt>8</dt>\n",
       "\t\t<dd>0.423</dd>\n",
       "</dl>\n"
      ],
      "text/latex": [
       "\\begin{description*}\n",
       "\\item[4] 0.5086\n",
       "\\item[6] 0.4645\n",
       "\\item[8] 0.423\n",
       "\\end{description*}\n"
      ],
      "text/markdown": [
       "4\n",
       ":   0.50866\n",
       ":   0.46458\n",
       ":   0.423\n",
       "\n"
      ],
      "text/plain": [
       "     4      6      8 \n",
       "0.5086 0.4645 0.4230 "
      ]
     },
     "metadata": {},
     "output_type": "display_data"
    }
   ],
   "source": [
    "models  %>% \n",
    "    map(summary)  %>% \n",
    "    map_dbl(\"r.squared\")  %>% round(4)"
   ]
  },
  {
   "cell_type": "code",
   "execution_count": 19,
   "metadata": {},
   "outputs": [
    {
     "data": {
      "text/html": [
       "<ol class=list-inline>\n",
       "\t<li>2</li>\n",
       "\t<li>5</li>\n",
       "\t<li>8</li>\n",
       "</ol>\n"
      ],
      "text/latex": [
       "\\begin{enumerate*}\n",
       "\\item 2\n",
       "\\item 5\n",
       "\\item 8\n",
       "\\end{enumerate*}\n"
      ],
      "text/markdown": [
       "1. 2\n",
       "2. 5\n",
       "3. 8\n",
       "\n",
       "\n"
      ],
      "text/plain": [
       "[1] 2 5 8"
      ]
     },
     "metadata": {},
     "output_type": "display_data"
    }
   ],
   "source": [
    "x <- list(list(1, 2, 3), list(4, 5, 6), list(7, 8, 9))\n",
    "x  %>% map_dbl(2)"
   ]
  },
  {
   "cell_type": "code",
   "execution_count": null,
   "metadata": {},
   "outputs": [],
   "source": []
  }
 ],
 "metadata": {
  "kernelspec": {
   "display_name": "R",
   "language": "R",
   "name": "ir"
  },
  "language_info": {
   "codemirror_mode": "r",
   "file_extension": ".r",
   "mimetype": "text/x-r-source",
   "name": "R",
   "pygments_lexer": "r",
   "version": "3.6.1"
  }
 },
 "nbformat": 4,
 "nbformat_minor": 2
}
