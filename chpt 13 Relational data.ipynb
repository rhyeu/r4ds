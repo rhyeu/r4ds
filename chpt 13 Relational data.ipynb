{
 "cells": [
  {
   "cell_type": "code",
   "execution_count": 5,
   "metadata": {},
   "outputs": [],
   "source": [
    "library(tidyverse)\n",
    "library(nycflights13)"
   ]
  },
  {
   "cell_type": "code",
   "execution_count": 6,
   "metadata": {},
   "outputs": [
    {
     "data": {
      "text/html": [
       "<table>\n",
       "<thead><tr><th scope=col>carrier</th><th scope=col>name</th></tr></thead>\n",
       "<tbody>\n",
       "\t<tr><td>9E                         </td><td>Endeavor Air Inc.          </td></tr>\n",
       "\t<tr><td>AA                         </td><td>American Airlines Inc.     </td></tr>\n",
       "\t<tr><td>AS                         </td><td>Alaska Airlines Inc.       </td></tr>\n",
       "\t<tr><td>B6                         </td><td>JetBlue Airways            </td></tr>\n",
       "\t<tr><td>DL                         </td><td>Delta Air Lines Inc.       </td></tr>\n",
       "\t<tr><td>EV                         </td><td>ExpressJet Airlines Inc.   </td></tr>\n",
       "\t<tr><td>F9                         </td><td>Frontier Airlines Inc.     </td></tr>\n",
       "\t<tr><td>FL                         </td><td>AirTran Airways Corporation</td></tr>\n",
       "\t<tr><td>HA                         </td><td>Hawaiian Airlines Inc.     </td></tr>\n",
       "\t<tr><td>MQ                         </td><td>Envoy Air                  </td></tr>\n",
       "\t<tr><td>OO                         </td><td>SkyWest Airlines Inc.      </td></tr>\n",
       "\t<tr><td>UA                         </td><td>United Air Lines Inc.      </td></tr>\n",
       "\t<tr><td>US                         </td><td>US Airways Inc.            </td></tr>\n",
       "\t<tr><td>VX                         </td><td>Virgin America             </td></tr>\n",
       "\t<tr><td>WN                         </td><td>Southwest Airlines Co.     </td></tr>\n",
       "\t<tr><td>YV                         </td><td>Mesa Airlines Inc.         </td></tr>\n",
       "</tbody>\n",
       "</table>\n"
      ],
      "text/latex": [
       "\\begin{tabular}{r|ll}\n",
       " carrier & name\\\\\n",
       "\\hline\n",
       "\t 9E                          & Endeavor Air Inc.          \\\\\n",
       "\t AA                          & American Airlines Inc.     \\\\\n",
       "\t AS                          & Alaska Airlines Inc.       \\\\\n",
       "\t B6                          & JetBlue Airways            \\\\\n",
       "\t DL                          & Delta Air Lines Inc.       \\\\\n",
       "\t EV                          & ExpressJet Airlines Inc.   \\\\\n",
       "\t F9                          & Frontier Airlines Inc.     \\\\\n",
       "\t FL                          & AirTran Airways Corporation\\\\\n",
       "\t HA                          & Hawaiian Airlines Inc.     \\\\\n",
       "\t MQ                          & Envoy Air                  \\\\\n",
       "\t OO                          & SkyWest Airlines Inc.      \\\\\n",
       "\t UA                          & United Air Lines Inc.      \\\\\n",
       "\t US                          & US Airways Inc.            \\\\\n",
       "\t VX                          & Virgin America             \\\\\n",
       "\t WN                          & Southwest Airlines Co.     \\\\\n",
       "\t YV                          & Mesa Airlines Inc.         \\\\\n",
       "\\end{tabular}\n"
      ],
      "text/markdown": [
       "\n",
       "| carrier | name |\n",
       "|---|---|\n",
       "| 9E                          | Endeavor Air Inc.           |\n",
       "| AA                          | American Airlines Inc.      |\n",
       "| AS                          | Alaska Airlines Inc.        |\n",
       "| B6                          | JetBlue Airways             |\n",
       "| DL                          | Delta Air Lines Inc.        |\n",
       "| EV                          | ExpressJet Airlines Inc.    |\n",
       "| F9                          | Frontier Airlines Inc.      |\n",
       "| FL                          | AirTran Airways Corporation |\n",
       "| HA                          | Hawaiian Airlines Inc.      |\n",
       "| MQ                          | Envoy Air                   |\n",
       "| OO                          | SkyWest Airlines Inc.       |\n",
       "| UA                          | United Air Lines Inc.       |\n",
       "| US                          | US Airways Inc.             |\n",
       "| VX                          | Virgin America              |\n",
       "| WN                          | Southwest Airlines Co.      |\n",
       "| YV                          | Mesa Airlines Inc.          |\n",
       "\n"
      ],
      "text/plain": [
       "   carrier name                       \n",
       "1  9E      Endeavor Air Inc.          \n",
       "2  AA      American Airlines Inc.     \n",
       "3  AS      Alaska Airlines Inc.       \n",
       "4  B6      JetBlue Airways            \n",
       "5  DL      Delta Air Lines Inc.       \n",
       "6  EV      ExpressJet Airlines Inc.   \n",
       "7  F9      Frontier Airlines Inc.     \n",
       "8  FL      AirTran Airways Corporation\n",
       "9  HA      Hawaiian Airlines Inc.     \n",
       "10 MQ      Envoy Air                  \n",
       "11 OO      SkyWest Airlines Inc.      \n",
       "12 UA      United Air Lines Inc.      \n",
       "13 US      US Airways Inc.            \n",
       "14 VX      Virgin America             \n",
       "15 WN      Southwest Airlines Co.     \n",
       "16 YV      Mesa Airlines Inc.         "
      ]
     },
     "metadata": {},
     "output_type": "display_data"
    }
   ],
   "source": [
    "airlines"
   ]
  },
  {
   "cell_type": "code",
   "execution_count": 29,
   "metadata": {},
   "outputs": [
    {
     "data": {
      "text/html": [
       "<table>\n",
       "<thead><tr><th scope=col>year</th><th scope=col>month</th><th scope=col>day</th><th scope=col>dep_time</th><th scope=col>sched_dep_time</th><th scope=col>dep_delay</th><th scope=col>arr_time</th><th scope=col>sched_arr_time</th><th scope=col>arr_delay</th><th scope=col>carrier</th><th scope=col>flight</th><th scope=col>tailnum</th><th scope=col>origin</th><th scope=col>dest</th><th scope=col>air_time</th><th scope=col>distance</th><th scope=col>hour</th><th scope=col>minute</th><th scope=col>time_hour</th></tr></thead>\n",
       "<tbody>\n",
       "\t<tr><td>2013               </td><td>1                  </td><td>1                  </td><td>517                </td><td>515                </td><td> 2                 </td><td> 830               </td><td> 819               </td><td> 11                </td><td>UA                 </td><td>1545               </td><td>N14228             </td><td>EWR                </td><td>IAH                </td><td>227                </td><td>1400               </td><td>5                  </td><td>15                 </td><td>2013-01-01 05:00:00</td></tr>\n",
       "\t<tr><td>2013               </td><td>1                  </td><td>1                  </td><td>533                </td><td>529                </td><td> 4                 </td><td> 850               </td><td> 830               </td><td> 20                </td><td>UA                 </td><td>1714               </td><td>N24211             </td><td>LGA                </td><td>IAH                </td><td>227                </td><td>1416               </td><td>5                  </td><td>29                 </td><td>2013-01-01 05:00:00</td></tr>\n",
       "\t<tr><td>2013               </td><td>1                  </td><td>1                  </td><td>542                </td><td>540                </td><td> 2                 </td><td> 923               </td><td> 850               </td><td> 33                </td><td>AA                 </td><td>1141               </td><td>N619AA             </td><td>JFK                </td><td>MIA                </td><td>160                </td><td>1089               </td><td>5                  </td><td>40                 </td><td>2013-01-01 05:00:00</td></tr>\n",
       "\t<tr><td>2013               </td><td>1                  </td><td>1                  </td><td>544                </td><td>545                </td><td>-1                 </td><td>1004               </td><td>1022               </td><td>-18                </td><td>B6                 </td><td> 725               </td><td>N804JB             </td><td>JFK                </td><td>BQN                </td><td>183                </td><td>1576               </td><td>5                  </td><td>45                 </td><td>2013-01-01 05:00:00</td></tr>\n",
       "\t<tr><td>2013               </td><td>1                  </td><td>1                  </td><td>554                </td><td>600                </td><td>-6                 </td><td> 812               </td><td> 837               </td><td>-25                </td><td>DL                 </td><td> 461               </td><td>N668DN             </td><td>LGA                </td><td>ATL                </td><td>116                </td><td> 762               </td><td>6                  </td><td> 0                 </td><td>2013-01-01 06:00:00</td></tr>\n",
       "\t<tr><td>2013               </td><td>1                  </td><td>1                  </td><td>554                </td><td>558                </td><td>-4                 </td><td> 740               </td><td> 728               </td><td> 12                </td><td>UA                 </td><td>1696               </td><td>N39463             </td><td>EWR                </td><td>ORD                </td><td>150                </td><td> 719               </td><td>5                  </td><td>58                 </td><td>2013-01-01 05:00:00</td></tr>\n",
       "</tbody>\n",
       "</table>\n"
      ],
      "text/latex": [
       "\\begin{tabular}{r|lllllllllllllllllll}\n",
       " year & month & day & dep\\_time & sched\\_dep\\_time & dep\\_delay & arr\\_time & sched\\_arr\\_time & arr\\_delay & carrier & flight & tailnum & origin & dest & air\\_time & distance & hour & minute & time\\_hour\\\\\n",
       "\\hline\n",
       "\t 2013                & 1                   & 1                   & 517                 & 515                 &  2                  &  830                &  819                &  11                 & UA                  & 1545                & N14228              & EWR                 & IAH                 & 227                 & 1400                & 5                   & 15                  & 2013-01-01 05:00:00\\\\\n",
       "\t 2013                & 1                   & 1                   & 533                 & 529                 &  4                  &  850                &  830                &  20                 & UA                  & 1714                & N24211              & LGA                 & IAH                 & 227                 & 1416                & 5                   & 29                  & 2013-01-01 05:00:00\\\\\n",
       "\t 2013                & 1                   & 1                   & 542                 & 540                 &  2                  &  923                &  850                &  33                 & AA                  & 1141                & N619AA              & JFK                 & MIA                 & 160                 & 1089                & 5                   & 40                  & 2013-01-01 05:00:00\\\\\n",
       "\t 2013                & 1                   & 1                   & 544                 & 545                 & -1                  & 1004                & 1022                & -18                 & B6                  &  725                & N804JB              & JFK                 & BQN                 & 183                 & 1576                & 5                   & 45                  & 2013-01-01 05:00:00\\\\\n",
       "\t 2013                & 1                   & 1                   & 554                 & 600                 & -6                  &  812                &  837                & -25                 & DL                  &  461                & N668DN              & LGA                 & ATL                 & 116                 &  762                & 6                   &  0                  & 2013-01-01 06:00:00\\\\\n",
       "\t 2013                & 1                   & 1                   & 554                 & 558                 & -4                  &  740                &  728                &  12                 & UA                  & 1696                & N39463              & EWR                 & ORD                 & 150                 &  719                & 5                   & 58                  & 2013-01-01 05:00:00\\\\\n",
       "\\end{tabular}\n"
      ],
      "text/markdown": [
       "\n",
       "| year | month | day | dep_time | sched_dep_time | dep_delay | arr_time | sched_arr_time | arr_delay | carrier | flight | tailnum | origin | dest | air_time | distance | hour | minute | time_hour |\n",
       "|---|---|---|---|---|---|---|---|---|---|---|---|---|---|---|---|---|---|---|\n",
       "| 2013                | 1                   | 1                   | 517                 | 515                 |  2                  |  830                |  819                |  11                 | UA                  | 1545                | N14228              | EWR                 | IAH                 | 227                 | 1400                | 5                   | 15                  | 2013-01-01 05:00:00 |\n",
       "| 2013                | 1                   | 1                   | 533                 | 529                 |  4                  |  850                |  830                |  20                 | UA                  | 1714                | N24211              | LGA                 | IAH                 | 227                 | 1416                | 5                   | 29                  | 2013-01-01 05:00:00 |\n",
       "| 2013                | 1                   | 1                   | 542                 | 540                 |  2                  |  923                |  850                |  33                 | AA                  | 1141                | N619AA              | JFK                 | MIA                 | 160                 | 1089                | 5                   | 40                  | 2013-01-01 05:00:00 |\n",
       "| 2013                | 1                   | 1                   | 544                 | 545                 | -1                  | 1004                | 1022                | -18                 | B6                  |  725                | N804JB              | JFK                 | BQN                 | 183                 | 1576                | 5                   | 45                  | 2013-01-01 05:00:00 |\n",
       "| 2013                | 1                   | 1                   | 554                 | 600                 | -6                  |  812                |  837                | -25                 | DL                  |  461                | N668DN              | LGA                 | ATL                 | 116                 |  762                | 6                   |  0                  | 2013-01-01 06:00:00 |\n",
       "| 2013                | 1                   | 1                   | 554                 | 558                 | -4                  |  740                |  728                |  12                 | UA                  | 1696                | N39463              | EWR                 | ORD                 | 150                 |  719                | 5                   | 58                  | 2013-01-01 05:00:00 |\n",
       "\n"
      ],
      "text/plain": [
       "  year month day dep_time sched_dep_time dep_delay arr_time sched_arr_time\n",
       "1 2013 1     1   517      515             2         830      819          \n",
       "2 2013 1     1   533      529             4         850      830          \n",
       "3 2013 1     1   542      540             2         923      850          \n",
       "4 2013 1     1   544      545            -1        1004     1022          \n",
       "5 2013 1     1   554      600            -6         812      837          \n",
       "6 2013 1     1   554      558            -4         740      728          \n",
       "  arr_delay carrier flight tailnum origin dest air_time distance hour minute\n",
       "1  11       UA      1545   N14228  EWR    IAH  227      1400     5    15    \n",
       "2  20       UA      1714   N24211  LGA    IAH  227      1416     5    29    \n",
       "3  33       AA      1141   N619AA  JFK    MIA  160      1089     5    40    \n",
       "4 -18       B6       725   N804JB  JFK    BQN  183      1576     5    45    \n",
       "5 -25       DL       461   N668DN  LGA    ATL  116       762     6     0    \n",
       "6  12       UA      1696   N39463  EWR    ORD  150       719     5    58    \n",
       "  time_hour          \n",
       "1 2013-01-01 05:00:00\n",
       "2 2013-01-01 05:00:00\n",
       "3 2013-01-01 05:00:00\n",
       "4 2013-01-01 05:00:00\n",
       "5 2013-01-01 06:00:00\n",
       "6 2013-01-01 05:00:00"
      ]
     },
     "metadata": {},
     "output_type": "display_data"
    }
   ],
   "source": [
    "flights %>% head()"
   ]
  },
  {
   "cell_type": "code",
   "execution_count": 8,
   "metadata": {},
   "outputs": [
    {
     "data": {
      "text/html": [
       "<table>\n",
       "<thead><tr><th scope=col>faa</th><th scope=col>name</th><th scope=col>lat</th><th scope=col>lon</th><th scope=col>alt</th><th scope=col>tz</th><th scope=col>dst</th><th scope=col>tzone</th></tr></thead>\n",
       "<tbody>\n",
       "\t<tr><td>04G                           </td><td>Lansdowne Airport             </td><td>41.13047                      </td><td>-80.61958                     </td><td>1044                          </td><td>-5                            </td><td>A                             </td><td>America/New_York              </td></tr>\n",
       "\t<tr><td>06A                           </td><td>Moton Field Municipal Airport </td><td>32.46057                      </td><td>-85.68003                     </td><td> 264                          </td><td>-6                            </td><td>A                             </td><td>America/Chicago               </td></tr>\n",
       "\t<tr><td>06C                           </td><td>Schaumburg Regional           </td><td>41.98934                      </td><td>-88.10124                     </td><td> 801                          </td><td>-6                            </td><td>A                             </td><td>America/Chicago               </td></tr>\n",
       "\t<tr><td>06N                           </td><td>Randall Airport               </td><td>41.43191                      </td><td>-74.39156                     </td><td> 523                          </td><td>-5                            </td><td>A                             </td><td>America/New_York              </td></tr>\n",
       "\t<tr><td>09J                           </td><td>Jekyll Island Airport         </td><td>31.07447                      </td><td>-81.42778                     </td><td>  11                          </td><td>-5                            </td><td>A                             </td><td>America/New_York              </td></tr>\n",
       "\t<tr><td>0A9                           </td><td>Elizabethton Municipal Airport</td><td>36.37122                      </td><td>-82.17342                     </td><td>1593                          </td><td>-5                            </td><td>A                             </td><td>America/New_York              </td></tr>\n",
       "</tbody>\n",
       "</table>\n"
      ],
      "text/latex": [
       "\\begin{tabular}{r|llllllll}\n",
       " faa & name & lat & lon & alt & tz & dst & tzone\\\\\n",
       "\\hline\n",
       "\t 04G                            & Lansdowne Airport              & 41.13047                       & -80.61958                      & 1044                           & -5                             & A                              & America/New\\_York            \\\\\n",
       "\t 06A                            & Moton Field Municipal Airport  & 32.46057                       & -85.68003                      &  264                           & -6                             & A                              & America/Chicago               \\\\\n",
       "\t 06C                            & Schaumburg Regional            & 41.98934                       & -88.10124                      &  801                           & -6                             & A                              & America/Chicago               \\\\\n",
       "\t 06N                            & Randall Airport                & 41.43191                       & -74.39156                      &  523                           & -5                             & A                              & America/New\\_York            \\\\\n",
       "\t 09J                            & Jekyll Island Airport          & 31.07447                       & -81.42778                      &   11                           & -5                             & A                              & America/New\\_York            \\\\\n",
       "\t 0A9                            & Elizabethton Municipal Airport & 36.37122                       & -82.17342                      & 1593                           & -5                             & A                              & America/New\\_York            \\\\\n",
       "\\end{tabular}\n"
      ],
      "text/markdown": [
       "\n",
       "| faa | name | lat | lon | alt | tz | dst | tzone |\n",
       "|---|---|---|---|---|---|---|---|\n",
       "| 04G                            | Lansdowne Airport              | 41.13047                       | -80.61958                      | 1044                           | -5                             | A                              | America/New_York               |\n",
       "| 06A                            | Moton Field Municipal Airport  | 32.46057                       | -85.68003                      |  264                           | -6                             | A                              | America/Chicago                |\n",
       "| 06C                            | Schaumburg Regional            | 41.98934                       | -88.10124                      |  801                           | -6                             | A                              | America/Chicago                |\n",
       "| 06N                            | Randall Airport                | 41.43191                       | -74.39156                      |  523                           | -5                             | A                              | America/New_York               |\n",
       "| 09J                            | Jekyll Island Airport          | 31.07447                       | -81.42778                      |   11                           | -5                             | A                              | America/New_York               |\n",
       "| 0A9                            | Elizabethton Municipal Airport | 36.37122                       | -82.17342                      | 1593                           | -5                             | A                              | America/New_York               |\n",
       "\n"
      ],
      "text/plain": [
       "  faa name                           lat      lon       alt  tz dst\n",
       "1 04G Lansdowne Airport              41.13047 -80.61958 1044 -5 A  \n",
       "2 06A Moton Field Municipal Airport  32.46057 -85.68003  264 -6 A  \n",
       "3 06C Schaumburg Regional            41.98934 -88.10124  801 -6 A  \n",
       "4 06N Randall Airport                41.43191 -74.39156  523 -5 A  \n",
       "5 09J Jekyll Island Airport          31.07447 -81.42778   11 -5 A  \n",
       "6 0A9 Elizabethton Municipal Airport 36.37122 -82.17342 1593 -5 A  \n",
       "  tzone           \n",
       "1 America/New_York\n",
       "2 America/Chicago \n",
       "3 America/Chicago \n",
       "4 America/New_York\n",
       "5 America/New_York\n",
       "6 America/New_York"
      ]
     },
     "metadata": {},
     "output_type": "display_data"
    }
   ],
   "source": [
    "airports  %>% head()"
   ]
  },
  {
   "cell_type": "code",
   "execution_count": 10,
   "metadata": {},
   "outputs": [
    {
     "data": {
      "text/html": [
       "<table>\n",
       "<thead><tr><th scope=col>origin</th><th scope=col>year</th><th scope=col>month</th><th scope=col>day</th><th scope=col>hour</th><th scope=col>temp</th><th scope=col>dewp</th><th scope=col>humid</th><th scope=col>wind_dir</th><th scope=col>wind_speed</th><th scope=col>wind_gust</th><th scope=col>precip</th><th scope=col>pressure</th><th scope=col>visib</th><th scope=col>time_hour</th></tr></thead>\n",
       "<tbody>\n",
       "\t<tr><td>EWR                </td><td>2013               </td><td>1                  </td><td>1                  </td><td>1                  </td><td>39.02              </td><td>26.06              </td><td>59.37              </td><td>270                </td><td>10.35702           </td><td>NA                 </td><td>0                  </td><td>1012.0             </td><td>10                 </td><td>2013-01-01 01:00:00</td></tr>\n",
       "\t<tr><td>EWR                </td><td>2013               </td><td>1                  </td><td>1                  </td><td>2                  </td><td>39.02              </td><td>26.96              </td><td>61.63              </td><td>250                </td><td> 8.05546           </td><td>NA                 </td><td>0                  </td><td>1012.3             </td><td>10                 </td><td>2013-01-01 02:00:00</td></tr>\n",
       "\t<tr><td>EWR                </td><td>2013               </td><td>1                  </td><td>1                  </td><td>3                  </td><td>39.02              </td><td>28.04              </td><td>64.43              </td><td>240                </td><td>11.50780           </td><td>NA                 </td><td>0                  </td><td>1012.5             </td><td>10                 </td><td>2013-01-01 03:00:00</td></tr>\n",
       "\t<tr><td>EWR                </td><td>2013               </td><td>1                  </td><td>1                  </td><td>4                  </td><td>39.92              </td><td>28.04              </td><td>62.21              </td><td>250                </td><td>12.65858           </td><td>NA                 </td><td>0                  </td><td>1012.2             </td><td>10                 </td><td>2013-01-01 04:00:00</td></tr>\n",
       "\t<tr><td>EWR                </td><td>2013               </td><td>1                  </td><td>1                  </td><td>5                  </td><td>39.02              </td><td>28.04              </td><td>64.43              </td><td>260                </td><td>12.65858           </td><td>NA                 </td><td>0                  </td><td>1011.9             </td><td>10                 </td><td>2013-01-01 05:00:00</td></tr>\n",
       "\t<tr><td>EWR                </td><td>2013               </td><td>1                  </td><td>1                  </td><td>6                  </td><td>37.94              </td><td>28.04              </td><td>67.21              </td><td>240                </td><td>11.50780           </td><td>NA                 </td><td>0                  </td><td>1012.4             </td><td>10                 </td><td>2013-01-01 06:00:00</td></tr>\n",
       "</tbody>\n",
       "</table>\n"
      ],
      "text/latex": [
       "\\begin{tabular}{r|lllllllllllllll}\n",
       " origin & year & month & day & hour & temp & dewp & humid & wind\\_dir & wind\\_speed & wind\\_gust & precip & pressure & visib & time\\_hour\\\\\n",
       "\\hline\n",
       "\t EWR                 & 2013                & 1                   & 1                   & 1                   & 39.02               & 26.06               & 59.37               & 270                 & 10.35702            & NA                  & 0                   & 1012.0              & 10                  & 2013-01-01 01:00:00\\\\\n",
       "\t EWR                 & 2013                & 1                   & 1                   & 2                   & 39.02               & 26.96               & 61.63               & 250                 &  8.05546            & NA                  & 0                   & 1012.3              & 10                  & 2013-01-01 02:00:00\\\\\n",
       "\t EWR                 & 2013                & 1                   & 1                   & 3                   & 39.02               & 28.04               & 64.43               & 240                 & 11.50780            & NA                  & 0                   & 1012.5              & 10                  & 2013-01-01 03:00:00\\\\\n",
       "\t EWR                 & 2013                & 1                   & 1                   & 4                   & 39.92               & 28.04               & 62.21               & 250                 & 12.65858            & NA                  & 0                   & 1012.2              & 10                  & 2013-01-01 04:00:00\\\\\n",
       "\t EWR                 & 2013                & 1                   & 1                   & 5                   & 39.02               & 28.04               & 64.43               & 260                 & 12.65858            & NA                  & 0                   & 1011.9              & 10                  & 2013-01-01 05:00:00\\\\\n",
       "\t EWR                 & 2013                & 1                   & 1                   & 6                   & 37.94               & 28.04               & 67.21               & 240                 & 11.50780            & NA                  & 0                   & 1012.4              & 10                  & 2013-01-01 06:00:00\\\\\n",
       "\\end{tabular}\n"
      ],
      "text/markdown": [
       "\n",
       "| origin | year | month | day | hour | temp | dewp | humid | wind_dir | wind_speed | wind_gust | precip | pressure | visib | time_hour |\n",
       "|---|---|---|---|---|---|---|---|---|---|---|---|---|---|---|\n",
       "| EWR                 | 2013                | 1                   | 1                   | 1                   | 39.02               | 26.06               | 59.37               | 270                 | 10.35702            | NA                  | 0                   | 1012.0              | 10                  | 2013-01-01 01:00:00 |\n",
       "| EWR                 | 2013                | 1                   | 1                   | 2                   | 39.02               | 26.96               | 61.63               | 250                 |  8.05546            | NA                  | 0                   | 1012.3              | 10                  | 2013-01-01 02:00:00 |\n",
       "| EWR                 | 2013                | 1                   | 1                   | 3                   | 39.02               | 28.04               | 64.43               | 240                 | 11.50780            | NA                  | 0                   | 1012.5              | 10                  | 2013-01-01 03:00:00 |\n",
       "| EWR                 | 2013                | 1                   | 1                   | 4                   | 39.92               | 28.04               | 62.21               | 250                 | 12.65858            | NA                  | 0                   | 1012.2              | 10                  | 2013-01-01 04:00:00 |\n",
       "| EWR                 | 2013                | 1                   | 1                   | 5                   | 39.02               | 28.04               | 64.43               | 260                 | 12.65858            | NA                  | 0                   | 1011.9              | 10                  | 2013-01-01 05:00:00 |\n",
       "| EWR                 | 2013                | 1                   | 1                   | 6                   | 37.94               | 28.04               | 67.21               | 240                 | 11.50780            | NA                  | 0                   | 1012.4              | 10                  | 2013-01-01 06:00:00 |\n",
       "\n"
      ],
      "text/plain": [
       "  origin year month day hour temp  dewp  humid wind_dir wind_speed wind_gust\n",
       "1 EWR    2013 1     1   1    39.02 26.06 59.37 270      10.35702   NA       \n",
       "2 EWR    2013 1     1   2    39.02 26.96 61.63 250       8.05546   NA       \n",
       "3 EWR    2013 1     1   3    39.02 28.04 64.43 240      11.50780   NA       \n",
       "4 EWR    2013 1     1   4    39.92 28.04 62.21 250      12.65858   NA       \n",
       "5 EWR    2013 1     1   5    39.02 28.04 64.43 260      12.65858   NA       \n",
       "6 EWR    2013 1     1   6    37.94 28.04 67.21 240      11.50780   NA       \n",
       "  precip pressure visib time_hour          \n",
       "1 0      1012.0   10    2013-01-01 01:00:00\n",
       "2 0      1012.3   10    2013-01-01 02:00:00\n",
       "3 0      1012.5   10    2013-01-01 03:00:00\n",
       "4 0      1012.2   10    2013-01-01 04:00:00\n",
       "5 0      1011.9   10    2013-01-01 05:00:00\n",
       "6 0      1012.4   10    2013-01-01 06:00:00"
      ]
     },
     "metadata": {},
     "output_type": "display_data"
    }
   ],
   "source": [
    "weather  %>% head()"
   ]
  },
  {
   "cell_type": "code",
   "execution_count": 11,
   "metadata": {},
   "outputs": [
    {
     "data": {
      "text/html": [
       "<table>\n",
       "<thead><tr><th scope=col>tailnum</th><th scope=col>n</th></tr></thead>\n",
       "<tbody>\n",
       "</tbody>\n",
       "</table>\n"
      ],
      "text/latex": [
       "\\begin{tabular}{r|ll}\n",
       " tailnum & n\\\\\n",
       "\\hline\n",
       "\\end{tabular}\n"
      ],
      "text/markdown": [
       "\n",
       "| tailnum | n |\n",
       "|---|---|\n",
       "\n"
      ],
      "text/plain": [
       "     tailnum n"
      ]
     },
     "metadata": {},
     "output_type": "display_data"
    }
   ],
   "source": [
    "planes  %>% count(tailnum) %>% filter(n>1)"
   ]
  },
  {
   "cell_type": "code",
   "execution_count": 14,
   "metadata": {},
   "outputs": [
    {
     "data": {
      "text/html": [
       "<table>\n",
       "<thead><tr><th scope=col>year</th><th scope=col>month</th><th scope=col>day</th><th scope=col>tailnum</th><th scope=col>row_number()</th><th scope=col>n</th></tr></thead>\n",
       "<tbody>\n",
       "</tbody>\n",
       "</table>\n"
      ],
      "text/latex": [
       "\\begin{tabular}{r|llllll}\n",
       " year & month & day & tailnum & row\\_number() & n\\\\\n",
       "\\hline\n",
       "\\end{tabular}\n"
      ],
      "text/markdown": [
       "\n",
       "| year | month | day | tailnum | row_number() | n |\n",
       "|---|---|---|---|---|---|\n",
       "\n"
      ],
      "text/plain": [
       "     year month day tailnum row_number() n"
      ]
     },
     "metadata": {},
     "output_type": "display_data"
    }
   ],
   "source": [
    "flights  %>% count(year, month, day, tailnum)  %>% filter(n>1)"
   ]
  },
  {
   "cell_type": "markdown",
   "metadata": {},
   "source": [
    "### 10.4 뮤테이팅 조인"
   ]
  },
  {
   "cell_type": "code",
   "execution_count": 26,
   "metadata": {},
   "outputs": [
    {
     "data": {
      "text/html": [
       "<table>\n",
       "<thead><tr><th scope=col>year</th><th scope=col>month</th><th scope=col>day</th><th scope=col>hour</th><th scope=col>origin</th><th scope=col>dest</th><th scope=col>tailnum</th><th scope=col>carrier</th></tr></thead>\n",
       "<tbody>\n",
       "\t<tr><td>2013  </td><td>1     </td><td>1     </td><td>5     </td><td>EWR   </td><td>IAH   </td><td>N14228</td><td>UA    </td></tr>\n",
       "\t<tr><td>2013  </td><td>1     </td><td>1     </td><td>5     </td><td>LGA   </td><td>IAH   </td><td>N24211</td><td>UA    </td></tr>\n",
       "\t<tr><td>2013  </td><td>1     </td><td>1     </td><td>5     </td><td>JFK   </td><td>MIA   </td><td>N619AA</td><td>AA    </td></tr>\n",
       "\t<tr><td>2013  </td><td>1     </td><td>1     </td><td>5     </td><td>JFK   </td><td>BQN   </td><td>N804JB</td><td>B6    </td></tr>\n",
       "\t<tr><td>2013  </td><td>1     </td><td>1     </td><td>6     </td><td>LGA   </td><td>ATL   </td><td>N668DN</td><td>DL    </td></tr>\n",
       "\t<tr><td>2013  </td><td>1     </td><td>1     </td><td>5     </td><td>EWR   </td><td>ORD   </td><td>N39463</td><td>UA    </td></tr>\n",
       "</tbody>\n",
       "</table>\n"
      ],
      "text/latex": [
       "\\begin{tabular}{r|llllllll}\n",
       " year & month & day & hour & origin & dest & tailnum & carrier\\\\\n",
       "\\hline\n",
       "\t 2013   & 1      & 1      & 5      & EWR    & IAH    & N14228 & UA    \\\\\n",
       "\t 2013   & 1      & 1      & 5      & LGA    & IAH    & N24211 & UA    \\\\\n",
       "\t 2013   & 1      & 1      & 5      & JFK    & MIA    & N619AA & AA    \\\\\n",
       "\t 2013   & 1      & 1      & 5      & JFK    & BQN    & N804JB & B6    \\\\\n",
       "\t 2013   & 1      & 1      & 6      & LGA    & ATL    & N668DN & DL    \\\\\n",
       "\t 2013   & 1      & 1      & 5      & EWR    & ORD    & N39463 & UA    \\\\\n",
       "\\end{tabular}\n"
      ],
      "text/markdown": [
       "\n",
       "| year | month | day | hour | origin | dest | tailnum | carrier |\n",
       "|---|---|---|---|---|---|---|---|\n",
       "| 2013   | 1      | 1      | 5      | EWR    | IAH    | N14228 | UA     |\n",
       "| 2013   | 1      | 1      | 5      | LGA    | IAH    | N24211 | UA     |\n",
       "| 2013   | 1      | 1      | 5      | JFK    | MIA    | N619AA | AA     |\n",
       "| 2013   | 1      | 1      | 5      | JFK    | BQN    | N804JB | B6     |\n",
       "| 2013   | 1      | 1      | 6      | LGA    | ATL    | N668DN | DL     |\n",
       "| 2013   | 1      | 1      | 5      | EWR    | ORD    | N39463 | UA     |\n",
       "\n"
      ],
      "text/plain": [
       "  year month day hour origin dest tailnum carrier\n",
       "1 2013 1     1   5    EWR    IAH  N14228  UA     \n",
       "2 2013 1     1   5    LGA    IAH  N24211  UA     \n",
       "3 2013 1     1   5    JFK    MIA  N619AA  AA     \n",
       "4 2013 1     1   5    JFK    BQN  N804JB  B6     \n",
       "5 2013 1     1   6    LGA    ATL  N668DN  DL     \n",
       "6 2013 1     1   5    EWR    ORD  N39463  UA     "
      ]
     },
     "metadata": {},
     "output_type": "display_data"
    }
   ],
   "source": [
    "flights2 <- flights %>% \n",
    "  select(year:day, hour, origin, dest, tailnum, carrier)\n",
    "flights2  %>% head()"
   ]
  },
  {
   "cell_type": "code",
   "execution_count": 28,
   "metadata": {},
   "outputs": [
    {
     "data": {
      "text/html": [
       "<table>\n",
       "<thead><tr><th scope=col>year</th><th scope=col>month</th><th scope=col>day</th><th scope=col>hour</th><th scope=col>tailnum</th><th scope=col>carrier</th><th scope=col>name</th></tr></thead>\n",
       "<tbody>\n",
       "\t<tr><td>2013                  </td><td>1                     </td><td>1                     </td><td>5                     </td><td>N14228                </td><td>UA                    </td><td>United Air Lines Inc. </td></tr>\n",
       "\t<tr><td>2013                  </td><td>1                     </td><td>1                     </td><td>5                     </td><td>N24211                </td><td>UA                    </td><td>United Air Lines Inc. </td></tr>\n",
       "\t<tr><td>2013                  </td><td>1                     </td><td>1                     </td><td>5                     </td><td>N619AA                </td><td>AA                    </td><td>American Airlines Inc.</td></tr>\n",
       "\t<tr><td>2013                  </td><td>1                     </td><td>1                     </td><td>5                     </td><td>N804JB                </td><td>B6                    </td><td>JetBlue Airways       </td></tr>\n",
       "\t<tr><td>2013                  </td><td>1                     </td><td>1                     </td><td>6                     </td><td>N668DN                </td><td>DL                    </td><td>Delta Air Lines Inc.  </td></tr>\n",
       "\t<tr><td>2013                  </td><td>1                     </td><td>1                     </td><td>5                     </td><td>N39463                </td><td>UA                    </td><td>United Air Lines Inc. </td></tr>\n",
       "</tbody>\n",
       "</table>\n"
      ],
      "text/latex": [
       "\\begin{tabular}{r|lllllll}\n",
       " year & month & day & hour & tailnum & carrier & name\\\\\n",
       "\\hline\n",
       "\t 2013                   & 1                      & 1                      & 5                      & N14228                 & UA                     & United Air Lines Inc. \\\\\n",
       "\t 2013                   & 1                      & 1                      & 5                      & N24211                 & UA                     & United Air Lines Inc. \\\\\n",
       "\t 2013                   & 1                      & 1                      & 5                      & N619AA                 & AA                     & American Airlines Inc.\\\\\n",
       "\t 2013                   & 1                      & 1                      & 5                      & N804JB                 & B6                     & JetBlue Airways       \\\\\n",
       "\t 2013                   & 1                      & 1                      & 6                      & N668DN                 & DL                     & Delta Air Lines Inc.  \\\\\n",
       "\t 2013                   & 1                      & 1                      & 5                      & N39463                 & UA                     & United Air Lines Inc. \\\\\n",
       "\\end{tabular}\n"
      ],
      "text/markdown": [
       "\n",
       "| year | month | day | hour | tailnum | carrier | name |\n",
       "|---|---|---|---|---|---|---|\n",
       "| 2013                   | 1                      | 1                      | 5                      | N14228                 | UA                     | United Air Lines Inc.  |\n",
       "| 2013                   | 1                      | 1                      | 5                      | N24211                 | UA                     | United Air Lines Inc.  |\n",
       "| 2013                   | 1                      | 1                      | 5                      | N619AA                 | AA                     | American Airlines Inc. |\n",
       "| 2013                   | 1                      | 1                      | 5                      | N804JB                 | B6                     | JetBlue Airways        |\n",
       "| 2013                   | 1                      | 1                      | 6                      | N668DN                 | DL                     | Delta Air Lines Inc.   |\n",
       "| 2013                   | 1                      | 1                      | 5                      | N39463                 | UA                     | United Air Lines Inc.  |\n",
       "\n"
      ],
      "text/plain": [
       "  year month day hour tailnum carrier name                  \n",
       "1 2013 1     1   5    N14228  UA      United Air Lines Inc. \n",
       "2 2013 1     1   5    N24211  UA      United Air Lines Inc. \n",
       "3 2013 1     1   5    N619AA  AA      American Airlines Inc.\n",
       "4 2013 1     1   5    N804JB  B6      JetBlue Airways       \n",
       "5 2013 1     1   6    N668DN  DL      Delta Air Lines Inc.  \n",
       "6 2013 1     1   5    N39463  UA      United Air Lines Inc. "
      ]
     },
     "metadata": {},
     "output_type": "display_data"
    }
   ],
   "source": [
    "flights2  %>% select(-c(\"origin\", \"dest\"))  %>% left_join(airlines2, by = \"carrier\")  %>% head()"
   ]
  },
  {
   "cell_type": "code",
   "execution_count": 32,
   "metadata": {},
   "outputs": [
    {
     "data": {
      "text/html": [
       "<table>\n",
       "<thead><tr><th scope=col>year</th><th scope=col>month</th><th scope=col>day</th><th scope=col>hour</th><th scope=col>origin</th><th scope=col>dest</th><th scope=col>tailnum</th><th scope=col>carrier</th><th scope=col>name</th><th scope=col>lat</th><th scope=col>lon</th><th scope=col>alt</th><th scope=col>tz</th><th scope=col>dst</th><th scope=col>tzone</th></tr></thead>\n",
       "<tbody>\n",
       "\t<tr><td>2013               </td><td>1                  </td><td>1                  </td><td>5                  </td><td>EWR                </td><td>IAH                </td><td>N14228             </td><td>UA                 </td><td>Newark Liberty Intl</td><td>40.69250           </td><td>-74.16867          </td><td>18                 </td><td>-5                 </td><td>A                  </td><td>America/New_York   </td></tr>\n",
       "\t<tr><td>2013               </td><td>1                  </td><td>1                  </td><td>5                  </td><td>LGA                </td><td>IAH                </td><td>N24211             </td><td>UA                 </td><td>La Guardia         </td><td>40.77725           </td><td>-73.87261          </td><td>22                 </td><td>-5                 </td><td>A                  </td><td>America/New_York   </td></tr>\n",
       "\t<tr><td>2013               </td><td>1                  </td><td>1                  </td><td>5                  </td><td>JFK                </td><td>MIA                </td><td>N619AA             </td><td>AA                 </td><td>John F Kennedy Intl</td><td>40.63975           </td><td>-73.77893          </td><td>13                 </td><td>-5                 </td><td>A                  </td><td>America/New_York   </td></tr>\n",
       "\t<tr><td>2013               </td><td>1                  </td><td>1                  </td><td>5                  </td><td>JFK                </td><td>BQN                </td><td>N804JB             </td><td>B6                 </td><td>John F Kennedy Intl</td><td>40.63975           </td><td>-73.77893          </td><td>13                 </td><td>-5                 </td><td>A                  </td><td>America/New_York   </td></tr>\n",
       "\t<tr><td>2013               </td><td>1                  </td><td>1                  </td><td>6                  </td><td>LGA                </td><td>ATL                </td><td>N668DN             </td><td>DL                 </td><td>La Guardia         </td><td>40.77725           </td><td>-73.87261          </td><td>22                 </td><td>-5                 </td><td>A                  </td><td>America/New_York   </td></tr>\n",
       "\t<tr><td>2013               </td><td>1                  </td><td>1                  </td><td>5                  </td><td>EWR                </td><td>ORD                </td><td>N39463             </td><td>UA                 </td><td>Newark Liberty Intl</td><td>40.69250           </td><td>-74.16867          </td><td>18                 </td><td>-5                 </td><td>A                  </td><td>America/New_York   </td></tr>\n",
       "</tbody>\n",
       "</table>\n"
      ],
      "text/latex": [
       "\\begin{tabular}{r|lllllllllllllll}\n",
       " year & month & day & hour & origin & dest & tailnum & carrier & name & lat & lon & alt & tz & dst & tzone\\\\\n",
       "\\hline\n",
       "\t 2013                & 1                   & 1                   & 5                   & EWR                 & IAH                 & N14228              & UA                  & Newark Liberty Intl & 40.69250            & -74.16867           & 18                  & -5                  & A                   & America/New\\_York \\\\\n",
       "\t 2013                & 1                   & 1                   & 5                   & LGA                 & IAH                 & N24211              & UA                  & La Guardia          & 40.77725            & -73.87261           & 22                  & -5                  & A                   & America/New\\_York \\\\\n",
       "\t 2013                & 1                   & 1                   & 5                   & JFK                 & MIA                 & N619AA              & AA                  & John F Kennedy Intl & 40.63975            & -73.77893           & 13                  & -5                  & A                   & America/New\\_York \\\\\n",
       "\t 2013                & 1                   & 1                   & 5                   & JFK                 & BQN                 & N804JB              & B6                  & John F Kennedy Intl & 40.63975            & -73.77893           & 13                  & -5                  & A                   & America/New\\_York \\\\\n",
       "\t 2013                & 1                   & 1                   & 6                   & LGA                 & ATL                 & N668DN              & DL                  & La Guardia          & 40.77725            & -73.87261           & 22                  & -5                  & A                   & America/New\\_York \\\\\n",
       "\t 2013                & 1                   & 1                   & 5                   & EWR                 & ORD                 & N39463              & UA                  & Newark Liberty Intl & 40.69250            & -74.16867           & 18                  & -5                  & A                   & America/New\\_York \\\\\n",
       "\\end{tabular}\n"
      ],
      "text/markdown": [
       "\n",
       "| year | month | day | hour | origin | dest | tailnum | carrier | name | lat | lon | alt | tz | dst | tzone |\n",
       "|---|---|---|---|---|---|---|---|---|---|---|---|---|---|---|\n",
       "| 2013                | 1                   | 1                   | 5                   | EWR                 | IAH                 | N14228              | UA                  | Newark Liberty Intl | 40.69250            | -74.16867           | 18                  | -5                  | A                   | America/New_York    |\n",
       "| 2013                | 1                   | 1                   | 5                   | LGA                 | IAH                 | N24211              | UA                  | La Guardia          | 40.77725            | -73.87261           | 22                  | -5                  | A                   | America/New_York    |\n",
       "| 2013                | 1                   | 1                   | 5                   | JFK                 | MIA                 | N619AA              | AA                  | John F Kennedy Intl | 40.63975            | -73.77893           | 13                  | -5                  | A                   | America/New_York    |\n",
       "| 2013                | 1                   | 1                   | 5                   | JFK                 | BQN                 | N804JB              | B6                  | John F Kennedy Intl | 40.63975            | -73.77893           | 13                  | -5                  | A                   | America/New_York    |\n",
       "| 2013                | 1                   | 1                   | 6                   | LGA                 | ATL                 | N668DN              | DL                  | La Guardia          | 40.77725            | -73.87261           | 22                  | -5                  | A                   | America/New_York    |\n",
       "| 2013                | 1                   | 1                   | 5                   | EWR                 | ORD                 | N39463              | UA                  | Newark Liberty Intl | 40.69250            | -74.16867           | 18                  | -5                  | A                   | America/New_York    |\n",
       "\n"
      ],
      "text/plain": [
       "  year month day hour origin dest tailnum carrier name                lat     \n",
       "1 2013 1     1   5    EWR    IAH  N14228  UA      Newark Liberty Intl 40.69250\n",
       "2 2013 1     1   5    LGA    IAH  N24211  UA      La Guardia          40.77725\n",
       "3 2013 1     1   5    JFK    MIA  N619AA  AA      John F Kennedy Intl 40.63975\n",
       "4 2013 1     1   5    JFK    BQN  N804JB  B6      John F Kennedy Intl 40.63975\n",
       "5 2013 1     1   6    LGA    ATL  N668DN  DL      La Guardia          40.77725\n",
       "6 2013 1     1   5    EWR    ORD  N39463  UA      Newark Liberty Intl 40.69250\n",
       "  lon       alt tz dst tzone           \n",
       "1 -74.16867 18  -5 A   America/New_York\n",
       "2 -73.87261 22  -5 A   America/New_York\n",
       "3 -73.77893 13  -5 A   America/New_York\n",
       "4 -73.77893 13  -5 A   America/New_York\n",
       "5 -73.87261 22  -5 A   America/New_York\n",
       "6 -74.16867 18  -5 A   America/New_York"
      ]
     },
     "metadata": {},
     "output_type": "display_data"
    }
   ],
   "source": [
    "flights2  %>% left_join(airports, c(\"origin\"= \"faa\"))  %>% head()"
   ]
  },
  {
   "cell_type": "code",
   "execution_count": 36,
   "metadata": {},
   "outputs": [],
   "source": [
    "flights  %>% \n",
    "    count(dest, sort = T)  %>% head(10)-> top_dest"
   ]
  },
  {
   "cell_type": "code",
   "execution_count": 38,
   "metadata": {},
   "outputs": [
    {
     "name": "stderr",
     "output_type": "stream",
     "text": [
      "Joining, by = \"dest\"\n"
     ]
    },
    {
     "data": {
      "text/html": [
       "<table>\n",
       "<thead><tr><th scope=col>year</th><th scope=col>month</th><th scope=col>day</th><th scope=col>dep_time</th><th scope=col>sched_dep_time</th><th scope=col>dep_delay</th><th scope=col>arr_time</th><th scope=col>sched_arr_time</th><th scope=col>arr_delay</th><th scope=col>carrier</th><th scope=col>flight</th><th scope=col>tailnum</th><th scope=col>origin</th><th scope=col>dest</th><th scope=col>air_time</th><th scope=col>distance</th><th scope=col>hour</th><th scope=col>minute</th><th scope=col>time_hour</th></tr></thead>\n",
       "<tbody>\n",
       "\t<tr><td>2013               </td><td>1                  </td><td>1                  </td><td>542                </td><td>540                </td><td> 2                 </td><td>923                </td><td>850                </td><td> 33                </td><td>AA                 </td><td>1141               </td><td>N619AA             </td><td>JFK                </td><td>MIA                </td><td>160                </td><td>1089               </td><td>5                  </td><td>40                 </td><td>2013-01-01 05:00:00</td></tr>\n",
       "\t<tr><td>2013               </td><td>1                  </td><td>1                  </td><td>554                </td><td>600                </td><td>-6                 </td><td>812                </td><td>837                </td><td>-25                </td><td>DL                 </td><td> 461               </td><td>N668DN             </td><td>LGA                </td><td>ATL                </td><td>116                </td><td> 762               </td><td>6                  </td><td> 0                 </td><td>2013-01-01 06:00:00</td></tr>\n",
       "\t<tr><td>2013               </td><td>1                  </td><td>1                  </td><td>554                </td><td>558                </td><td>-4                 </td><td>740                </td><td>728                </td><td> 12                </td><td>UA                 </td><td>1696               </td><td>N39463             </td><td>EWR                </td><td>ORD                </td><td>150                </td><td> 719               </td><td>5                  </td><td>58                 </td><td>2013-01-01 05:00:00</td></tr>\n",
       "\t<tr><td>2013               </td><td>1                  </td><td>1                  </td><td>555                </td><td>600                </td><td>-5                 </td><td>913                </td><td>854                </td><td> 19                </td><td>B6                 </td><td> 507               </td><td>N516JB             </td><td>EWR                </td><td>FLL                </td><td>158                </td><td>1065               </td><td>6                  </td><td> 0                 </td><td>2013-01-01 06:00:00</td></tr>\n",
       "\t<tr><td>2013               </td><td>1                  </td><td>1                  </td><td>557                </td><td>600                </td><td>-3                 </td><td>838                </td><td>846                </td><td> -8                </td><td>B6                 </td><td>  79               </td><td>N593JB             </td><td>JFK                </td><td>MCO                </td><td>140                </td><td> 944               </td><td>6                  </td><td> 0                 </td><td>2013-01-01 06:00:00</td></tr>\n",
       "\t<tr><td>2013               </td><td>1                  </td><td>1                  </td><td>558                </td><td>600                </td><td>-2                 </td><td>753                </td><td>745                </td><td>  8                </td><td>AA                 </td><td> 301               </td><td>N3ALAA             </td><td>LGA                </td><td>ORD                </td><td>138                </td><td> 733               </td><td>6                  </td><td> 0                 </td><td>2013-01-01 06:00:00</td></tr>\n",
       "</tbody>\n",
       "</table>\n"
      ],
      "text/latex": [
       "\\begin{tabular}{r|lllllllllllllllllll}\n",
       " year & month & day & dep\\_time & sched\\_dep\\_time & dep\\_delay & arr\\_time & sched\\_arr\\_time & arr\\_delay & carrier & flight & tailnum & origin & dest & air\\_time & distance & hour & minute & time\\_hour\\\\\n",
       "\\hline\n",
       "\t 2013                & 1                   & 1                   & 542                 & 540                 &  2                  & 923                 & 850                 &  33                 & AA                  & 1141                & N619AA              & JFK                 & MIA                 & 160                 & 1089                & 5                   & 40                  & 2013-01-01 05:00:00\\\\\n",
       "\t 2013                & 1                   & 1                   & 554                 & 600                 & -6                  & 812                 & 837                 & -25                 & DL                  &  461                & N668DN              & LGA                 & ATL                 & 116                 &  762                & 6                   &  0                  & 2013-01-01 06:00:00\\\\\n",
       "\t 2013                & 1                   & 1                   & 554                 & 558                 & -4                  & 740                 & 728                 &  12                 & UA                  & 1696                & N39463              & EWR                 & ORD                 & 150                 &  719                & 5                   & 58                  & 2013-01-01 05:00:00\\\\\n",
       "\t 2013                & 1                   & 1                   & 555                 & 600                 & -5                  & 913                 & 854                 &  19                 & B6                  &  507                & N516JB              & EWR                 & FLL                 & 158                 & 1065                & 6                   &  0                  & 2013-01-01 06:00:00\\\\\n",
       "\t 2013                & 1                   & 1                   & 557                 & 600                 & -3                  & 838                 & 846                 &  -8                 & B6                  &   79                & N593JB              & JFK                 & MCO                 & 140                 &  944                & 6                   &  0                  & 2013-01-01 06:00:00\\\\\n",
       "\t 2013                & 1                   & 1                   & 558                 & 600                 & -2                  & 753                 & 745                 &   8                 & AA                  &  301                & N3ALAA              & LGA                 & ORD                 & 138                 &  733                & 6                   &  0                  & 2013-01-01 06:00:00\\\\\n",
       "\\end{tabular}\n"
      ],
      "text/markdown": [
       "\n",
       "| year | month | day | dep_time | sched_dep_time | dep_delay | arr_time | sched_arr_time | arr_delay | carrier | flight | tailnum | origin | dest | air_time | distance | hour | minute | time_hour |\n",
       "|---|---|---|---|---|---|---|---|---|---|---|---|---|---|---|---|---|---|---|\n",
       "| 2013                | 1                   | 1                   | 542                 | 540                 |  2                  | 923                 | 850                 |  33                 | AA                  | 1141                | N619AA              | JFK                 | MIA                 | 160                 | 1089                | 5                   | 40                  | 2013-01-01 05:00:00 |\n",
       "| 2013                | 1                   | 1                   | 554                 | 600                 | -6                  | 812                 | 837                 | -25                 | DL                  |  461                | N668DN              | LGA                 | ATL                 | 116                 |  762                | 6                   |  0                  | 2013-01-01 06:00:00 |\n",
       "| 2013                | 1                   | 1                   | 554                 | 558                 | -4                  | 740                 | 728                 |  12                 | UA                  | 1696                | N39463              | EWR                 | ORD                 | 150                 |  719                | 5                   | 58                  | 2013-01-01 05:00:00 |\n",
       "| 2013                | 1                   | 1                   | 555                 | 600                 | -5                  | 913                 | 854                 |  19                 | B6                  |  507                | N516JB              | EWR                 | FLL                 | 158                 | 1065                | 6                   |  0                  | 2013-01-01 06:00:00 |\n",
       "| 2013                | 1                   | 1                   | 557                 | 600                 | -3                  | 838                 | 846                 |  -8                 | B6                  |   79                | N593JB              | JFK                 | MCO                 | 140                 |  944                | 6                   |  0                  | 2013-01-01 06:00:00 |\n",
       "| 2013                | 1                   | 1                   | 558                 | 600                 | -2                  | 753                 | 745                 |   8                 | AA                  |  301                | N3ALAA              | LGA                 | ORD                 | 138                 |  733                | 6                   |  0                  | 2013-01-01 06:00:00 |\n",
       "\n"
      ],
      "text/plain": [
       "  year month day dep_time sched_dep_time dep_delay arr_time sched_arr_time\n",
       "1 2013 1     1   542      540             2        923      850           \n",
       "2 2013 1     1   554      600            -6        812      837           \n",
       "3 2013 1     1   554      558            -4        740      728           \n",
       "4 2013 1     1   555      600            -5        913      854           \n",
       "5 2013 1     1   557      600            -3        838      846           \n",
       "6 2013 1     1   558      600            -2        753      745           \n",
       "  arr_delay carrier flight tailnum origin dest air_time distance hour minute\n",
       "1  33       AA      1141   N619AA  JFK    MIA  160      1089     5    40    \n",
       "2 -25       DL       461   N668DN  LGA    ATL  116       762     6     0    \n",
       "3  12       UA      1696   N39463  EWR    ORD  150       719     5    58    \n",
       "4  19       B6       507   N516JB  EWR    FLL  158      1065     6     0    \n",
       "5  -8       B6        79   N593JB  JFK    MCO  140       944     6     0    \n",
       "6   8       AA       301   N3ALAA  LGA    ORD  138       733     6     0    \n",
       "  time_hour          \n",
       "1 2013-01-01 05:00:00\n",
       "2 2013-01-01 06:00:00\n",
       "3 2013-01-01 05:00:00\n",
       "4 2013-01-01 06:00:00\n",
       "5 2013-01-01 06:00:00\n",
       "6 2013-01-01 06:00:00"
      ]
     },
     "metadata": {},
     "output_type": "display_data"
    }
   ],
   "source": [
    "flights  %>% semi_join(top_dest)  %>% head()"
   ]
  },
  {
   "cell_type": "code",
   "execution_count": 41,
   "metadata": {},
   "outputs": [
    {
     "data": {
      "text/html": [
       "<table>\n",
       "<thead><tr><th scope=col>tailnum</th><th scope=col>n</th></tr></thead>\n",
       "<tbody>\n",
       "\t<tr><td>NA    </td><td>2512  </td></tr>\n",
       "\t<tr><td>N725MQ</td><td> 575  </td></tr>\n",
       "\t<tr><td>N722MQ</td><td> 513  </td></tr>\n",
       "\t<tr><td>N723MQ</td><td> 507  </td></tr>\n",
       "\t<tr><td>N713MQ</td><td> 483  </td></tr>\n",
       "\t<tr><td>N735MQ</td><td> 396  </td></tr>\n",
       "</tbody>\n",
       "</table>\n"
      ],
      "text/latex": [
       "\\begin{tabular}{r|ll}\n",
       " tailnum & n\\\\\n",
       "\\hline\n",
       "\t NA     & 2512  \\\\\n",
       "\t N725MQ &  575  \\\\\n",
       "\t N722MQ &  513  \\\\\n",
       "\t N723MQ &  507  \\\\\n",
       "\t N713MQ &  483  \\\\\n",
       "\t N735MQ &  396  \\\\\n",
       "\\end{tabular}\n"
      ],
      "text/markdown": [
       "\n",
       "| tailnum | n |\n",
       "|---|---|\n",
       "| NA     | 2512   |\n",
       "| N725MQ |  575   |\n",
       "| N722MQ |  513   |\n",
       "| N723MQ |  507   |\n",
       "| N713MQ |  483   |\n",
       "| N735MQ |  396   |\n",
       "\n"
      ],
      "text/plain": [
       "  tailnum n   \n",
       "1 NA      2512\n",
       "2 N725MQ   575\n",
       "3 N722MQ   513\n",
       "4 N723MQ   507\n",
       "5 N713MQ   483\n",
       "6 N735MQ   396"
      ]
     },
     "metadata": {},
     "output_type": "display_data"
    }
   ],
   "source": [
    "flights  %>% anti_join(planes, by = \"tailnum\")  %>% \n",
    "    count(tailnum, sort = T)  %>% head()"
   ]
  },
  {
   "cell_type": "code",
   "execution_count": 42,
   "metadata": {},
   "outputs": [
    {
     "data": {
      "text/html": [
       "<table>\n",
       "<thead><tr><th scope=col>year</th><th scope=col>month</th><th scope=col>day</th><th scope=col>dep_time</th><th scope=col>sched_dep_time</th><th scope=col>dep_delay</th><th scope=col>arr_time</th><th scope=col>sched_arr_time</th><th scope=col>arr_delay</th><th scope=col>carrier</th><th scope=col>flight</th><th scope=col>tailnum</th><th scope=col>origin</th><th scope=col>dest</th><th scope=col>air_time</th><th scope=col>distance</th><th scope=col>hour</th><th scope=col>minute</th><th scope=col>time_hour</th></tr></thead>\n",
       "<tbody>\n",
       "\t<tr><td>2013               </td><td>1                  </td><td>1                  </td><td>558                </td><td>600                </td><td> -2                </td><td> 753               </td><td> 745               </td><td>  8                </td><td>AA                 </td><td> 301               </td><td>N3ALAA             </td><td>LGA                </td><td>ORD                </td><td>138                </td><td> 733               </td><td>6                  </td><td> 0                 </td><td>2013-01-01 06:00:00</td></tr>\n",
       "\t<tr><td>2013               </td><td>1                  </td><td>1                  </td><td>559                </td><td>600                </td><td> -1                </td><td> 941               </td><td> 910               </td><td> 31                </td><td>AA                 </td><td> 707               </td><td>N3DUAA             </td><td>LGA                </td><td>DFW                </td><td>257                </td><td>1389               </td><td>6                  </td><td> 0                 </td><td>2013-01-01 06:00:00</td></tr>\n",
       "\t<tr><td>2013               </td><td>1                  </td><td>1                  </td><td>600                </td><td>600                </td><td>  0                </td><td> 837               </td><td> 825               </td><td> 12                </td><td>MQ                 </td><td>4650               </td><td>N542MQ             </td><td>LGA                </td><td>ATL                </td><td>134                </td><td> 762               </td><td>6                  </td><td> 0                 </td><td>2013-01-01 06:00:00</td></tr>\n",
       "\t<tr><td>2013               </td><td>1                  </td><td>1                  </td><td>602                </td><td>605                </td><td> -3                </td><td> 821               </td><td> 805               </td><td> 16                </td><td>MQ                 </td><td>4401               </td><td>N730MQ             </td><td>LGA                </td><td>DTW                </td><td>105                </td><td> 502               </td><td>6                  </td><td> 5                 </td><td>2013-01-01 06:00:00</td></tr>\n",
       "\t<tr><td>2013               </td><td>1                  </td><td>1                  </td><td>608                </td><td>600                </td><td>  8                </td><td> 807               </td><td> 735               </td><td> 32                </td><td>MQ                 </td><td>3768               </td><td>N9EAMQ             </td><td>EWR                </td><td>ORD                </td><td>139                </td><td> 719               </td><td>6                  </td><td> 0                 </td><td>2013-01-01 06:00:00</td></tr>\n",
       "\t<tr><td>2013               </td><td>1                  </td><td>1                  </td><td>611                </td><td>600                </td><td> 11                </td><td> 945               </td><td> 931               </td><td> 14                </td><td>UA                 </td><td> 303               </td><td>N532UA             </td><td>JFK                </td><td>SFO                </td><td>366                </td><td>2586               </td><td>6                  </td><td> 0                 </td><td>2013-01-01 06:00:00</td></tr>\n",
       "\t<tr><td>2013               </td><td>1                  </td><td>1                  </td><td>623                </td><td>610                </td><td> 13                </td><td> 920               </td><td> 915               </td><td>  5                </td><td>AA                 </td><td>1837               </td><td>N3EMAA             </td><td>LGA                </td><td>MIA                </td><td>153                </td><td>1096               </td><td>6                  </td><td>10                 </td><td>2013-01-01 06:00:00</td></tr>\n",
       "\t<tr><td>2013               </td><td>1                  </td><td>1                  </td><td>624                </td><td>630                </td><td> -6                </td><td> 840               </td><td> 830               </td><td> 10                </td><td>MQ                 </td><td>4599               </td><td>N518MQ             </td><td>LGA                </td><td>MSP                </td><td>166                </td><td>1020               </td><td>6                  </td><td>30                 </td><td>2013-01-01 06:00:00</td></tr>\n",
       "\t<tr><td>2013               </td><td>1                  </td><td>1                  </td><td>628                </td><td>630                </td><td> -2                </td><td>1137               </td><td>1140               </td><td> -3                </td><td>AA                 </td><td> 413               </td><td>N3BAAA             </td><td>JFK                </td><td>SJU                </td><td>192                </td><td>1598               </td><td>6                  </td><td>30                 </td><td>2013-01-01 06:00:00</td></tr>\n",
       "\t<tr><td>2013               </td><td>1                  </td><td>1                  </td><td>629                </td><td>630                </td><td> -1                </td><td> 824               </td><td> 810               </td><td> 14                </td><td>AA                 </td><td> 303               </td><td>N3CYAA             </td><td>LGA                </td><td>ORD                </td><td>140                </td><td> 733               </td><td>6                  </td><td>30                 </td><td>2013-01-01 06:00:00</td></tr>\n",
       "\t<tr><td>2013               </td><td>1                  </td><td>1                  </td><td>629                </td><td>630                </td><td> -1                </td><td> 824               </td><td> 833               </td><td> -9                </td><td>US                 </td><td>1019               </td><td>N426US             </td><td>EWR                </td><td>CLT                </td><td> 91                </td><td> 529               </td><td>6                  </td><td>30                 </td><td>2013-01-01 06:00:00</td></tr>\n",
       "\t<tr><td>2013               </td><td>1                  </td><td>1                  </td><td>635                </td><td>635                </td><td>  0                </td><td>1028               </td><td> 940               </td><td> 48                </td><td>AA                 </td><td> 711               </td><td>N3GKAA             </td><td>LGA                </td><td>DFW                </td><td>248                </td><td>1389               </td><td>6                  </td><td>35                 </td><td>2013-01-01 06:00:00</td></tr>\n",
       "\t<tr><td>2013               </td><td>1                  </td><td>1                  </td><td>656                </td><td>700                </td><td> -4                </td><td> 854               </td><td> 850               </td><td>  4                </td><td>AA                 </td><td> 305               </td><td>N4WNAA             </td><td>LGA                </td><td>ORD                </td><td>143                </td><td> 733               </td><td>7                  </td><td> 0                 </td><td>2013-01-01 07:00:00</td></tr>\n",
       "\t<tr><td>2013               </td><td>1                  </td><td>1                  </td><td>656                </td><td>659                </td><td> -3                </td><td> 949               </td><td> 959               </td><td>-10                </td><td>AA                 </td><td>1815               </td><td>N5FMAA             </td><td>JFK                </td><td>MCO                </td><td>142                </td><td> 944               </td><td>6                  </td><td>59                 </td><td>2013-01-01 06:00:00</td></tr>\n",
       "\t<tr><td>2013               </td><td>1                  </td><td>1                  </td><td>656                </td><td>705                </td><td> -9                </td><td>1007               </td><td> 940               </td><td> 27                </td><td>MQ                 </td><td>4534               </td><td>N722MQ             </td><td>LGA                </td><td>XNA                </td><td>233                </td><td>1147               </td><td>7                  </td><td> 5                 </td><td>2013-01-01 07:00:00</td></tr>\n",
       "\t<tr><td>2013               </td><td>1                  </td><td>1                  </td><td>659                </td><td>700                </td><td> -1                </td><td>1008               </td><td>1015               </td><td> -7                </td><td>AA                 </td><td>2279               </td><td>N3EKAA             </td><td>LGA                </td><td>MIA                </td><td>159                </td><td>1096               </td><td>7                  </td><td> 0                 </td><td>2013-01-01 07:00:00</td></tr>\n",
       "\t<tr><td>2013               </td><td>1                  </td><td>1                  </td><td>712                </td><td>715                </td><td> -3                </td><td>1023               </td><td>1035               </td><td>-12                </td><td>AA                 </td><td> 825               </td><td>N3ETAA             </td><td>JFK                </td><td>FLL                </td><td>159                </td><td>1069               </td><td>7                  </td><td>15                 </td><td>2013-01-01 07:00:00</td></tr>\n",
       "\t<tr><td>2013               </td><td>1                  </td><td>1                  </td><td>724                </td><td>730                </td><td> -6                </td><td>1111               </td><td>1040               </td><td> 31                </td><td>AA                 </td><td> 715               </td><td>N541AA             </td><td>LGA                </td><td>DFW                </td><td>254                </td><td>1389               </td><td>7                  </td><td>30                 </td><td>2013-01-01 07:00:00</td></tr>\n",
       "\t<tr><td>2013               </td><td>1                  </td><td>1                  </td><td>725                </td><td>730                </td><td> -5                </td><td>1052               </td><td>1040               </td><td> 12                </td><td>AA                 </td><td>2083               </td><td>N4WRAA             </td><td>EWR                </td><td>DFW                </td><td>238                </td><td>1372               </td><td>7                  </td><td>30                 </td><td>2013-01-01 07:00:00</td></tr>\n",
       "\t<tr><td>2013               </td><td>1                  </td><td>1                  </td><td>739                </td><td>745                </td><td> -6                </td><td> 918               </td><td> 930               </td><td>-12                </td><td>AA                 </td><td> 309               </td><td>N4WPAA             </td><td>LGA                </td><td>ORD                </td><td>137                </td><td> 733               </td><td>7                  </td><td>45                 </td><td>2013-01-01 07:00:00</td></tr>\n",
       "\t<tr><td>2013               </td><td>1                  </td><td>1                  </td><td>749                </td><td>710                </td><td> 39                </td><td> 939               </td><td> 850               </td><td> 49                </td><td>MQ                 </td><td>3737               </td><td>N508MQ             </td><td>EWR                </td><td>ORD                </td><td>148                </td><td> 719               </td><td>7                  </td><td>10                 </td><td>2013-01-01 07:00:00</td></tr>\n",
       "\t<tr><td>2013               </td><td>1                  </td><td>1                  </td><td>753                </td><td>755                </td><td> -2                </td><td>1056               </td><td>1110               </td><td>-14                </td><td>AA                 </td><td>2267               </td><td>N3HMAA             </td><td>LGA                </td><td>MIA                </td><td>157                </td><td>1096               </td><td>7                  </td><td>55                 </td><td>2013-01-01 07:00:00</td></tr>\n",
       "\t<tr><td>2013               </td><td>1                  </td><td>1                  </td><td>800                </td><td>810                </td><td>-10                </td><td> 949               </td><td> 955               </td><td> -6                </td><td>MQ                 </td><td>4406               </td><td>N828MQ             </td><td>JFK                </td><td>RDU                </td><td> 80                </td><td> 427               </td><td>8                  </td><td>10                 </td><td>2013-01-01 08:00:00</td></tr>\n",
       "\t<tr><td>2013               </td><td>1                  </td><td>1                  </td><td>803                </td><td>810                </td><td> -7                </td><td> 903               </td><td> 925               </td><td>-22                </td><td>AA                 </td><td>1838               </td><td>N3GEAA             </td><td>JFK                </td><td>BOS                </td><td> 38                </td><td> 187               </td><td>8                  </td><td>10                 </td><td>2013-01-01 08:00:00</td></tr>\n",
       "\t<tr><td>2013               </td><td>1                  </td><td>1                  </td><td>805                </td><td>815                </td><td>-10                </td><td>1006               </td><td>1010               </td><td> -4                </td><td>MQ                 </td><td>4490               </td><td>N739MQ             </td><td>LGA                </td><td>CMH                </td><td>101                </td><td> 479               </td><td>8                  </td><td>15                 </td><td>2013-01-01 08:00:00</td></tr>\n",
       "\t<tr><td>2013               </td><td>1                  </td><td>1                  </td><td>811                </td><td>630                </td><td>101                </td><td>1047               </td><td> 830               </td><td>137                </td><td>MQ                 </td><td>4576               </td><td>N531MQ             </td><td>LGA                </td><td>CLT                </td><td>118                </td><td> 544               </td><td>6                  </td><td>30                 </td><td>2013-01-01 06:00:00</td></tr>\n",
       "\t<tr><td>2013               </td><td>1                  </td><td>1                  </td><td>820                </td><td>820                </td><td>  0                </td><td>1254               </td><td>1310               </td><td>-16                </td><td>B6                 </td><td> 717               </td><td>N527JB             </td><td>JFK                </td><td>SJU                </td><td>190                </td><td>1598               </td><td>8                  </td><td>20                 </td><td>2013-01-01 08:00:00</td></tr>\n",
       "\t<tr><td>2013               </td><td>1                  </td><td>1                  </td><td>821                </td><td>825                </td><td> -4                </td><td> 932               </td><td> 945               </td><td>-13                </td><td>MQ                 </td><td>4418               </td><td>N846MQ             </td><td>JFK                </td><td>DCA                </td><td> 52                </td><td> 213               </td><td>8                  </td><td>25                 </td><td>2013-01-01 08:00:00</td></tr>\n",
       "\t<tr><td>2013               </td><td>1                  </td><td>1                  </td><td>826                </td><td>715                </td><td> 71                </td><td>1136               </td><td>1045               </td><td> 51                </td><td>AA                 </td><td> 443               </td><td>N3GVAA             </td><td>JFK                </td><td>MIA                </td><td>160                </td><td>1089               </td><td>7                  </td><td>15                 </td><td>2013-01-01 07:00:00</td></tr>\n",
       "\t<tr><td>2013               </td><td>1                  </td><td>1                  </td><td>830                </td><td>830                </td><td>  0                </td><td>1018               </td><td>1015               </td><td>  3                </td><td>AA                 </td><td> 313               </td><td>N4YCAA             </td><td>LGA                </td><td>ORD                </td><td>137                </td><td> 733               </td><td>8                  </td><td>30                 </td><td>2013-01-01 08:00:00</td></tr>\n",
       "\t<tr><td>...</td><td>...</td><td>...</td><td>...</td><td>...</td><td>...</td><td>...</td><td>...</td><td>...</td><td>...</td><td>...</td><td>...</td><td>...</td><td>...</td><td>...</td><td>...</td><td>...</td><td>...</td><td>...</td></tr>\n",
       "\t<tr><td>2013               </td><td>9                  </td><td>30                 </td><td>1811               </td><td>1815               </td><td> -4                </td><td>2059               </td><td>2135               </td><td>-36                </td><td>AA                 </td><td>1611               </td><td>N3BBAA             </td><td>LGA                </td><td>MIA                </td><td>142                </td><td>1096               </td><td>18                 </td><td>15                 </td><td>2013-09-30 18:00:00</td></tr>\n",
       "\t<tr><td>2013               </td><td>9                  </td><td>30                 </td><td>1824               </td><td>1829               </td><td> -5                </td><td>1930               </td><td>1939               </td><td> -9                </td><td>MQ                 </td><td>3044               </td><td>N681MQ             </td><td>JFK                </td><td>BWI                </td><td> 46                </td><td> 184               </td><td>18                 </td><td>29                 </td><td>2013-09-30 18:00:00</td></tr>\n",
       "\t<tr><td>2013               </td><td>9                  </td><td>30                 </td><td>1843               </td><td>1850               </td><td> -7                </td><td>2136               </td><td>2200               </td><td>-24                </td><td>AA                 </td><td> 119               </td><td>N3KRAA             </td><td>EWR                </td><td>LAX                </td><td>302                </td><td>2454               </td><td>18                 </td><td>50                 </td><td>2013-09-30 18:00:00</td></tr>\n",
       "\t<tr><td>2013               </td><td>9                  </td><td>30                 </td><td>1843               </td><td>1830               </td><td> 13                </td><td>1950               </td><td>1950               </td><td>  0                </td><td>MQ                 </td><td>3486               </td><td>N515MQ             </td><td>LGA                </td><td>BNA                </td><td>100                </td><td> 764               </td><td>18                 </td><td>30                 </td><td>2013-09-30 18:00:00</td></tr>\n",
       "\t<tr><td>2013               </td><td>9                  </td><td>30                 </td><td>1848               </td><td>1830               </td><td> 18                </td><td>2019               </td><td>2010               </td><td>  9                </td><td>MQ                 </td><td>3134               </td><td>N504MQ             </td><td>EWR                </td><td>ORD                </td><td>103                </td><td> 719               </td><td>18                 </td><td>30                 </td><td>2013-09-30 18:00:00</td></tr>\n",
       "\t<tr><td>2013               </td><td>9                  </td><td>30                 </td><td>1849               </td><td>1855               </td><td> -6                </td><td>2007               </td><td>2035               </td><td>-28                </td><td>AA                 </td><td> 359               </td><td>N4XJAA             </td><td>LGA                </td><td>ORD                </td><td>108                </td><td> 733               </td><td>18                 </td><td>55                 </td><td>2013-09-30 18:00:00</td></tr>\n",
       "\t<tr><td>2013               </td><td>9                  </td><td>30                 </td><td>1849               </td><td>1850               </td><td> -1                </td><td>2021               </td><td>2025               </td><td> -4                </td><td>MQ                 </td><td>3674               </td><td>N544MQ             </td><td>LGA                </td><td>CLE                </td><td> 68                </td><td> 419               </td><td>18                 </td><td>50                 </td><td>2013-09-30 18:00:00</td></tr>\n",
       "\t<tr><td>2013               </td><td>9                  </td><td>30                 </td><td>1852               </td><td>1900               </td><td> -8                </td><td>2022               </td><td>2040               </td><td>-18                </td><td>MQ                 </td><td>3591               </td><td>N812MQ             </td><td>LGA                </td><td>RDU                </td><td> 68                </td><td> 431               </td><td>19                 </td><td> 0                 </td><td>2013-09-30 19:00:00</td></tr>\n",
       "\t<tr><td>2013               </td><td>9                  </td><td>30                 </td><td>1900               </td><td>1910               </td><td>-10                </td><td>2147               </td><td>2210               </td><td>-23                </td><td>AA                 </td><td>1193               </td><td>N3HBAA             </td><td>LGA                </td><td>DFW                </td><td>179                </td><td>1389               </td><td>19                 </td><td>10                 </td><td>2013-09-30 19:00:00</td></tr>\n",
       "\t<tr><td>2013               </td><td>9                  </td><td>30                 </td><td>1910               </td><td>1905               </td><td>  5                </td><td>2131               </td><td>2205               </td><td>-34                </td><td>AA                 </td><td>1691               </td><td>N483AA             </td><td>EWR                </td><td>DFW                </td><td>163                </td><td>1372               </td><td>19                 </td><td> 5                 </td><td>2013-09-30 19:00:00</td></tr>\n",
       "\t<tr><td>2013               </td><td>9                  </td><td>30                 </td><td>1924               </td><td>1930               </td><td> -6                </td><td>2104               </td><td>2125               </td><td>-21                </td><td>MQ                 </td><td>3349               </td><td>N6EAMQ             </td><td>LGA                </td><td>MSP                </td><td>140                </td><td>1020               </td><td>19                 </td><td>30                 </td><td>2013-09-30 19:00:00</td></tr>\n",
       "\t<tr><td>2013               </td><td>9                  </td><td>30                 </td><td>1928               </td><td>1940               </td><td>-12                </td><td>2043               </td><td>2120               </td><td>-37                </td><td>AA                 </td><td> 363               </td><td>N4XBAA             </td><td>LGA                </td><td>ORD                </td><td>109                </td><td> 733               </td><td>19                 </td><td>40                 </td><td>2013-09-30 19:00:00</td></tr>\n",
       "\t<tr><td>2013               </td><td>9                  </td><td>30                 </td><td>1930               </td><td>1940               </td><td>-10                </td><td>2120               </td><td>2125               </td><td> -5                </td><td>MQ                 </td><td>3374               </td><td>N839MQ             </td><td>JFK                </td><td>RDU                </td><td> 70                </td><td> 427               </td><td>19                 </td><td>40                 </td><td>2013-09-30 19:00:00</td></tr>\n",
       "\t<tr><td>2013               </td><td>9                  </td><td>30                 </td><td>1934               </td><td>1930               </td><td>  4                </td><td>2236               </td><td>2250               </td><td>-14                </td><td>AA                 </td><td> 235               </td><td>N3EXAA             </td><td>JFK                </td><td>SEA                </td><td>340                </td><td>2422               </td><td>19                 </td><td>30                 </td><td>2013-09-30 19:00:00</td></tr>\n",
       "\t<tr><td>2013               </td><td>9                  </td><td>30                 </td><td>1934               </td><td>1935               </td><td> -1                </td><td>2238               </td><td>2250               </td><td>-12                </td><td>AA                 </td><td>2437               </td><td>N3JFAA             </td><td>LGA                </td><td>MIA                </td><td>150                </td><td>1096               </td><td>19                 </td><td>35                 </td><td>2013-09-30 19:00:00</td></tr>\n",
       "\t<tr><td>2013               </td><td>9                  </td><td>30                 </td><td>1939               </td><td>1950               </td><td>-11                </td><td>2129               </td><td>2140               </td><td>-11                </td><td>MQ                 </td><td>3573               </td><td>N735MQ             </td><td>LGA                </td><td>CMH                </td><td> 73                </td><td> 479               </td><td>19                 </td><td>50                 </td><td>2013-09-30 19:00:00</td></tr>\n",
       "\t<tr><td>2013               </td><td>9                  </td><td>30                 </td><td>1943               </td><td>1810               </td><td> 93                </td><td>2140               </td><td>1955               </td><td>105                </td><td>MQ                 </td><td>3526               </td><td>N724MQ             </td><td>LGA                </td><td>CMH                </td><td> 72                </td><td> 479               </td><td>18                 </td><td>10                 </td><td>2013-09-30 18:00:00</td></tr>\n",
       "\t<tr><td>2013               </td><td>9                  </td><td>30                 </td><td>1944               </td><td>1950               </td><td> -6                </td><td>2208               </td><td>2215               </td><td> -7                </td><td>MQ                 </td><td>3662               </td><td>N507MQ             </td><td>LGA                </td><td>ATL                </td><td>100                </td><td> 762               </td><td>19                 </td><td>50                 </td><td>2013-09-30 19:00:00</td></tr>\n",
       "\t<tr><td>2013               </td><td>9                  </td><td>30                 </td><td>1958               </td><td>2005               </td><td> -7                </td><td>2119               </td><td>2130               </td><td>-11                </td><td>MQ                 </td><td>3604               </td><td>N511MQ             </td><td>EWR                </td><td>ORD                </td><td>102                </td><td> 719               </td><td>20                 </td><td> 5                 </td><td>2013-09-30 20:00:00</td></tr>\n",
       "\t<tr><td>2013               </td><td>9                  </td><td>30                 </td><td>2008               </td><td>2015               </td><td> -7                </td><td>2151               </td><td>2155               </td><td> -4                </td><td>MQ                 </td><td>3535               </td><td>N518MQ             </td><td>JFK                </td><td>CMH                </td><td> 68                </td><td> 483               </td><td>20                 </td><td>15                 </td><td>2013-09-30 20:00:00</td></tr>\n",
       "\t<tr><td>2013               </td><td>9                  </td><td>30                 </td><td>2022               </td><td>2025               </td><td> -3                </td><td>2127               </td><td>2140               </td><td>-13                </td><td>AA                 </td><td>2314               </td><td>N3CUAA             </td><td>JFK                </td><td>BOS                </td><td> 37                </td><td> 187               </td><td>20                 </td><td>25                 </td><td>2013-09-30 20:00:00</td></tr>\n",
       "\t<tr><td>2013               </td><td>9                  </td><td>30                 </td><td>2050               </td><td>2100               </td><td>-10                </td><td>2218               </td><td>2235               </td><td>-17                </td><td>MQ                 </td><td>3317               </td><td>N535MQ             </td><td>LGA                </td><td>RDU                </td><td> 60                </td><td> 431               </td><td>21                 </td><td> 0                 </td><td>2013-09-30 21:00:00</td></tr>\n",
       "\t<tr><td>2013               </td><td>9                  </td><td>30                 </td><td>2054               </td><td>2100               </td><td> -6                </td><td>2240               </td><td>2245               </td><td> -5                </td><td>MQ                 </td><td>3384               </td><td>N528MQ             </td><td>LGA                </td><td>CLT                </td><td> 70                </td><td> 544               </td><td>21                 </td><td> 0                 </td><td>2013-09-30 21:00:00</td></tr>\n",
       "\t<tr><td>2013               </td><td>9                  </td><td>30                 </td><td>2131               </td><td>2140               </td><td> -9                </td><td>2225               </td><td>2255               </td><td>-30                </td><td>MQ                 </td><td>3621               </td><td>N807MQ             </td><td>JFK                </td><td>DCA                </td><td> 36                </td><td> 213               </td><td>21                 </td><td>40                 </td><td>2013-09-30 21:00:00</td></tr>\n",
       "\t<tr><td>2013               </td><td>9                  </td><td>30                 </td><td>2207               </td><td>2140               </td><td> 27                </td><td>2257               </td><td>2250               </td><td>  7                </td><td>MQ                 </td><td>3660               </td><td>N532MQ             </td><td>LGA                </td><td>BNA                </td><td> 97                </td><td> 764               </td><td>21                 </td><td>40                 </td><td>2013-09-30 21:00:00</td></tr>\n",
       "\t<tr><td>2013               </td><td>9                  </td><td>30                 </td><td>  NA               </td><td>1455               </td><td> NA                </td><td>  NA               </td><td>1634               </td><td> NA                </td><td>9E                 </td><td>3393               </td><td>NA                 </td><td>JFK                </td><td>DCA                </td><td> NA                </td><td> 213               </td><td>14                 </td><td>55                 </td><td>2013-09-30 14:00:00</td></tr>\n",
       "\t<tr><td>2013               </td><td>9                  </td><td>30                 </td><td>  NA               </td><td>2200               </td><td> NA                </td><td>  NA               </td><td>2312               </td><td> NA                </td><td>9E                 </td><td>3525               </td><td>NA                 </td><td>LGA                </td><td>SYR                </td><td> NA                </td><td> 198               </td><td>22                 </td><td> 0                 </td><td>2013-09-30 22:00:00</td></tr>\n",
       "\t<tr><td>2013               </td><td>9                  </td><td>30                 </td><td>  NA               </td><td>1210               </td><td> NA                </td><td>  NA               </td><td>1330               </td><td> NA                </td><td>MQ                 </td><td>3461               </td><td>N535MQ             </td><td>LGA                </td><td>BNA                </td><td> NA                </td><td> 764               </td><td>12                 </td><td>10                 </td><td>2013-09-30 12:00:00</td></tr>\n",
       "\t<tr><td>2013               </td><td>9                  </td><td>30                 </td><td>  NA               </td><td>1159               </td><td> NA                </td><td>  NA               </td><td>1344               </td><td> NA                </td><td>MQ                 </td><td>3572               </td><td>N511MQ             </td><td>LGA                </td><td>CLE                </td><td> NA                </td><td> 419               </td><td>11                 </td><td>59                 </td><td>2013-09-30 11:00:00</td></tr>\n",
       "\t<tr><td>2013               </td><td>9                  </td><td>30                 </td><td>  NA               </td><td> 840               </td><td> NA                </td><td>  NA               </td><td>1020               </td><td> NA                </td><td>MQ                 </td><td>3531               </td><td>N839MQ             </td><td>LGA                </td><td>RDU                </td><td> NA                </td><td> 431               </td><td> 8                 </td><td>40                 </td><td>2013-09-30 08:00:00</td></tr>\n",
       "</tbody>\n",
       "</table>\n"
      ],
      "text/latex": [
       "\\begin{tabular}{r|lllllllllllllllllll}\n",
       " year & month & day & dep\\_time & sched\\_dep\\_time & dep\\_delay & arr\\_time & sched\\_arr\\_time & arr\\_delay & carrier & flight & tailnum & origin & dest & air\\_time & distance & hour & minute & time\\_hour\\\\\n",
       "\\hline\n",
       "\t 2013                & 1                   & 1                   & 558                 & 600                 &  -2                 &  753                &  745                &   8                 & AA                  &  301                & N3ALAA              & LGA                 & ORD                 & 138                 &  733                & 6                   &  0                  & 2013-01-01 06:00:00\\\\\n",
       "\t 2013                & 1                   & 1                   & 559                 & 600                 &  -1                 &  941                &  910                &  31                 & AA                  &  707                & N3DUAA              & LGA                 & DFW                 & 257                 & 1389                & 6                   &  0                  & 2013-01-01 06:00:00\\\\\n",
       "\t 2013                & 1                   & 1                   & 600                 & 600                 &   0                 &  837                &  825                &  12                 & MQ                  & 4650                & N542MQ              & LGA                 & ATL                 & 134                 &  762                & 6                   &  0                  & 2013-01-01 06:00:00\\\\\n",
       "\t 2013                & 1                   & 1                   & 602                 & 605                 &  -3                 &  821                &  805                &  16                 & MQ                  & 4401                & N730MQ              & LGA                 & DTW                 & 105                 &  502                & 6                   &  5                  & 2013-01-01 06:00:00\\\\\n",
       "\t 2013                & 1                   & 1                   & 608                 & 600                 &   8                 &  807                &  735                &  32                 & MQ                  & 3768                & N9EAMQ              & EWR                 & ORD                 & 139                 &  719                & 6                   &  0                  & 2013-01-01 06:00:00\\\\\n",
       "\t 2013                & 1                   & 1                   & 611                 & 600                 &  11                 &  945                &  931                &  14                 & UA                  &  303                & N532UA              & JFK                 & SFO                 & 366                 & 2586                & 6                   &  0                  & 2013-01-01 06:00:00\\\\\n",
       "\t 2013                & 1                   & 1                   & 623                 & 610                 &  13                 &  920                &  915                &   5                 & AA                  & 1837                & N3EMAA              & LGA                 & MIA                 & 153                 & 1096                & 6                   & 10                  & 2013-01-01 06:00:00\\\\\n",
       "\t 2013                & 1                   & 1                   & 624                 & 630                 &  -6                 &  840                &  830                &  10                 & MQ                  & 4599                & N518MQ              & LGA                 & MSP                 & 166                 & 1020                & 6                   & 30                  & 2013-01-01 06:00:00\\\\\n",
       "\t 2013                & 1                   & 1                   & 628                 & 630                 &  -2                 & 1137                & 1140                &  -3                 & AA                  &  413                & N3BAAA              & JFK                 & SJU                 & 192                 & 1598                & 6                   & 30                  & 2013-01-01 06:00:00\\\\\n",
       "\t 2013                & 1                   & 1                   & 629                 & 630                 &  -1                 &  824                &  810                &  14                 & AA                  &  303                & N3CYAA              & LGA                 & ORD                 & 140                 &  733                & 6                   & 30                  & 2013-01-01 06:00:00\\\\\n",
       "\t 2013                & 1                   & 1                   & 629                 & 630                 &  -1                 &  824                &  833                &  -9                 & US                  & 1019                & N426US              & EWR                 & CLT                 &  91                 &  529                & 6                   & 30                  & 2013-01-01 06:00:00\\\\\n",
       "\t 2013                & 1                   & 1                   & 635                 & 635                 &   0                 & 1028                &  940                &  48                 & AA                  &  711                & N3GKAA              & LGA                 & DFW                 & 248                 & 1389                & 6                   & 35                  & 2013-01-01 06:00:00\\\\\n",
       "\t 2013                & 1                   & 1                   & 656                 & 700                 &  -4                 &  854                &  850                &   4                 & AA                  &  305                & N4WNAA              & LGA                 & ORD                 & 143                 &  733                & 7                   &  0                  & 2013-01-01 07:00:00\\\\\n",
       "\t 2013                & 1                   & 1                   & 656                 & 659                 &  -3                 &  949                &  959                & -10                 & AA                  & 1815                & N5FMAA              & JFK                 & MCO                 & 142                 &  944                & 6                   & 59                  & 2013-01-01 06:00:00\\\\\n",
       "\t 2013                & 1                   & 1                   & 656                 & 705                 &  -9                 & 1007                &  940                &  27                 & MQ                  & 4534                & N722MQ              & LGA                 & XNA                 & 233                 & 1147                & 7                   &  5                  & 2013-01-01 07:00:00\\\\\n",
       "\t 2013                & 1                   & 1                   & 659                 & 700                 &  -1                 & 1008                & 1015                &  -7                 & AA                  & 2279                & N3EKAA              & LGA                 & MIA                 & 159                 & 1096                & 7                   &  0                  & 2013-01-01 07:00:00\\\\\n",
       "\t 2013                & 1                   & 1                   & 712                 & 715                 &  -3                 & 1023                & 1035                & -12                 & AA                  &  825                & N3ETAA              & JFK                 & FLL                 & 159                 & 1069                & 7                   & 15                  & 2013-01-01 07:00:00\\\\\n",
       "\t 2013                & 1                   & 1                   & 724                 & 730                 &  -6                 & 1111                & 1040                &  31                 & AA                  &  715                & N541AA              & LGA                 & DFW                 & 254                 & 1389                & 7                   & 30                  & 2013-01-01 07:00:00\\\\\n",
       "\t 2013                & 1                   & 1                   & 725                 & 730                 &  -5                 & 1052                & 1040                &  12                 & AA                  & 2083                & N4WRAA              & EWR                 & DFW                 & 238                 & 1372                & 7                   & 30                  & 2013-01-01 07:00:00\\\\\n",
       "\t 2013                & 1                   & 1                   & 739                 & 745                 &  -6                 &  918                &  930                & -12                 & AA                  &  309                & N4WPAA              & LGA                 & ORD                 & 137                 &  733                & 7                   & 45                  & 2013-01-01 07:00:00\\\\\n",
       "\t 2013                & 1                   & 1                   & 749                 & 710                 &  39                 &  939                &  850                &  49                 & MQ                  & 3737                & N508MQ              & EWR                 & ORD                 & 148                 &  719                & 7                   & 10                  & 2013-01-01 07:00:00\\\\\n",
       "\t 2013                & 1                   & 1                   & 753                 & 755                 &  -2                 & 1056                & 1110                & -14                 & AA                  & 2267                & N3HMAA              & LGA                 & MIA                 & 157                 & 1096                & 7                   & 55                  & 2013-01-01 07:00:00\\\\\n",
       "\t 2013                & 1                   & 1                   & 800                 & 810                 & -10                 &  949                &  955                &  -6                 & MQ                  & 4406                & N828MQ              & JFK                 & RDU                 &  80                 &  427                & 8                   & 10                  & 2013-01-01 08:00:00\\\\\n",
       "\t 2013                & 1                   & 1                   & 803                 & 810                 &  -7                 &  903                &  925                & -22                 & AA                  & 1838                & N3GEAA              & JFK                 & BOS                 &  38                 &  187                & 8                   & 10                  & 2013-01-01 08:00:00\\\\\n",
       "\t 2013                & 1                   & 1                   & 805                 & 815                 & -10                 & 1006                & 1010                &  -4                 & MQ                  & 4490                & N739MQ              & LGA                 & CMH                 & 101                 &  479                & 8                   & 15                  & 2013-01-01 08:00:00\\\\\n",
       "\t 2013                & 1                   & 1                   & 811                 & 630                 & 101                 & 1047                &  830                & 137                 & MQ                  & 4576                & N531MQ              & LGA                 & CLT                 & 118                 &  544                & 6                   & 30                  & 2013-01-01 06:00:00\\\\\n",
       "\t 2013                & 1                   & 1                   & 820                 & 820                 &   0                 & 1254                & 1310                & -16                 & B6                  &  717                & N527JB              & JFK                 & SJU                 & 190                 & 1598                & 8                   & 20                  & 2013-01-01 08:00:00\\\\\n",
       "\t 2013                & 1                   & 1                   & 821                 & 825                 &  -4                 &  932                &  945                & -13                 & MQ                  & 4418                & N846MQ              & JFK                 & DCA                 &  52                 &  213                & 8                   & 25                  & 2013-01-01 08:00:00\\\\\n",
       "\t 2013                & 1                   & 1                   & 826                 & 715                 &  71                 & 1136                & 1045                &  51                 & AA                  &  443                & N3GVAA              & JFK                 & MIA                 & 160                 & 1089                & 7                   & 15                  & 2013-01-01 07:00:00\\\\\n",
       "\t 2013                & 1                   & 1                   & 830                 & 830                 &   0                 & 1018                & 1015                &   3                 & AA                  &  313                & N4YCAA              & LGA                 & ORD                 & 137                 &  733                & 8                   & 30                  & 2013-01-01 08:00:00\\\\\n",
       "\t ... & ... & ... & ... & ... & ... & ... & ... & ... & ... & ... & ... & ... & ... & ... & ... & ... & ... & ...\\\\\n",
       "\t 2013                & 9                   & 30                  & 1811                & 1815                &  -4                 & 2059                & 2135                & -36                 & AA                  & 1611                & N3BBAA              & LGA                 & MIA                 & 142                 & 1096                & 18                  & 15                  & 2013-09-30 18:00:00\\\\\n",
       "\t 2013                & 9                   & 30                  & 1824                & 1829                &  -5                 & 1930                & 1939                &  -9                 & MQ                  & 3044                & N681MQ              & JFK                 & BWI                 &  46                 &  184                & 18                  & 29                  & 2013-09-30 18:00:00\\\\\n",
       "\t 2013                & 9                   & 30                  & 1843                & 1850                &  -7                 & 2136                & 2200                & -24                 & AA                  &  119                & N3KRAA              & EWR                 & LAX                 & 302                 & 2454                & 18                  & 50                  & 2013-09-30 18:00:00\\\\\n",
       "\t 2013                & 9                   & 30                  & 1843                & 1830                &  13                 & 1950                & 1950                &   0                 & MQ                  & 3486                & N515MQ              & LGA                 & BNA                 & 100                 &  764                & 18                  & 30                  & 2013-09-30 18:00:00\\\\\n",
       "\t 2013                & 9                   & 30                  & 1848                & 1830                &  18                 & 2019                & 2010                &   9                 & MQ                  & 3134                & N504MQ              & EWR                 & ORD                 & 103                 &  719                & 18                  & 30                  & 2013-09-30 18:00:00\\\\\n",
       "\t 2013                & 9                   & 30                  & 1849                & 1855                &  -6                 & 2007                & 2035                & -28                 & AA                  &  359                & N4XJAA              & LGA                 & ORD                 & 108                 &  733                & 18                  & 55                  & 2013-09-30 18:00:00\\\\\n",
       "\t 2013                & 9                   & 30                  & 1849                & 1850                &  -1                 & 2021                & 2025                &  -4                 & MQ                  & 3674                & N544MQ              & LGA                 & CLE                 &  68                 &  419                & 18                  & 50                  & 2013-09-30 18:00:00\\\\\n",
       "\t 2013                & 9                   & 30                  & 1852                & 1900                &  -8                 & 2022                & 2040                & -18                 & MQ                  & 3591                & N812MQ              & LGA                 & RDU                 &  68                 &  431                & 19                  &  0                  & 2013-09-30 19:00:00\\\\\n",
       "\t 2013                & 9                   & 30                  & 1900                & 1910                & -10                 & 2147                & 2210                & -23                 & AA                  & 1193                & N3HBAA              & LGA                 & DFW                 & 179                 & 1389                & 19                  & 10                  & 2013-09-30 19:00:00\\\\\n",
       "\t 2013                & 9                   & 30                  & 1910                & 1905                &   5                 & 2131                & 2205                & -34                 & AA                  & 1691                & N483AA              & EWR                 & DFW                 & 163                 & 1372                & 19                  &  5                  & 2013-09-30 19:00:00\\\\\n",
       "\t 2013                & 9                   & 30                  & 1924                & 1930                &  -6                 & 2104                & 2125                & -21                 & MQ                  & 3349                & N6EAMQ              & LGA                 & MSP                 & 140                 & 1020                & 19                  & 30                  & 2013-09-30 19:00:00\\\\\n",
       "\t 2013                & 9                   & 30                  & 1928                & 1940                & -12                 & 2043                & 2120                & -37                 & AA                  &  363                & N4XBAA              & LGA                 & ORD                 & 109                 &  733                & 19                  & 40                  & 2013-09-30 19:00:00\\\\\n",
       "\t 2013                & 9                   & 30                  & 1930                & 1940                & -10                 & 2120                & 2125                &  -5                 & MQ                  & 3374                & N839MQ              & JFK                 & RDU                 &  70                 &  427                & 19                  & 40                  & 2013-09-30 19:00:00\\\\\n",
       "\t 2013                & 9                   & 30                  & 1934                & 1930                &   4                 & 2236                & 2250                & -14                 & AA                  &  235                & N3EXAA              & JFK                 & SEA                 & 340                 & 2422                & 19                  & 30                  & 2013-09-30 19:00:00\\\\\n",
       "\t 2013                & 9                   & 30                  & 1934                & 1935                &  -1                 & 2238                & 2250                & -12                 & AA                  & 2437                & N3JFAA              & LGA                 & MIA                 & 150                 & 1096                & 19                  & 35                  & 2013-09-30 19:00:00\\\\\n",
       "\t 2013                & 9                   & 30                  & 1939                & 1950                & -11                 & 2129                & 2140                & -11                 & MQ                  & 3573                & N735MQ              & LGA                 & CMH                 &  73                 &  479                & 19                  & 50                  & 2013-09-30 19:00:00\\\\\n",
       "\t 2013                & 9                   & 30                  & 1943                & 1810                &  93                 & 2140                & 1955                & 105                 & MQ                  & 3526                & N724MQ              & LGA                 & CMH                 &  72                 &  479                & 18                  & 10                  & 2013-09-30 18:00:00\\\\\n",
       "\t 2013                & 9                   & 30                  & 1944                & 1950                &  -6                 & 2208                & 2215                &  -7                 & MQ                  & 3662                & N507MQ              & LGA                 & ATL                 & 100                 &  762                & 19                  & 50                  & 2013-09-30 19:00:00\\\\\n",
       "\t 2013                & 9                   & 30                  & 1958                & 2005                &  -7                 & 2119                & 2130                & -11                 & MQ                  & 3604                & N511MQ              & EWR                 & ORD                 & 102                 &  719                & 20                  &  5                  & 2013-09-30 20:00:00\\\\\n",
       "\t 2013                & 9                   & 30                  & 2008                & 2015                &  -7                 & 2151                & 2155                &  -4                 & MQ                  & 3535                & N518MQ              & JFK                 & CMH                 &  68                 &  483                & 20                  & 15                  & 2013-09-30 20:00:00\\\\\n",
       "\t 2013                & 9                   & 30                  & 2022                & 2025                &  -3                 & 2127                & 2140                & -13                 & AA                  & 2314                & N3CUAA              & JFK                 & BOS                 &  37                 &  187                & 20                  & 25                  & 2013-09-30 20:00:00\\\\\n",
       "\t 2013                & 9                   & 30                  & 2050                & 2100                & -10                 & 2218                & 2235                & -17                 & MQ                  & 3317                & N535MQ              & LGA                 & RDU                 &  60                 &  431                & 21                  &  0                  & 2013-09-30 21:00:00\\\\\n",
       "\t 2013                & 9                   & 30                  & 2054                & 2100                &  -6                 & 2240                & 2245                &  -5                 & MQ                  & 3384                & N528MQ              & LGA                 & CLT                 &  70                 &  544                & 21                  &  0                  & 2013-09-30 21:00:00\\\\\n",
       "\t 2013                & 9                   & 30                  & 2131                & 2140                &  -9                 & 2225                & 2255                & -30                 & MQ                  & 3621                & N807MQ              & JFK                 & DCA                 &  36                 &  213                & 21                  & 40                  & 2013-09-30 21:00:00\\\\\n",
       "\t 2013                & 9                   & 30                  & 2207                & 2140                &  27                 & 2257                & 2250                &   7                 & MQ                  & 3660                & N532MQ              & LGA                 & BNA                 &  97                 &  764                & 21                  & 40                  & 2013-09-30 21:00:00\\\\\n",
       "\t 2013                & 9                   & 30                  &   NA                & 1455                &  NA                 &   NA                & 1634                &  NA                 & 9E                  & 3393                & NA                  & JFK                 & DCA                 &  NA                 &  213                & 14                  & 55                  & 2013-09-30 14:00:00\\\\\n",
       "\t 2013                & 9                   & 30                  &   NA                & 2200                &  NA                 &   NA                & 2312                &  NA                 & 9E                  & 3525                & NA                  & LGA                 & SYR                 &  NA                 &  198                & 22                  &  0                  & 2013-09-30 22:00:00\\\\\n",
       "\t 2013                & 9                   & 30                  &   NA                & 1210                &  NA                 &   NA                & 1330                &  NA                 & MQ                  & 3461                & N535MQ              & LGA                 & BNA                 &  NA                 &  764                & 12                  & 10                  & 2013-09-30 12:00:00\\\\\n",
       "\t 2013                & 9                   & 30                  &   NA                & 1159                &  NA                 &   NA                & 1344                &  NA                 & MQ                  & 3572                & N511MQ              & LGA                 & CLE                 &  NA                 &  419                & 11                  & 59                  & 2013-09-30 11:00:00\\\\\n",
       "\t 2013                & 9                   & 30                  &   NA                &  840                &  NA                 &   NA                & 1020                &  NA                 & MQ                  & 3531                & N839MQ              & LGA                 & RDU                 &  NA                 &  431                &  8                  & 40                  & 2013-09-30 08:00:00\\\\\n",
       "\\end{tabular}\n"
      ],
      "text/markdown": [
       "\n",
       "| year | month | day | dep_time | sched_dep_time | dep_delay | arr_time | sched_arr_time | arr_delay | carrier | flight | tailnum | origin | dest | air_time | distance | hour | minute | time_hour |\n",
       "|---|---|---|---|---|---|---|---|---|---|---|---|---|---|---|---|---|---|---|\n",
       "| 2013                | 1                   | 1                   | 558                 | 600                 |  -2                 |  753                |  745                |   8                 | AA                  |  301                | N3ALAA              | LGA                 | ORD                 | 138                 |  733                | 6                   |  0                  | 2013-01-01 06:00:00 |\n",
       "| 2013                | 1                   | 1                   | 559                 | 600                 |  -1                 |  941                |  910                |  31                 | AA                  |  707                | N3DUAA              | LGA                 | DFW                 | 257                 | 1389                | 6                   |  0                  | 2013-01-01 06:00:00 |\n",
       "| 2013                | 1                   | 1                   | 600                 | 600                 |   0                 |  837                |  825                |  12                 | MQ                  | 4650                | N542MQ              | LGA                 | ATL                 | 134                 |  762                | 6                   |  0                  | 2013-01-01 06:00:00 |\n",
       "| 2013                | 1                   | 1                   | 602                 | 605                 |  -3                 |  821                |  805                |  16                 | MQ                  | 4401                | N730MQ              | LGA                 | DTW                 | 105                 |  502                | 6                   |  5                  | 2013-01-01 06:00:00 |\n",
       "| 2013                | 1                   | 1                   | 608                 | 600                 |   8                 |  807                |  735                |  32                 | MQ                  | 3768                | N9EAMQ              | EWR                 | ORD                 | 139                 |  719                | 6                   |  0                  | 2013-01-01 06:00:00 |\n",
       "| 2013                | 1                   | 1                   | 611                 | 600                 |  11                 |  945                |  931                |  14                 | UA                  |  303                | N532UA              | JFK                 | SFO                 | 366                 | 2586                | 6                   |  0                  | 2013-01-01 06:00:00 |\n",
       "| 2013                | 1                   | 1                   | 623                 | 610                 |  13                 |  920                |  915                |   5                 | AA                  | 1837                | N3EMAA              | LGA                 | MIA                 | 153                 | 1096                | 6                   | 10                  | 2013-01-01 06:00:00 |\n",
       "| 2013                | 1                   | 1                   | 624                 | 630                 |  -6                 |  840                |  830                |  10                 | MQ                  | 4599                | N518MQ              | LGA                 | MSP                 | 166                 | 1020                | 6                   | 30                  | 2013-01-01 06:00:00 |\n",
       "| 2013                | 1                   | 1                   | 628                 | 630                 |  -2                 | 1137                | 1140                |  -3                 | AA                  |  413                | N3BAAA              | JFK                 | SJU                 | 192                 | 1598                | 6                   | 30                  | 2013-01-01 06:00:00 |\n",
       "| 2013                | 1                   | 1                   | 629                 | 630                 |  -1                 |  824                |  810                |  14                 | AA                  |  303                | N3CYAA              | LGA                 | ORD                 | 140                 |  733                | 6                   | 30                  | 2013-01-01 06:00:00 |\n",
       "| 2013                | 1                   | 1                   | 629                 | 630                 |  -1                 |  824                |  833                |  -9                 | US                  | 1019                | N426US              | EWR                 | CLT                 |  91                 |  529                | 6                   | 30                  | 2013-01-01 06:00:00 |\n",
       "| 2013                | 1                   | 1                   | 635                 | 635                 |   0                 | 1028                |  940                |  48                 | AA                  |  711                | N3GKAA              | LGA                 | DFW                 | 248                 | 1389                | 6                   | 35                  | 2013-01-01 06:00:00 |\n",
       "| 2013                | 1                   | 1                   | 656                 | 700                 |  -4                 |  854                |  850                |   4                 | AA                  |  305                | N4WNAA              | LGA                 | ORD                 | 143                 |  733                | 7                   |  0                  | 2013-01-01 07:00:00 |\n",
       "| 2013                | 1                   | 1                   | 656                 | 659                 |  -3                 |  949                |  959                | -10                 | AA                  | 1815                | N5FMAA              | JFK                 | MCO                 | 142                 |  944                | 6                   | 59                  | 2013-01-01 06:00:00 |\n",
       "| 2013                | 1                   | 1                   | 656                 | 705                 |  -9                 | 1007                |  940                |  27                 | MQ                  | 4534                | N722MQ              | LGA                 | XNA                 | 233                 | 1147                | 7                   |  5                  | 2013-01-01 07:00:00 |\n",
       "| 2013                | 1                   | 1                   | 659                 | 700                 |  -1                 | 1008                | 1015                |  -7                 | AA                  | 2279                | N3EKAA              | LGA                 | MIA                 | 159                 | 1096                | 7                   |  0                  | 2013-01-01 07:00:00 |\n",
       "| 2013                | 1                   | 1                   | 712                 | 715                 |  -3                 | 1023                | 1035                | -12                 | AA                  |  825                | N3ETAA              | JFK                 | FLL                 | 159                 | 1069                | 7                   | 15                  | 2013-01-01 07:00:00 |\n",
       "| 2013                | 1                   | 1                   | 724                 | 730                 |  -6                 | 1111                | 1040                |  31                 | AA                  |  715                | N541AA              | LGA                 | DFW                 | 254                 | 1389                | 7                   | 30                  | 2013-01-01 07:00:00 |\n",
       "| 2013                | 1                   | 1                   | 725                 | 730                 |  -5                 | 1052                | 1040                |  12                 | AA                  | 2083                | N4WRAA              | EWR                 | DFW                 | 238                 | 1372                | 7                   | 30                  | 2013-01-01 07:00:00 |\n",
       "| 2013                | 1                   | 1                   | 739                 | 745                 |  -6                 |  918                |  930                | -12                 | AA                  |  309                | N4WPAA              | LGA                 | ORD                 | 137                 |  733                | 7                   | 45                  | 2013-01-01 07:00:00 |\n",
       "| 2013                | 1                   | 1                   | 749                 | 710                 |  39                 |  939                |  850                |  49                 | MQ                  | 3737                | N508MQ              | EWR                 | ORD                 | 148                 |  719                | 7                   | 10                  | 2013-01-01 07:00:00 |\n",
       "| 2013                | 1                   | 1                   | 753                 | 755                 |  -2                 | 1056                | 1110                | -14                 | AA                  | 2267                | N3HMAA              | LGA                 | MIA                 | 157                 | 1096                | 7                   | 55                  | 2013-01-01 07:00:00 |\n",
       "| 2013                | 1                   | 1                   | 800                 | 810                 | -10                 |  949                |  955                |  -6                 | MQ                  | 4406                | N828MQ              | JFK                 | RDU                 |  80                 |  427                | 8                   | 10                  | 2013-01-01 08:00:00 |\n",
       "| 2013                | 1                   | 1                   | 803                 | 810                 |  -7                 |  903                |  925                | -22                 | AA                  | 1838                | N3GEAA              | JFK                 | BOS                 |  38                 |  187                | 8                   | 10                  | 2013-01-01 08:00:00 |\n",
       "| 2013                | 1                   | 1                   | 805                 | 815                 | -10                 | 1006                | 1010                |  -4                 | MQ                  | 4490                | N739MQ              | LGA                 | CMH                 | 101                 |  479                | 8                   | 15                  | 2013-01-01 08:00:00 |\n",
       "| 2013                | 1                   | 1                   | 811                 | 630                 | 101                 | 1047                |  830                | 137                 | MQ                  | 4576                | N531MQ              | LGA                 | CLT                 | 118                 |  544                | 6                   | 30                  | 2013-01-01 06:00:00 |\n",
       "| 2013                | 1                   | 1                   | 820                 | 820                 |   0                 | 1254                | 1310                | -16                 | B6                  |  717                | N527JB              | JFK                 | SJU                 | 190                 | 1598                | 8                   | 20                  | 2013-01-01 08:00:00 |\n",
       "| 2013                | 1                   | 1                   | 821                 | 825                 |  -4                 |  932                |  945                | -13                 | MQ                  | 4418                | N846MQ              | JFK                 | DCA                 |  52                 |  213                | 8                   | 25                  | 2013-01-01 08:00:00 |\n",
       "| 2013                | 1                   | 1                   | 826                 | 715                 |  71                 | 1136                | 1045                |  51                 | AA                  |  443                | N3GVAA              | JFK                 | MIA                 | 160                 | 1089                | 7                   | 15                  | 2013-01-01 07:00:00 |\n",
       "| 2013                | 1                   | 1                   | 830                 | 830                 |   0                 | 1018                | 1015                |   3                 | AA                  |  313                | N4YCAA              | LGA                 | ORD                 | 137                 |  733                | 8                   | 30                  | 2013-01-01 08:00:00 |\n",
       "| ... | ... | ... | ... | ... | ... | ... | ... | ... | ... | ... | ... | ... | ... | ... | ... | ... | ... | ... |\n",
       "| 2013                | 9                   | 30                  | 1811                | 1815                |  -4                 | 2059                | 2135                | -36                 | AA                  | 1611                | N3BBAA              | LGA                 | MIA                 | 142                 | 1096                | 18                  | 15                  | 2013-09-30 18:00:00 |\n",
       "| 2013                | 9                   | 30                  | 1824                | 1829                |  -5                 | 1930                | 1939                |  -9                 | MQ                  | 3044                | N681MQ              | JFK                 | BWI                 |  46                 |  184                | 18                  | 29                  | 2013-09-30 18:00:00 |\n",
       "| 2013                | 9                   | 30                  | 1843                | 1850                |  -7                 | 2136                | 2200                | -24                 | AA                  |  119                | N3KRAA              | EWR                 | LAX                 | 302                 | 2454                | 18                  | 50                  | 2013-09-30 18:00:00 |\n",
       "| 2013                | 9                   | 30                  | 1843                | 1830                |  13                 | 1950                | 1950                |   0                 | MQ                  | 3486                | N515MQ              | LGA                 | BNA                 | 100                 |  764                | 18                  | 30                  | 2013-09-30 18:00:00 |\n",
       "| 2013                | 9                   | 30                  | 1848                | 1830                |  18                 | 2019                | 2010                |   9                 | MQ                  | 3134                | N504MQ              | EWR                 | ORD                 | 103                 |  719                | 18                  | 30                  | 2013-09-30 18:00:00 |\n",
       "| 2013                | 9                   | 30                  | 1849                | 1855                |  -6                 | 2007                | 2035                | -28                 | AA                  |  359                | N4XJAA              | LGA                 | ORD                 | 108                 |  733                | 18                  | 55                  | 2013-09-30 18:00:00 |\n",
       "| 2013                | 9                   | 30                  | 1849                | 1850                |  -1                 | 2021                | 2025                |  -4                 | MQ                  | 3674                | N544MQ              | LGA                 | CLE                 |  68                 |  419                | 18                  | 50                  | 2013-09-30 18:00:00 |\n",
       "| 2013                | 9                   | 30                  | 1852                | 1900                |  -8                 | 2022                | 2040                | -18                 | MQ                  | 3591                | N812MQ              | LGA                 | RDU                 |  68                 |  431                | 19                  |  0                  | 2013-09-30 19:00:00 |\n",
       "| 2013                | 9                   | 30                  | 1900                | 1910                | -10                 | 2147                | 2210                | -23                 | AA                  | 1193                | N3HBAA              | LGA                 | DFW                 | 179                 | 1389                | 19                  | 10                  | 2013-09-30 19:00:00 |\n",
       "| 2013                | 9                   | 30                  | 1910                | 1905                |   5                 | 2131                | 2205                | -34                 | AA                  | 1691                | N483AA              | EWR                 | DFW                 | 163                 | 1372                | 19                  |  5                  | 2013-09-30 19:00:00 |\n",
       "| 2013                | 9                   | 30                  | 1924                | 1930                |  -6                 | 2104                | 2125                | -21                 | MQ                  | 3349                | N6EAMQ              | LGA                 | MSP                 | 140                 | 1020                | 19                  | 30                  | 2013-09-30 19:00:00 |\n",
       "| 2013                | 9                   | 30                  | 1928                | 1940                | -12                 | 2043                | 2120                | -37                 | AA                  |  363                | N4XBAA              | LGA                 | ORD                 | 109                 |  733                | 19                  | 40                  | 2013-09-30 19:00:00 |\n",
       "| 2013                | 9                   | 30                  | 1930                | 1940                | -10                 | 2120                | 2125                |  -5                 | MQ                  | 3374                | N839MQ              | JFK                 | RDU                 |  70                 |  427                | 19                  | 40                  | 2013-09-30 19:00:00 |\n",
       "| 2013                | 9                   | 30                  | 1934                | 1930                |   4                 | 2236                | 2250                | -14                 | AA                  |  235                | N3EXAA              | JFK                 | SEA                 | 340                 | 2422                | 19                  | 30                  | 2013-09-30 19:00:00 |\n",
       "| 2013                | 9                   | 30                  | 1934                | 1935                |  -1                 | 2238                | 2250                | -12                 | AA                  | 2437                | N3JFAA              | LGA                 | MIA                 | 150                 | 1096                | 19                  | 35                  | 2013-09-30 19:00:00 |\n",
       "| 2013                | 9                   | 30                  | 1939                | 1950                | -11                 | 2129                | 2140                | -11                 | MQ                  | 3573                | N735MQ              | LGA                 | CMH                 |  73                 |  479                | 19                  | 50                  | 2013-09-30 19:00:00 |\n",
       "| 2013                | 9                   | 30                  | 1943                | 1810                |  93                 | 2140                | 1955                | 105                 | MQ                  | 3526                | N724MQ              | LGA                 | CMH                 |  72                 |  479                | 18                  | 10                  | 2013-09-30 18:00:00 |\n",
       "| 2013                | 9                   | 30                  | 1944                | 1950                |  -6                 | 2208                | 2215                |  -7                 | MQ                  | 3662                | N507MQ              | LGA                 | ATL                 | 100                 |  762                | 19                  | 50                  | 2013-09-30 19:00:00 |\n",
       "| 2013                | 9                   | 30                  | 1958                | 2005                |  -7                 | 2119                | 2130                | -11                 | MQ                  | 3604                | N511MQ              | EWR                 | ORD                 | 102                 |  719                | 20                  |  5                  | 2013-09-30 20:00:00 |\n",
       "| 2013                | 9                   | 30                  | 2008                | 2015                |  -7                 | 2151                | 2155                |  -4                 | MQ                  | 3535                | N518MQ              | JFK                 | CMH                 |  68                 |  483                | 20                  | 15                  | 2013-09-30 20:00:00 |\n",
       "| 2013                | 9                   | 30                  | 2022                | 2025                |  -3                 | 2127                | 2140                | -13                 | AA                  | 2314                | N3CUAA              | JFK                 | BOS                 |  37                 |  187                | 20                  | 25                  | 2013-09-30 20:00:00 |\n",
       "| 2013                | 9                   | 30                  | 2050                | 2100                | -10                 | 2218                | 2235                | -17                 | MQ                  | 3317                | N535MQ              | LGA                 | RDU                 |  60                 |  431                | 21                  |  0                  | 2013-09-30 21:00:00 |\n",
       "| 2013                | 9                   | 30                  | 2054                | 2100                |  -6                 | 2240                | 2245                |  -5                 | MQ                  | 3384                | N528MQ              | LGA                 | CLT                 |  70                 |  544                | 21                  |  0                  | 2013-09-30 21:00:00 |\n",
       "| 2013                | 9                   | 30                  | 2131                | 2140                |  -9                 | 2225                | 2255                | -30                 | MQ                  | 3621                | N807MQ              | JFK                 | DCA                 |  36                 |  213                | 21                  | 40                  | 2013-09-30 21:00:00 |\n",
       "| 2013                | 9                   | 30                  | 2207                | 2140                |  27                 | 2257                | 2250                |   7                 | MQ                  | 3660                | N532MQ              | LGA                 | BNA                 |  97                 |  764                | 21                  | 40                  | 2013-09-30 21:00:00 |\n",
       "| 2013                | 9                   | 30                  |   NA                | 1455                |  NA                 |   NA                | 1634                |  NA                 | 9E                  | 3393                | NA                  | JFK                 | DCA                 |  NA                 |  213                | 14                  | 55                  | 2013-09-30 14:00:00 |\n",
       "| 2013                | 9                   | 30                  |   NA                | 2200                |  NA                 |   NA                | 2312                |  NA                 | 9E                  | 3525                | NA                  | LGA                 | SYR                 |  NA                 |  198                | 22                  |  0                  | 2013-09-30 22:00:00 |\n",
       "| 2013                | 9                   | 30                  |   NA                | 1210                |  NA                 |   NA                | 1330                |  NA                 | MQ                  | 3461                | N535MQ              | LGA                 | BNA                 |  NA                 |  764                | 12                  | 10                  | 2013-09-30 12:00:00 |\n",
       "| 2013                | 9                   | 30                  |   NA                | 1159                |  NA                 |   NA                | 1344                |  NA                 | MQ                  | 3572                | N511MQ              | LGA                 | CLE                 |  NA                 |  419                | 11                  | 59                  | 2013-09-30 11:00:00 |\n",
       "| 2013                | 9                   | 30                  |   NA                |  840                |  NA                 |   NA                | 1020                |  NA                 | MQ                  | 3531                | N839MQ              | LGA                 | RDU                 |  NA                 |  431                |  8                  | 40                  | 2013-09-30 08:00:00 |\n",
       "\n"
      ],
      "text/plain": [
       "      year month day dep_time sched_dep_time dep_delay arr_time sched_arr_time\n",
       "1     2013 1     1   558      600             -2        753      745          \n",
       "2     2013 1     1   559      600             -1        941      910          \n",
       "3     2013 1     1   600      600              0        837      825          \n",
       "4     2013 1     1   602      605             -3        821      805          \n",
       "5     2013 1     1   608      600              8        807      735          \n",
       "6     2013 1     1   611      600             11        945      931          \n",
       "7     2013 1     1   623      610             13        920      915          \n",
       "8     2013 1     1   624      630             -6        840      830          \n",
       "9     2013 1     1   628      630             -2       1137     1140          \n",
       "10    2013 1     1   629      630             -1        824      810          \n",
       "11    2013 1     1   629      630             -1        824      833          \n",
       "12    2013 1     1   635      635              0       1028      940          \n",
       "13    2013 1     1   656      700             -4        854      850          \n",
       "14    2013 1     1   656      659             -3        949      959          \n",
       "15    2013 1     1   656      705             -9       1007      940          \n",
       "16    2013 1     1   659      700             -1       1008     1015          \n",
       "17    2013 1     1   712      715             -3       1023     1035          \n",
       "18    2013 1     1   724      730             -6       1111     1040          \n",
       "19    2013 1     1   725      730             -5       1052     1040          \n",
       "20    2013 1     1   739      745             -6        918      930          \n",
       "21    2013 1     1   749      710             39        939      850          \n",
       "22    2013 1     1   753      755             -2       1056     1110          \n",
       "23    2013 1     1   800      810            -10        949      955          \n",
       "24    2013 1     1   803      810             -7        903      925          \n",
       "25    2013 1     1   805      815            -10       1006     1010          \n",
       "26    2013 1     1   811      630            101       1047      830          \n",
       "27    2013 1     1   820      820              0       1254     1310          \n",
       "28    2013 1     1   821      825             -4        932      945          \n",
       "29    2013 1     1   826      715             71       1136     1045          \n",
       "30    2013 1     1   830      830              0       1018     1015          \n",
       "...   ...  ...   ... ...      ...            ...       ...      ...           \n",
       "52577 2013 9     30  1811     1815            -4       2059     2135          \n",
       "52578 2013 9     30  1824     1829            -5       1930     1939          \n",
       "52579 2013 9     30  1843     1850            -7       2136     2200          \n",
       "52580 2013 9     30  1843     1830            13       1950     1950          \n",
       "52581 2013 9     30  1848     1830            18       2019     2010          \n",
       "52582 2013 9     30  1849     1855            -6       2007     2035          \n",
       "52583 2013 9     30  1849     1850            -1       2021     2025          \n",
       "52584 2013 9     30  1852     1900            -8       2022     2040          \n",
       "52585 2013 9     30  1900     1910           -10       2147     2210          \n",
       "52586 2013 9     30  1910     1905             5       2131     2205          \n",
       "52587 2013 9     30  1924     1930            -6       2104     2125          \n",
       "52588 2013 9     30  1928     1940           -12       2043     2120          \n",
       "52589 2013 9     30  1930     1940           -10       2120     2125          \n",
       "52590 2013 9     30  1934     1930             4       2236     2250          \n",
       "52591 2013 9     30  1934     1935            -1       2238     2250          \n",
       "52592 2013 9     30  1939     1950           -11       2129     2140          \n",
       "52593 2013 9     30  1943     1810            93       2140     1955          \n",
       "52594 2013 9     30  1944     1950            -6       2208     2215          \n",
       "52595 2013 9     30  1958     2005            -7       2119     2130          \n",
       "52596 2013 9     30  2008     2015            -7       2151     2155          \n",
       "52597 2013 9     30  2022     2025            -3       2127     2140          \n",
       "52598 2013 9     30  2050     2100           -10       2218     2235          \n",
       "52599 2013 9     30  2054     2100            -6       2240     2245          \n",
       "52600 2013 9     30  2131     2140            -9       2225     2255          \n",
       "52601 2013 9     30  2207     2140            27       2257     2250          \n",
       "52602 2013 9     30    NA     1455            NA         NA     1634          \n",
       "52603 2013 9     30    NA     2200            NA         NA     2312          \n",
       "52604 2013 9     30    NA     1210            NA         NA     1330          \n",
       "52605 2013 9     30    NA     1159            NA         NA     1344          \n",
       "52606 2013 9     30    NA      840            NA         NA     1020          \n",
       "      arr_delay carrier flight tailnum origin dest air_time distance hour\n",
       "1       8       AA       301   N3ALAA  LGA    ORD  138       733     6   \n",
       "2      31       AA       707   N3DUAA  LGA    DFW  257      1389     6   \n",
       "3      12       MQ      4650   N542MQ  LGA    ATL  134       762     6   \n",
       "4      16       MQ      4401   N730MQ  LGA    DTW  105       502     6   \n",
       "5      32       MQ      3768   N9EAMQ  EWR    ORD  139       719     6   \n",
       "6      14       UA       303   N532UA  JFK    SFO  366      2586     6   \n",
       "7       5       AA      1837   N3EMAA  LGA    MIA  153      1096     6   \n",
       "8      10       MQ      4599   N518MQ  LGA    MSP  166      1020     6   \n",
       "9      -3       AA       413   N3BAAA  JFK    SJU  192      1598     6   \n",
       "10     14       AA       303   N3CYAA  LGA    ORD  140       733     6   \n",
       "11     -9       US      1019   N426US  EWR    CLT   91       529     6   \n",
       "12     48       AA       711   N3GKAA  LGA    DFW  248      1389     6   \n",
       "13      4       AA       305   N4WNAA  LGA    ORD  143       733     7   \n",
       "14    -10       AA      1815   N5FMAA  JFK    MCO  142       944     6   \n",
       "15     27       MQ      4534   N722MQ  LGA    XNA  233      1147     7   \n",
       "16     -7       AA      2279   N3EKAA  LGA    MIA  159      1096     7   \n",
       "17    -12       AA       825   N3ETAA  JFK    FLL  159      1069     7   \n",
       "18     31       AA       715   N541AA  LGA    DFW  254      1389     7   \n",
       "19     12       AA      2083   N4WRAA  EWR    DFW  238      1372     7   \n",
       "20    -12       AA       309   N4WPAA  LGA    ORD  137       733     7   \n",
       "21     49       MQ      3737   N508MQ  EWR    ORD  148       719     7   \n",
       "22    -14       AA      2267   N3HMAA  LGA    MIA  157      1096     7   \n",
       "23     -6       MQ      4406   N828MQ  JFK    RDU   80       427     8   \n",
       "24    -22       AA      1838   N3GEAA  JFK    BOS   38       187     8   \n",
       "25     -4       MQ      4490   N739MQ  LGA    CMH  101       479     8   \n",
       "26    137       MQ      4576   N531MQ  LGA    CLT  118       544     6   \n",
       "27    -16       B6       717   N527JB  JFK    SJU  190      1598     8   \n",
       "28    -13       MQ      4418   N846MQ  JFK    DCA   52       213     8   \n",
       "29     51       AA       443   N3GVAA  JFK    MIA  160      1089     7   \n",
       "30      3       AA       313   N4YCAA  LGA    ORD  137       733     8   \n",
       "...   ...       ...     ...    ...     ...    ...  ...      ...      ... \n",
       "52577 -36       AA      1611   N3BBAA  LGA    MIA  142      1096     18  \n",
       "52578  -9       MQ      3044   N681MQ  JFK    BWI   46       184     18  \n",
       "52579 -24       AA       119   N3KRAA  EWR    LAX  302      2454     18  \n",
       "52580   0       MQ      3486   N515MQ  LGA    BNA  100       764     18  \n",
       "52581   9       MQ      3134   N504MQ  EWR    ORD  103       719     18  \n",
       "52582 -28       AA       359   N4XJAA  LGA    ORD  108       733     18  \n",
       "52583  -4       MQ      3674   N544MQ  LGA    CLE   68       419     18  \n",
       "52584 -18       MQ      3591   N812MQ  LGA    RDU   68       431     19  \n",
       "52585 -23       AA      1193   N3HBAA  LGA    DFW  179      1389     19  \n",
       "52586 -34       AA      1691   N483AA  EWR    DFW  163      1372     19  \n",
       "52587 -21       MQ      3349   N6EAMQ  LGA    MSP  140      1020     19  \n",
       "52588 -37       AA       363   N4XBAA  LGA    ORD  109       733     19  \n",
       "52589  -5       MQ      3374   N839MQ  JFK    RDU   70       427     19  \n",
       "52590 -14       AA       235   N3EXAA  JFK    SEA  340      2422     19  \n",
       "52591 -12       AA      2437   N3JFAA  LGA    MIA  150      1096     19  \n",
       "52592 -11       MQ      3573   N735MQ  LGA    CMH   73       479     19  \n",
       "52593 105       MQ      3526   N724MQ  LGA    CMH   72       479     18  \n",
       "52594  -7       MQ      3662   N507MQ  LGA    ATL  100       762     19  \n",
       "52595 -11       MQ      3604   N511MQ  EWR    ORD  102       719     20  \n",
       "52596  -4       MQ      3535   N518MQ  JFK    CMH   68       483     20  \n",
       "52597 -13       AA      2314   N3CUAA  JFK    BOS   37       187     20  \n",
       "52598 -17       MQ      3317   N535MQ  LGA    RDU   60       431     21  \n",
       "52599  -5       MQ      3384   N528MQ  LGA    CLT   70       544     21  \n",
       "52600 -30       MQ      3621   N807MQ  JFK    DCA   36       213     21  \n",
       "52601   7       MQ      3660   N532MQ  LGA    BNA   97       764     21  \n",
       "52602  NA       9E      3393   NA      JFK    DCA   NA       213     14  \n",
       "52603  NA       9E      3525   NA      LGA    SYR   NA       198     22  \n",
       "52604  NA       MQ      3461   N535MQ  LGA    BNA   NA       764     12  \n",
       "52605  NA       MQ      3572   N511MQ  LGA    CLE   NA       419     11  \n",
       "52606  NA       MQ      3531   N839MQ  LGA    RDU   NA       431      8  \n",
       "      minute time_hour          \n",
       "1      0     2013-01-01 06:00:00\n",
       "2      0     2013-01-01 06:00:00\n",
       "3      0     2013-01-01 06:00:00\n",
       "4      5     2013-01-01 06:00:00\n",
       "5      0     2013-01-01 06:00:00\n",
       "6      0     2013-01-01 06:00:00\n",
       "7     10     2013-01-01 06:00:00\n",
       "8     30     2013-01-01 06:00:00\n",
       "9     30     2013-01-01 06:00:00\n",
       "10    30     2013-01-01 06:00:00\n",
       "11    30     2013-01-01 06:00:00\n",
       "12    35     2013-01-01 06:00:00\n",
       "13     0     2013-01-01 07:00:00\n",
       "14    59     2013-01-01 06:00:00\n",
       "15     5     2013-01-01 07:00:00\n",
       "16     0     2013-01-01 07:00:00\n",
       "17    15     2013-01-01 07:00:00\n",
       "18    30     2013-01-01 07:00:00\n",
       "19    30     2013-01-01 07:00:00\n",
       "20    45     2013-01-01 07:00:00\n",
       "21    10     2013-01-01 07:00:00\n",
       "22    55     2013-01-01 07:00:00\n",
       "23    10     2013-01-01 08:00:00\n",
       "24    10     2013-01-01 08:00:00\n",
       "25    15     2013-01-01 08:00:00\n",
       "26    30     2013-01-01 06:00:00\n",
       "27    20     2013-01-01 08:00:00\n",
       "28    25     2013-01-01 08:00:00\n",
       "29    15     2013-01-01 07:00:00\n",
       "30    30     2013-01-01 08:00:00\n",
       "...   ...    ...                \n",
       "52577 15     2013-09-30 18:00:00\n",
       "52578 29     2013-09-30 18:00:00\n",
       "52579 50     2013-09-30 18:00:00\n",
       "52580 30     2013-09-30 18:00:00\n",
       "52581 30     2013-09-30 18:00:00\n",
       "52582 55     2013-09-30 18:00:00\n",
       "52583 50     2013-09-30 18:00:00\n",
       "52584  0     2013-09-30 19:00:00\n",
       "52585 10     2013-09-30 19:00:00\n",
       "52586  5     2013-09-30 19:00:00\n",
       "52587 30     2013-09-30 19:00:00\n",
       "52588 40     2013-09-30 19:00:00\n",
       "52589 40     2013-09-30 19:00:00\n",
       "52590 30     2013-09-30 19:00:00\n",
       "52591 35     2013-09-30 19:00:00\n",
       "52592 50     2013-09-30 19:00:00\n",
       "52593 10     2013-09-30 18:00:00\n",
       "52594 50     2013-09-30 19:00:00\n",
       "52595  5     2013-09-30 20:00:00\n",
       "52596 15     2013-09-30 20:00:00\n",
       "52597 25     2013-09-30 20:00:00\n",
       "52598  0     2013-09-30 21:00:00\n",
       "52599  0     2013-09-30 21:00:00\n",
       "52600 40     2013-09-30 21:00:00\n",
       "52601 40     2013-09-30 21:00:00\n",
       "52602 55     2013-09-30 14:00:00\n",
       "52603  0     2013-09-30 22:00:00\n",
       "52604 10     2013-09-30 12:00:00\n",
       "52605 59     2013-09-30 11:00:00\n",
       "52606 40     2013-09-30 08:00:00"
      ]
     },
     "metadata": {},
     "output_type": "display_data"
    }
   ],
   "source": [
    "flights  %>% anti_join(planes, by = \"tailnum\")"
   ]
  },
  {
   "cell_type": "code",
   "execution_count": 46,
   "metadata": {},
   "outputs": [
    {
     "data": {
      "text/html": [
       "<table>\n",
       "<thead><tr><th scope=col>tailnum</th><th scope=col>n</th></tr></thead>\n",
       "<tbody>\n",
       "\t<tr><td>N725MQ</td><td>575   </td></tr>\n",
       "\t<tr><td>N722MQ</td><td>513   </td></tr>\n",
       "\t<tr><td>N723MQ</td><td>507   </td></tr>\n",
       "\t<tr><td>N711MQ</td><td>486   </td></tr>\n",
       "\t<tr><td>N713MQ</td><td>483   </td></tr>\n",
       "\t<tr><td>N258JB</td><td>427   </td></tr>\n",
       "</tbody>\n",
       "</table>\n"
      ],
      "text/latex": [
       "\\begin{tabular}{r|ll}\n",
       " tailnum & n\\\\\n",
       "\\hline\n",
       "\t N725MQ & 575   \\\\\n",
       "\t N722MQ & 513   \\\\\n",
       "\t N723MQ & 507   \\\\\n",
       "\t N711MQ & 486   \\\\\n",
       "\t N713MQ & 483   \\\\\n",
       "\t N258JB & 427   \\\\\n",
       "\\end{tabular}\n"
      ],
      "text/markdown": [
       "\n",
       "| tailnum | n |\n",
       "|---|---|\n",
       "| N725MQ | 575    |\n",
       "| N722MQ | 513    |\n",
       "| N723MQ | 507    |\n",
       "| N711MQ | 486    |\n",
       "| N713MQ | 483    |\n",
       "| N258JB | 427    |\n",
       "\n"
      ],
      "text/plain": [
       "  tailnum n  \n",
       "1 N725MQ  575\n",
       "2 N722MQ  513\n",
       "3 N723MQ  507\n",
       "4 N711MQ  486\n",
       "5 N713MQ  483\n",
       "6 N258JB  427"
      ]
     },
     "metadata": {},
     "output_type": "display_data"
    }
   ],
   "source": [
    "flights %>% count(tailnum, sort=T)  %>% filter(!is.na(tailnum) & n>=100)  %>% head()"
   ]
  },
  {
   "cell_type": "markdown",
   "metadata": {},
   "source": [
    "### Set operation"
   ]
  },
  {
   "cell_type": "code",
   "execution_count": 47,
   "metadata": {},
   "outputs": [],
   "source": [
    "df1 <- tribble(\n",
    "  ~x, ~y,\n",
    "   1,  1,\n",
    "   2,  1\n",
    ")\n",
    "df2 <- tribble(\n",
    "  ~x, ~y,\n",
    "   1,  1,\n",
    "   1,  2\n",
    ")"
   ]
  },
  {
   "cell_type": "code",
   "execution_count": 48,
   "metadata": {},
   "outputs": [
    {
     "data": {
      "text/html": [
       "<table>\n",
       "<thead><tr><th scope=col>x</th><th scope=col>y.x</th><th scope=col>y.y</th></tr></thead>\n",
       "<tbody>\n",
       "\t<tr><td>1</td><td>1</td><td>1</td></tr>\n",
       "\t<tr><td>1</td><td>1</td><td>2</td></tr>\n",
       "</tbody>\n",
       "</table>\n"
      ],
      "text/latex": [
       "\\begin{tabular}{r|lll}\n",
       " x & y.x & y.y\\\\\n",
       "\\hline\n",
       "\t 1 & 1 & 1\\\\\n",
       "\t 1 & 1 & 2\\\\\n",
       "\\end{tabular}\n"
      ],
      "text/markdown": [
       "\n",
       "| x | y.x | y.y |\n",
       "|---|---|---|\n",
       "| 1 | 1 | 1 |\n",
       "| 1 | 1 | 2 |\n",
       "\n"
      ],
      "text/plain": [
       "  x y.x y.y\n",
       "1 1 1   1  \n",
       "2 1 1   2  "
      ]
     },
     "metadata": {},
     "output_type": "display_data"
    }
   ],
   "source": [
    "df1  %>% inner_join(df2, by = \"x\")"
   ]
  },
  {
   "cell_type": "code",
   "execution_count": 49,
   "metadata": {},
   "outputs": [
    {
     "data": {
      "text/html": [
       "<table>\n",
       "<thead><tr><th scope=col>x</th><th scope=col>y</th></tr></thead>\n",
       "<tbody>\n",
       "\t<tr><td>1</td><td>1</td></tr>\n",
       "</tbody>\n",
       "</table>\n"
      ],
      "text/latex": [
       "\\begin{tabular}{r|ll}\n",
       " x & y\\\\\n",
       "\\hline\n",
       "\t 1 & 1\\\\\n",
       "\\end{tabular}\n"
      ],
      "text/markdown": [
       "\n",
       "| x | y |\n",
       "|---|---|\n",
       "| 1 | 1 |\n",
       "\n"
      ],
      "text/plain": [
       "  x y\n",
       "1 1 1"
      ]
     },
     "metadata": {},
     "output_type": "display_data"
    }
   ],
   "source": [
    "df1  %>% intersect(df2)"
   ]
  },
  {
   "cell_type": "code",
   "execution_count": 50,
   "metadata": {},
   "outputs": [
    {
     "data": {
      "text/html": [
       "<table>\n",
       "<thead><tr><th scope=col>x</th><th scope=col>y</th></tr></thead>\n",
       "<tbody>\n",
       "\t<tr><td>1</td><td>1</td></tr>\n",
       "\t<tr><td>1</td><td>2</td></tr>\n",
       "\t<tr><td>2</td><td>1</td></tr>\n",
       "</tbody>\n",
       "</table>\n"
      ],
      "text/latex": [
       "\\begin{tabular}{r|ll}\n",
       " x & y\\\\\n",
       "\\hline\n",
       "\t 1 & 1\\\\\n",
       "\t 1 & 2\\\\\n",
       "\t 2 & 1\\\\\n",
       "\\end{tabular}\n"
      ],
      "text/markdown": [
       "\n",
       "| x | y |\n",
       "|---|---|\n",
       "| 1 | 1 |\n",
       "| 1 | 2 |\n",
       "| 2 | 1 |\n",
       "\n"
      ],
      "text/plain": [
       "  x y\n",
       "1 1 1\n",
       "2 1 2\n",
       "3 2 1"
      ]
     },
     "metadata": {},
     "output_type": "display_data"
    }
   ],
   "source": [
    "df2  %>% union(df1)"
   ]
  },
  {
   "cell_type": "code",
   "execution_count": 51,
   "metadata": {},
   "outputs": [
    {
     "data": {
      "text/html": [
       "<table>\n",
       "<thead><tr><th scope=col>x</th><th scope=col>y</th></tr></thead>\n",
       "<tbody>\n",
       "\t<tr><td>2</td><td>1</td></tr>\n",
       "</tbody>\n",
       "</table>\n"
      ],
      "text/latex": [
       "\\begin{tabular}{r|ll}\n",
       " x & y\\\\\n",
       "\\hline\n",
       "\t 2 & 1\\\\\n",
       "\\end{tabular}\n"
      ],
      "text/markdown": [
       "\n",
       "| x | y |\n",
       "|---|---|\n",
       "| 2 | 1 |\n",
       "\n"
      ],
      "text/plain": [
       "  x y\n",
       "1 2 1"
      ]
     },
     "metadata": {},
     "output_type": "display_data"
    }
   ],
   "source": [
    "df1  %>% setdiff(df2)"
   ]
  },
  {
   "cell_type": "code",
   "execution_count": 52,
   "metadata": {},
   "outputs": [
    {
     "data": {
      "text/html": [
       "<table>\n",
       "<thead><tr><th scope=col>x</th><th scope=col>y</th></tr></thead>\n",
       "<tbody>\n",
       "\t<tr><td>1</td><td>2</td></tr>\n",
       "</tbody>\n",
       "</table>\n"
      ],
      "text/latex": [
       "\\begin{tabular}{r|ll}\n",
       " x & y\\\\\n",
       "\\hline\n",
       "\t 1 & 2\\\\\n",
       "\\end{tabular}\n"
      ],
      "text/markdown": [
       "\n",
       "| x | y |\n",
       "|---|---|\n",
       "| 1 | 2 |\n",
       "\n"
      ],
      "text/plain": [
       "  x y\n",
       "1 1 2"
      ]
     },
     "metadata": {},
     "output_type": "display_data"
    }
   ],
   "source": [
    "df2  %>% setdiff(df1)"
   ]
  },
  {
   "cell_type": "code",
   "execution_count": null,
   "metadata": {},
   "outputs": [],
   "source": []
  },
  {
   "cell_type": "code",
   "execution_count": null,
   "metadata": {},
   "outputs": [],
   "source": []
  },
  {
   "cell_type": "code",
   "execution_count": null,
   "metadata": {},
   "outputs": [],
   "source": []
  },
  {
   "cell_type": "code",
   "execution_count": null,
   "metadata": {},
   "outputs": [],
   "source": []
  },
  {
   "cell_type": "code",
   "execution_count": null,
   "metadata": {},
   "outputs": [],
   "source": []
  },
  {
   "cell_type": "code",
   "execution_count": null,
   "metadata": {},
   "outputs": [],
   "source": []
  },
  {
   "cell_type": "code",
   "execution_count": null,
   "metadata": {},
   "outputs": [],
   "source": []
  },
  {
   "cell_type": "code",
   "execution_count": null,
   "metadata": {},
   "outputs": [],
   "source": []
  },
  {
   "cell_type": "code",
   "execution_count": null,
   "metadata": {},
   "outputs": [],
   "source": []
  },
  {
   "cell_type": "code",
   "execution_count": null,
   "metadata": {},
   "outputs": [],
   "source": []
  },
  {
   "cell_type": "code",
   "execution_count": null,
   "metadata": {},
   "outputs": [],
   "source": []
  },
  {
   "cell_type": "code",
   "execution_count": null,
   "metadata": {},
   "outputs": [],
   "source": []
  },
  {
   "cell_type": "code",
   "execution_count": null,
   "metadata": {},
   "outputs": [],
   "source": []
  },
  {
   "cell_type": "code",
   "execution_count": null,
   "metadata": {},
   "outputs": [],
   "source": []
  },
  {
   "cell_type": "code",
   "execution_count": null,
   "metadata": {},
   "outputs": [],
   "source": []
  },
  {
   "cell_type": "code",
   "execution_count": null,
   "metadata": {},
   "outputs": [],
   "source": []
  },
  {
   "cell_type": "code",
   "execution_count": null,
   "metadata": {},
   "outputs": [],
   "source": []
  },
  {
   "cell_type": "code",
   "execution_count": null,
   "metadata": {},
   "outputs": [],
   "source": []
  },
  {
   "cell_type": "code",
   "execution_count": null,
   "metadata": {},
   "outputs": [],
   "source": []
  },
  {
   "cell_type": "code",
   "execution_count": null,
   "metadata": {},
   "outputs": [],
   "source": []
  },
  {
   "cell_type": "code",
   "execution_count": null,
   "metadata": {},
   "outputs": [],
   "source": []
  },
  {
   "cell_type": "code",
   "execution_count": null,
   "metadata": {},
   "outputs": [],
   "source": []
  },
  {
   "cell_type": "code",
   "execution_count": null,
   "metadata": {},
   "outputs": [],
   "source": []
  },
  {
   "cell_type": "code",
   "execution_count": null,
   "metadata": {},
   "outputs": [],
   "source": []
  },
  {
   "cell_type": "code",
   "execution_count": null,
   "metadata": {},
   "outputs": [],
   "source": []
  },
  {
   "cell_type": "code",
   "execution_count": null,
   "metadata": {},
   "outputs": [],
   "source": []
  },
  {
   "cell_type": "code",
   "execution_count": null,
   "metadata": {},
   "outputs": [],
   "source": []
  },
  {
   "cell_type": "code",
   "execution_count": null,
   "metadata": {},
   "outputs": [],
   "source": []
  },
  {
   "cell_type": "code",
   "execution_count": null,
   "metadata": {},
   "outputs": [],
   "source": []
  },
  {
   "cell_type": "code",
   "execution_count": null,
   "metadata": {},
   "outputs": [],
   "source": []
  },
  {
   "cell_type": "code",
   "execution_count": null,
   "metadata": {},
   "outputs": [],
   "source": []
  }
 ],
 "metadata": {
  "kernelspec": {
   "display_name": "R",
   "language": "R",
   "name": "ir"
  },
  "language_info": {
   "codemirror_mode": "r",
   "file_extension": ".r",
   "mimetype": "text/x-r-source",
   "name": "R",
   "pygments_lexer": "r",
   "version": "3.6.1"
  }
 },
 "nbformat": 4,
 "nbformat_minor": 2
}
