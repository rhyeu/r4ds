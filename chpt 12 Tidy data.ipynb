{
 "cells": [
  {
   "cell_type": "code",
   "execution_count": 58,
   "metadata": {},
   "outputs": [],
   "source": [
    "library(tidyverse)\n",
    "library(ggplot2)"
   ]
  },
  {
   "cell_type": "code",
   "execution_count": 29,
   "metadata": {},
   "outputs": [],
   "source": [
    "read_csv('country,     year,  cases, population\n",
    "Afghanistan,  1999,    745,   19987071\n",
    "Afghanistan,  2000,   2666,   20595360\n",
    "Brazil,       1999,  37737,  172006362\n",
    "Brazil,       2000,  80488,  174504898\n",
    "China,        1999, 212258, 1272915272\n",
    "China,        2000, 213766, 1280428583') -> table1"
   ]
  },
  {
   "cell_type": "code",
   "execution_count": 34,
   "metadata": {},
   "outputs": [
    {
     "data": {
      "text/html": [
       "<table>\n",
       "<thead><tr><th scope=col>country</th><th scope=col>year</th><th scope=col>cases</th><th scope=col>population</th></tr></thead>\n",
       "<tbody>\n",
       "\t<tr><td>Afghanistan</td><td>1999       </td><td>   745     </td><td>  19987071 </td></tr>\n",
       "\t<tr><td>Afghanistan</td><td>2000       </td><td>  2666     </td><td>  20595360 </td></tr>\n",
       "\t<tr><td>Brazil     </td><td>1999       </td><td> 37737     </td><td> 172006362 </td></tr>\n",
       "\t<tr><td>Brazil     </td><td>2000       </td><td> 80488     </td><td> 174504898 </td></tr>\n",
       "\t<tr><td>China      </td><td>1999       </td><td>212258     </td><td>1272915272 </td></tr>\n",
       "\t<tr><td>China      </td><td>2000       </td><td>213766     </td><td>1280428583 </td></tr>\n",
       "</tbody>\n",
       "</table>\n"
      ],
      "text/latex": [
       "\\begin{tabular}{r|llll}\n",
       " country & year & cases & population\\\\\n",
       "\\hline\n",
       "\t Afghanistan & 1999        &    745      &   19987071 \\\\\n",
       "\t Afghanistan & 2000        &   2666      &   20595360 \\\\\n",
       "\t Brazil      & 1999        &  37737      &  172006362 \\\\\n",
       "\t Brazil      & 2000        &  80488      &  174504898 \\\\\n",
       "\t China       & 1999        & 212258      & 1272915272 \\\\\n",
       "\t China       & 2000        & 213766      & 1280428583 \\\\\n",
       "\\end{tabular}\n"
      ],
      "text/markdown": [
       "\n",
       "| country | year | cases | population |\n",
       "|---|---|---|---|\n",
       "| Afghanistan | 1999        |    745      |   19987071  |\n",
       "| Afghanistan | 2000        |   2666      |   20595360  |\n",
       "| Brazil      | 1999        |  37737      |  172006362  |\n",
       "| Brazil      | 2000        |  80488      |  174504898  |\n",
       "| China       | 1999        | 212258      | 1272915272  |\n",
       "| China       | 2000        | 213766      | 1280428583  |\n",
       "\n"
      ],
      "text/plain": [
       "  country     year cases  population\n",
       "1 Afghanistan 1999    745   19987071\n",
       "2 Afghanistan 2000   2666   20595360\n",
       "3 Brazil      1999  37737  172006362\n",
       "4 Brazil      2000  80488  174504898\n",
       "5 China       1999 212258 1272915272\n",
       "6 China       2000 213766 1280428583"
      ]
     },
     "metadata": {},
     "output_type": "display_data"
    }
   ],
   "source": [
    "table1"
   ]
  },
  {
   "cell_type": "code",
   "execution_count": 15,
   "metadata": {},
   "outputs": [
    {
     "data": {
      "text/html": [
       "<table>\n",
       "<thead><tr><th scope=col>year</th><th scope=col>n</th></tr></thead>\n",
       "<tbody>\n",
       "\t<tr><td>1999  </td><td>250740</td></tr>\n",
       "\t<tr><td>2000  </td><td>296920</td></tr>\n",
       "</tbody>\n",
       "</table>\n"
      ],
      "text/latex": [
       "\\begin{tabular}{r|ll}\n",
       " year & n\\\\\n",
       "\\hline\n",
       "\t 1999   & 250740\\\\\n",
       "\t 2000   & 296920\\\\\n",
       "\\end{tabular}\n"
      ],
      "text/markdown": [
       "\n",
       "| year | n |\n",
       "|---|---|\n",
       "| 1999   | 250740 |\n",
       "| 2000   | 296920 |\n",
       "\n"
      ],
      "text/plain": [
       "  year n     \n",
       "1 1999 250740\n",
       "2 2000 296920"
      ]
     },
     "metadata": {},
     "output_type": "display_data"
    }
   ],
   "source": [
    "# 연도별 case 합\n",
    "table1  %>% count(year, wt = cases)"
   ]
  },
  {
   "cell_type": "code",
   "execution_count": 23,
   "metadata": {},
   "outputs": [
    {
     "data": {
      "image/png": "[encoded data removed]",
      "text/plain": [
       "plot without title"
      ]
     },
     "metadata": {},
     "output_type": "display_data"
    }
   ],
   "source": [
    "table1  %>% ggplot(aes(year, cases, group= country, color = country)) + \n",
    "    geom_line(color = \"grey50\") + geom_point()"
   ]
  },
  {
   "cell_type": "code",
   "execution_count": 59,
   "metadata": {},
   "outputs": [
    {
     "data": {
      "text/html": [
       "<table>\n",
       "<thead><tr><th scope=col>country</th><th scope=col>year</th><th scope=col>cases</th></tr></thead>\n",
       "<tbody>\n",
       "\t<tr><td>Afghanistan</td><td>year       </td><td>`1999`     </td></tr>\n",
       "\t<tr><td>Brazil     </td><td>year       </td><td>`1999`     </td></tr>\n",
       "\t<tr><td>China      </td><td>year       </td><td>`1999`     </td></tr>\n",
       "\t<tr><td>Afghanistan</td><td>year       </td><td>`2000`     </td></tr>\n",
       "\t<tr><td>Brazil     </td><td>year       </td><td>`2000`     </td></tr>\n",
       "\t<tr><td>China      </td><td>year       </td><td>`2000`     </td></tr>\n",
       "\t<tr><td>Afghanistan</td><td>cases      </td><td>745        </td></tr>\n",
       "\t<tr><td>Brazil     </td><td>cases      </td><td>37737      </td></tr>\n",
       "\t<tr><td>China      </td><td>cases      </td><td>212258     </td></tr>\n",
       "\t<tr><td>Afghanistan</td><td>cases      </td><td>2666       </td></tr>\n",
       "\t<tr><td>Brazil     </td><td>cases      </td><td>80488      </td></tr>\n",
       "\t<tr><td>China      </td><td>cases      </td><td>213766     </td></tr>\n",
       "</tbody>\n",
       "</table>\n"
      ],
      "text/latex": [
       "\\begin{tabular}{r|lll}\n",
       " country & year & cases\\\\\n",
       "\\hline\n",
       "\t Afghanistan & year        & `1999`     \\\\\n",
       "\t Brazil      & year        & `1999`     \\\\\n",
       "\t China       & year        & `1999`     \\\\\n",
       "\t Afghanistan & year        & `2000`     \\\\\n",
       "\t Brazil      & year        & `2000`     \\\\\n",
       "\t China       & year        & `2000`     \\\\\n",
       "\t Afghanistan & cases       & 745        \\\\\n",
       "\t Brazil      & cases       & 37737      \\\\\n",
       "\t China       & cases       & 212258     \\\\\n",
       "\t Afghanistan & cases       & 2666       \\\\\n",
       "\t Brazil      & cases       & 80488      \\\\\n",
       "\t China       & cases       & 213766     \\\\\n",
       "\\end{tabular}\n"
      ],
      "text/markdown": [
       "\n",
       "| country | year | cases |\n",
       "|---|---|---|\n",
       "| Afghanistan | year        | `1999`      |\n",
       "| Brazil      | year        | `1999`      |\n",
       "| China       | year        | `1999`      |\n",
       "| Afghanistan | year        | `2000`      |\n",
       "| Brazil      | year        | `2000`      |\n",
       "| China       | year        | `2000`      |\n",
       "| Afghanistan | cases       | 745         |\n",
       "| Brazil      | cases       | 37737       |\n",
       "| China       | cases       | 212258      |\n",
       "| Afghanistan | cases       | 2666        |\n",
       "| Brazil      | cases       | 80488       |\n",
       "| China       | cases       | 213766      |\n",
       "\n"
      ],
      "text/plain": [
       "   country     year  cases \n",
       "1  Afghanistan year  `1999`\n",
       "2  Brazil      year  `1999`\n",
       "3  China       year  `1999`\n",
       "4  Afghanistan year  `2000`\n",
       "5  Brazil      year  `2000`\n",
       "6  China       year  `2000`\n",
       "7  Afghanistan cases 745   \n",
       "8  Brazil      cases 37737 \n",
       "9  China       cases 212258\n",
       "10 Afghanistan cases 2666  \n",
       "11 Brazil      cases 80488 \n",
       "12 China       cases 213766"
      ]
     },
     "metadata": {},
     "output_type": "display_data"
    }
   ],
   "source": []
  },
  {
   "cell_type": "code",
   "execution_count": 80,
   "metadata": {},
   "outputs": [
    {
     "data": {
      "text/html": [
       "<table>\n",
       "<thead><tr><th scope=col>country</th><th scope=col>year</th><th scope=col>cases</th></tr></thead>\n",
       "<tbody>\n",
       "\t<tr><td>Afghanistan</td><td>1999       </td><td>   745     </td></tr>\n",
       "\t<tr><td>Brazil     </td><td>1999       </td><td> 37737     </td></tr>\n",
       "\t<tr><td>China      </td><td>1999       </td><td>212258     </td></tr>\n",
       "\t<tr><td>Afghanistan</td><td>2000       </td><td>  2666     </td></tr>\n",
       "\t<tr><td>Brazil     </td><td>2000       </td><td> 80488     </td></tr>\n",
       "\t<tr><td>China      </td><td>2000       </td><td>213766     </td></tr>\n",
       "</tbody>\n",
       "</table>\n"
      ],
      "text/latex": [
       "\\begin{tabular}{r|lll}\n",
       " country & year & cases\\\\\n",
       "\\hline\n",
       "\t Afghanistan & 1999        &    745     \\\\\n",
       "\t Brazil      & 1999        &  37737     \\\\\n",
       "\t China       & 1999        & 212258     \\\\\n",
       "\t Afghanistan & 2000        &   2666     \\\\\n",
       "\t Brazil      & 2000        &  80488     \\\\\n",
       "\t China       & 2000        & 213766     \\\\\n",
       "\\end{tabular}\n"
      ],
      "text/markdown": [
       "\n",
       "| country | year | cases |\n",
       "|---|---|---|\n",
       "| Afghanistan | 1999        |    745      |\n",
       "| Brazil      | 1999        |  37737      |\n",
       "| China       | 1999        | 212258      |\n",
       "| Afghanistan | 2000        |   2666      |\n",
       "| Brazil      | 2000        |  80488      |\n",
       "| China       | 2000        | 213766      |\n",
       "\n"
      ],
      "text/plain": [
       "  country     year cases \n",
       "1 Afghanistan 1999    745\n",
       "2 Brazil      1999  37737\n",
       "3 China       1999 212258\n",
       "4 Afghanistan 2000   2666\n",
       "5 Brazil      2000  80488\n",
       "6 China       2000 213766"
      ]
     },
     "metadata": {},
     "output_type": "display_data"
    }
   ],
   "source": [
    "tidyr::table4a  %>% gather(2:3, key=\"year\", value = \"cases\") -> table4a\n",
    "table4a"
   ]
  },
  {
   "cell_type": "code",
   "execution_count": 78,
   "metadata": {},
   "outputs": [
    {
     "data": {
      "text/html": [
       "<table>\n",
       "<thead><tr><th scope=col>country</th><th scope=col>1999</th><th scope=col>2000</th></tr></thead>\n",
       "<tbody>\n",
       "\t<tr><td>Afghanistan</td><td>   745     </td><td>  2666     </td></tr>\n",
       "\t<tr><td>Brazil     </td><td> 37737     </td><td> 80488     </td></tr>\n",
       "\t<tr><td>China      </td><td>212258     </td><td>213766     </td></tr>\n",
       "</tbody>\n",
       "</table>\n"
      ],
      "text/latex": [
       "\\begin{tabular}{r|lll}\n",
       " country & 1999 & 2000\\\\\n",
       "\\hline\n",
       "\t Afghanistan &    745      &   2666     \\\\\n",
       "\t Brazil      &  37737      &  80488     \\\\\n",
       "\t China       & 212258      & 213766     \\\\\n",
       "\\end{tabular}\n"
      ],
      "text/markdown": [
       "\n",
       "| country | 1999 | 2000 |\n",
       "|---|---|---|\n",
       "| Afghanistan |    745      |   2666      |\n",
       "| Brazil      |  37737      |  80488      |\n",
       "| China       | 212258      | 213766      |\n",
       "\n"
      ],
      "text/plain": [
       "  country     1999   2000  \n",
       "1 Afghanistan    745   2666\n",
       "2 Brazil       37737  80488\n",
       "3 China       212258 213766"
      ]
     },
     "metadata": {},
     "output_type": "display_data"
    }
   ],
   "source": [
    "tidyr::table4a"
   ]
  },
  {
   "cell_type": "code",
   "execution_count": 81,
   "metadata": {},
   "outputs": [],
   "source": [
    "tidyr::table4b  %>% gather(2:3, key = \"year\", value = \"population\") -> table4b"
   ]
  },
  {
   "cell_type": "code",
   "execution_count": 83,
   "metadata": {},
   "outputs": [
    {
     "data": {
      "text/html": [
       "<table>\n",
       "<thead><tr><th scope=col>country</th><th scope=col>year</th><th scope=col>population</th></tr></thead>\n",
       "<tbody>\n",
       "\t<tr><td>Afghanistan</td><td>1999       </td><td>  19987071 </td></tr>\n",
       "\t<tr><td>Brazil     </td><td>1999       </td><td> 172006362 </td></tr>\n",
       "\t<tr><td>China      </td><td>1999       </td><td>1272915272 </td></tr>\n",
       "\t<tr><td>Afghanistan</td><td>2000       </td><td>  20595360 </td></tr>\n",
       "\t<tr><td>Brazil     </td><td>2000       </td><td> 174504898 </td></tr>\n",
       "\t<tr><td>China      </td><td>2000       </td><td>1280428583 </td></tr>\n",
       "</tbody>\n",
       "</table>\n"
      ],
      "text/latex": [
       "\\begin{tabular}{r|lll}\n",
       " country & year & population\\\\\n",
       "\\hline\n",
       "\t Afghanistan & 1999        &   19987071 \\\\\n",
       "\t Brazil      & 1999        &  172006362 \\\\\n",
       "\t China       & 1999        & 1272915272 \\\\\n",
       "\t Afghanistan & 2000        &   20595360 \\\\\n",
       "\t Brazil      & 2000        &  174504898 \\\\\n",
       "\t China       & 2000        & 1280428583 \\\\\n",
       "\\end{tabular}\n"
      ],
      "text/markdown": [
       "\n",
       "| country | year | population |\n",
       "|---|---|---|\n",
       "| Afghanistan | 1999        |   19987071  |\n",
       "| Brazil      | 1999        |  172006362  |\n",
       "| China       | 1999        | 1272915272  |\n",
       "| Afghanistan | 2000        |   20595360  |\n",
       "| Brazil      | 2000        |  174504898  |\n",
       "| China       | 2000        | 1280428583  |\n",
       "\n"
      ],
      "text/plain": [
       "  country     year population\n",
       "1 Afghanistan 1999   19987071\n",
       "2 Brazil      1999  172006362\n",
       "3 China       1999 1272915272\n",
       "4 Afghanistan 2000   20595360\n",
       "5 Brazil      2000  174504898\n",
       "6 China       2000 1280428583"
      ]
     },
     "metadata": {},
     "output_type": "display_data"
    }
   ],
   "source": [
    "table4b"
   ]
  },
  {
   "cell_type": "code",
   "execution_count": 82,
   "metadata": {},
   "outputs": [
    {
     "name": "stderr",
     "output_type": "stream",
     "text": [
      "Joining, by = c(\"country\", \"year\")\n"
     ]
    },
    {
     "data": {
      "text/html": [
       "<table>\n",
       "<thead><tr><th scope=col>country</th><th scope=col>year</th><th scope=col>cases</th><th scope=col>population</th></tr></thead>\n",
       "<tbody>\n",
       "\t<tr><td>Afghanistan</td><td>1999       </td><td>   745     </td><td>  19987071 </td></tr>\n",
       "\t<tr><td>Brazil     </td><td>1999       </td><td> 37737     </td><td> 172006362 </td></tr>\n",
       "\t<tr><td>China      </td><td>1999       </td><td>212258     </td><td>1272915272 </td></tr>\n",
       "\t<tr><td>Afghanistan</td><td>2000       </td><td>  2666     </td><td>  20595360 </td></tr>\n",
       "\t<tr><td>Brazil     </td><td>2000       </td><td> 80488     </td><td> 174504898 </td></tr>\n",
       "\t<tr><td>China      </td><td>2000       </td><td>213766     </td><td>1280428583 </td></tr>\n",
       "</tbody>\n",
       "</table>\n"
      ],
      "text/latex": [
       "\\begin{tabular}{r|llll}\n",
       " country & year & cases & population\\\\\n",
       "\\hline\n",
       "\t Afghanistan & 1999        &    745      &   19987071 \\\\\n",
       "\t Brazil      & 1999        &  37737      &  172006362 \\\\\n",
       "\t China       & 1999        & 212258      & 1272915272 \\\\\n",
       "\t Afghanistan & 2000        &   2666      &   20595360 \\\\\n",
       "\t Brazil      & 2000        &  80488      &  174504898 \\\\\n",
       "\t China       & 2000        & 213766      & 1280428583 \\\\\n",
       "\\end{tabular}\n"
      ],
      "text/markdown": [
       "\n",
       "| country | year | cases | population |\n",
       "|---|---|---|---|\n",
       "| Afghanistan | 1999        |    745      |   19987071  |\n",
       "| Brazil      | 1999        |  37737      |  172006362  |\n",
       "| China       | 1999        | 212258      | 1272915272  |\n",
       "| Afghanistan | 2000        |   2666      |   20595360  |\n",
       "| Brazil      | 2000        |  80488      |  174504898  |\n",
       "| China       | 2000        | 213766      | 1280428583  |\n",
       "\n"
      ],
      "text/plain": [
       "  country     year cases  population\n",
       "1 Afghanistan 1999    745   19987071\n",
       "2 Brazil      1999  37737  172006362\n",
       "3 China       1999 212258 1272915272\n",
       "4 Afghanistan 2000   2666   20595360\n",
       "5 Brazil      2000  80488  174504898\n",
       "6 China       2000 213766 1280428583"
      ]
     },
     "metadata": {},
     "output_type": "display_data"
    }
   ],
   "source": [
    "left_join(table4a, table4b)"
   ]
  },
  {
   "cell_type": "code",
   "execution_count": 84,
   "metadata": {},
   "outputs": [
    {
     "data": {
      "text/html": [
       "<table>\n",
       "<thead><tr><th scope=col>country</th><th scope=col>year</th><th scope=col>type</th><th scope=col>count</th></tr></thead>\n",
       "<tbody>\n",
       "\t<tr><td>Afghanistan</td><td>1999       </td><td>cases      </td><td>       745 </td></tr>\n",
       "\t<tr><td>Afghanistan</td><td>1999       </td><td>population </td><td>  19987071 </td></tr>\n",
       "\t<tr><td>Afghanistan</td><td>2000       </td><td>cases      </td><td>      2666 </td></tr>\n",
       "\t<tr><td>Afghanistan</td><td>2000       </td><td>population </td><td>  20595360 </td></tr>\n",
       "\t<tr><td>Brazil     </td><td>1999       </td><td>cases      </td><td>     37737 </td></tr>\n",
       "\t<tr><td>Brazil     </td><td>1999       </td><td>population </td><td> 172006362 </td></tr>\n",
       "\t<tr><td>Brazil     </td><td>2000       </td><td>cases      </td><td>     80488 </td></tr>\n",
       "\t<tr><td>Brazil     </td><td>2000       </td><td>population </td><td> 174504898 </td></tr>\n",
       "\t<tr><td>China      </td><td>1999       </td><td>cases      </td><td>    212258 </td></tr>\n",
       "\t<tr><td>China      </td><td>1999       </td><td>population </td><td>1272915272 </td></tr>\n",
       "\t<tr><td>China      </td><td>2000       </td><td>cases      </td><td>    213766 </td></tr>\n",
       "\t<tr><td>China      </td><td>2000       </td><td>population </td><td>1280428583 </td></tr>\n",
       "</tbody>\n",
       "</table>\n"
      ],
      "text/latex": [
       "\\begin{tabular}{r|llll}\n",
       " country & year & type & count\\\\\n",
       "\\hline\n",
       "\t Afghanistan & 1999        & cases       &        745 \\\\\n",
       "\t Afghanistan & 1999        & population  &   19987071 \\\\\n",
       "\t Afghanistan & 2000        & cases       &       2666 \\\\\n",
       "\t Afghanistan & 2000        & population  &   20595360 \\\\\n",
       "\t Brazil      & 1999        & cases       &      37737 \\\\\n",
       "\t Brazil      & 1999        & population  &  172006362 \\\\\n",
       "\t Brazil      & 2000        & cases       &      80488 \\\\\n",
       "\t Brazil      & 2000        & population  &  174504898 \\\\\n",
       "\t China       & 1999        & cases       &     212258 \\\\\n",
       "\t China       & 1999        & population  & 1272915272 \\\\\n",
       "\t China       & 2000        & cases       &     213766 \\\\\n",
       "\t China       & 2000        & population  & 1280428583 \\\\\n",
       "\\end{tabular}\n"
      ],
      "text/markdown": [
       "\n",
       "| country | year | type | count |\n",
       "|---|---|---|---|\n",
       "| Afghanistan | 1999        | cases       |        745  |\n",
       "| Afghanistan | 1999        | population  |   19987071  |\n",
       "| Afghanistan | 2000        | cases       |       2666  |\n",
       "| Afghanistan | 2000        | population  |   20595360  |\n",
       "| Brazil      | 1999        | cases       |      37737  |\n",
       "| Brazil      | 1999        | population  |  172006362  |\n",
       "| Brazil      | 2000        | cases       |      80488  |\n",
       "| Brazil      | 2000        | population  |  174504898  |\n",
       "| China       | 1999        | cases       |     212258  |\n",
       "| China       | 1999        | population  | 1272915272  |\n",
       "| China       | 2000        | cases       |     213766  |\n",
       "| China       | 2000        | population  | 1280428583  |\n",
       "\n"
      ],
      "text/plain": [
       "   country     year type       count     \n",
       "1  Afghanistan 1999 cases             745\n",
       "2  Afghanistan 1999 population   19987071\n",
       "3  Afghanistan 2000 cases            2666\n",
       "4  Afghanistan 2000 population   20595360\n",
       "5  Brazil      1999 cases           37737\n",
       "6  Brazil      1999 population  172006362\n",
       "7  Brazil      2000 cases           80488\n",
       "8  Brazil      2000 population  174504898\n",
       "9  China       1999 cases          212258\n",
       "10 China       1999 population 1272915272\n",
       "11 China       2000 cases          213766\n",
       "12 China       2000 population 1280428583"
      ]
     },
     "metadata": {},
     "output_type": "display_data"
    }
   ],
   "source": [
    "table2"
   ]
  },
  {
   "cell_type": "code",
   "execution_count": 61,
   "metadata": {},
   "outputs": [
    {
     "data": {
      "text/html": [
       "<table>\n",
       "<thead><tr><th scope=col>country</th><th scope=col>year</th><th scope=col>cases</th><th scope=col>population</th></tr></thead>\n",
       "<tbody>\n",
       "\t<tr><td>Afghanistan</td><td>1999       </td><td>   745     </td><td>  19987071 </td></tr>\n",
       "\t<tr><td>Afghanistan</td><td>2000       </td><td>  2666     </td><td>  20595360 </td></tr>\n",
       "\t<tr><td>Brazil     </td><td>1999       </td><td> 37737     </td><td> 172006362 </td></tr>\n",
       "\t<tr><td>Brazil     </td><td>2000       </td><td> 80488     </td><td> 174504898 </td></tr>\n",
       "\t<tr><td>China      </td><td>1999       </td><td>212258     </td><td>1272915272 </td></tr>\n",
       "\t<tr><td>China      </td><td>2000       </td><td>213766     </td><td>1280428583 </td></tr>\n",
       "</tbody>\n",
       "</table>\n"
      ],
      "text/latex": [
       "\\begin{tabular}{r|llll}\n",
       " country & year & cases & population\\\\\n",
       "\\hline\n",
       "\t Afghanistan & 1999        &    745      &   19987071 \\\\\n",
       "\t Afghanistan & 2000        &   2666      &   20595360 \\\\\n",
       "\t Brazil      & 1999        &  37737      &  172006362 \\\\\n",
       "\t Brazil      & 2000        &  80488      &  174504898 \\\\\n",
       "\t China       & 1999        & 212258      & 1272915272 \\\\\n",
       "\t China       & 2000        & 213766      & 1280428583 \\\\\n",
       "\\end{tabular}\n"
      ],
      "text/markdown": [
       "\n",
       "| country | year | cases | population |\n",
       "|---|---|---|---|\n",
       "| Afghanistan | 1999        |    745      |   19987071  |\n",
       "| Afghanistan | 2000        |   2666      |   20595360  |\n",
       "| Brazil      | 1999        |  37737      |  172006362  |\n",
       "| Brazil      | 2000        |  80488      |  174504898  |\n",
       "| China       | 1999        | 212258      | 1272915272  |\n",
       "| China       | 2000        | 213766      | 1280428583  |\n",
       "\n"
      ],
      "text/plain": [
       "  country     year cases  population\n",
       "1 Afghanistan 1999    745   19987071\n",
       "2 Afghanistan 2000   2666   20595360\n",
       "3 Brazil      1999  37737  172006362\n",
       "4 Brazil      2000  80488  174504898\n",
       "5 China       1999 212258 1272915272\n",
       "6 China       2000 213766 1280428583"
      ]
     },
     "metadata": {},
     "output_type": "display_data"
    }
   ],
   "source": [
    "table2  %>% spread(key = type, value = count)"
   ]
  },
  {
   "cell_type": "code",
   "execution_count": 63,
   "metadata": {},
   "outputs": [
    {
     "data": {
      "text/html": [
       "<table>\n",
       "<thead><tr><th scope=col>year</th><th scope=col>half</th><th scope=col>return</th></tr></thead>\n",
       "<tbody>\n",
       "\t<tr><td>2015</td><td>1   </td><td>1.88</td></tr>\n",
       "\t<tr><td>2015</td><td>2   </td><td>0.59</td></tr>\n",
       "\t<tr><td>2016</td><td>1   </td><td>0.92</td></tr>\n",
       "\t<tr><td>2016</td><td>2   </td><td>0.17</td></tr>\n",
       "</tbody>\n",
       "</table>\n"
      ],
      "text/latex": [
       "\\begin{tabular}{r|lll}\n",
       " year & half & return\\\\\n",
       "\\hline\n",
       "\t 2015 & 1    & 1.88\\\\\n",
       "\t 2015 & 2    & 0.59\\\\\n",
       "\t 2016 & 1    & 0.92\\\\\n",
       "\t 2016 & 2    & 0.17\\\\\n",
       "\\end{tabular}\n"
      ],
      "text/markdown": [
       "\n",
       "| year | half | return |\n",
       "|---|---|---|\n",
       "| 2015 | 1    | 1.88 |\n",
       "| 2015 | 2    | 0.59 |\n",
       "| 2016 | 1    | 0.92 |\n",
       "| 2016 | 2    | 0.17 |\n",
       "\n"
      ],
      "text/plain": [
       "  year half return\n",
       "1 2015 1    1.88  \n",
       "2 2015 2    0.59  \n",
       "3 2016 1    0.92  \n",
       "4 2016 2    0.17  "
      ]
     },
     "metadata": {},
     "output_type": "display_data"
    }
   ],
   "source": [
    "(stocks <- tibble(\n",
    "  year   = c(2015, 2015, 2016, 2016),\n",
    "  half  = c(   1,    2,     1,    2),\n",
    "  return = c(1.88, 0.59, 0.92, 0.17)\n",
    "))\n"
   ]
  },
  {
   "cell_type": "code",
   "execution_count": 66,
   "metadata": {},
   "outputs": [
    {
     "data": {
      "text/html": [
       "<table>\n",
       "<thead><tr><th scope=col>half</th><th scope=col>year</th><th scope=col>return</th></tr></thead>\n",
       "<tbody>\n",
       "\t<tr><td>1   </td><td>2015</td><td>1.88</td></tr>\n",
       "\t<tr><td>2   </td><td>2015</td><td>0.59</td></tr>\n",
       "\t<tr><td>1   </td><td>2016</td><td>0.92</td></tr>\n",
       "\t<tr><td>2   </td><td>2016</td><td>0.17</td></tr>\n",
       "</tbody>\n",
       "</table>\n"
      ],
      "text/latex": [
       "\\begin{tabular}{r|lll}\n",
       " half & year & return\\\\\n",
       "\\hline\n",
       "\t 1    & 2015 & 1.88\\\\\n",
       "\t 2    & 2015 & 0.59\\\\\n",
       "\t 1    & 2016 & 0.92\\\\\n",
       "\t 2    & 2016 & 0.17\\\\\n",
       "\\end{tabular}\n"
      ],
      "text/markdown": [
       "\n",
       "| half | year | return |\n",
       "|---|---|---|\n",
       "| 1    | 2015 | 1.88 |\n",
       "| 2    | 2015 | 0.59 |\n",
       "| 1    | 2016 | 0.92 |\n",
       "| 2    | 2016 | 0.17 |\n",
       "\n"
      ],
      "text/plain": [
       "  half year return\n",
       "1 1    2015 1.88  \n",
       "2 2    2015 0.59  \n",
       "3 1    2016 0.92  \n",
       "4 2    2016 0.17  "
      ]
     },
     "metadata": {},
     "output_type": "display_data"
    }
   ],
   "source": [
    "stocks %>% \n",
    "  spread(year, return) %>%   gather(\"year\", \"return\", `2015`:`2016`)"
   ]
  },
  {
   "cell_type": "code",
   "execution_count": 67,
   "metadata": {},
   "outputs": [
    {
     "data": {
      "text/html": [
       "<table>\n",
       "<thead><tr><th scope=col>country</th><th scope=col>year</th><th scope=col>cases</th></tr></thead>\n",
       "<tbody>\n",
       "\t<tr><td>Afghanistan</td><td>year       </td><td>`1999`     </td></tr>\n",
       "\t<tr><td>Brazil     </td><td>year       </td><td>`1999`     </td></tr>\n",
       "\t<tr><td>China      </td><td>year       </td><td>`1999`     </td></tr>\n",
       "\t<tr><td>Afghanistan</td><td>year       </td><td>`2000`     </td></tr>\n",
       "\t<tr><td>Brazil     </td><td>year       </td><td>`2000`     </td></tr>\n",
       "\t<tr><td>China      </td><td>year       </td><td>`2000`     </td></tr>\n",
       "\t<tr><td>Afghanistan</td><td>cases      </td><td>745        </td></tr>\n",
       "\t<tr><td>Brazil     </td><td>cases      </td><td>37737      </td></tr>\n",
       "\t<tr><td>China      </td><td>cases      </td><td>212258     </td></tr>\n",
       "\t<tr><td>Afghanistan</td><td>cases      </td><td>2666       </td></tr>\n",
       "\t<tr><td>Brazil     </td><td>cases      </td><td>80488      </td></tr>\n",
       "\t<tr><td>China      </td><td>cases      </td><td>213766     </td></tr>\n",
       "</tbody>\n",
       "</table>\n"
      ],
      "text/latex": [
       "\\begin{tabular}{r|lll}\n",
       " country & year & cases\\\\\n",
       "\\hline\n",
       "\t Afghanistan & year        & `1999`     \\\\\n",
       "\t Brazil      & year        & `1999`     \\\\\n",
       "\t China       & year        & `1999`     \\\\\n",
       "\t Afghanistan & year        & `2000`     \\\\\n",
       "\t Brazil      & year        & `2000`     \\\\\n",
       "\t China       & year        & `2000`     \\\\\n",
       "\t Afghanistan & cases       & 745        \\\\\n",
       "\t Brazil      & cases       & 37737      \\\\\n",
       "\t China       & cases       & 212258     \\\\\n",
       "\t Afghanistan & cases       & 2666       \\\\\n",
       "\t Brazil      & cases       & 80488      \\\\\n",
       "\t China       & cases       & 213766     \\\\\n",
       "\\end{tabular}\n"
      ],
      "text/markdown": [
       "\n",
       "| country | year | cases |\n",
       "|---|---|---|\n",
       "| Afghanistan | year        | `1999`      |\n",
       "| Brazil      | year        | `1999`      |\n",
       "| China       | year        | `1999`      |\n",
       "| Afghanistan | year        | `2000`      |\n",
       "| Brazil      | year        | `2000`      |\n",
       "| China       | year        | `2000`      |\n",
       "| Afghanistan | cases       | 745         |\n",
       "| Brazil      | cases       | 37737       |\n",
       "| China       | cases       | 212258      |\n",
       "| Afghanistan | cases       | 2666        |\n",
       "| Brazil      | cases       | 80488       |\n",
       "| China       | cases       | 213766      |\n",
       "\n"
      ],
      "text/plain": [
       "   country     year  cases \n",
       "1  Afghanistan year  `1999`\n",
       "2  Brazil      year  `1999`\n",
       "3  China       year  `1999`\n",
       "4  Afghanistan year  `2000`\n",
       "5  Brazil      year  `2000`\n",
       "6  China       year  `2000`\n",
       "7  Afghanistan cases 745   \n",
       "8  Brazil      cases 37737 \n",
       "9  China       cases 212258\n",
       "10 Afghanistan cases 2666  \n",
       "11 Brazil      cases 80488 \n",
       "12 China       cases 213766"
      ]
     },
     "metadata": {},
     "output_type": "display_data"
    }
   ],
   "source": [
    "table4a  %>%  "
   ]
  },
  {
   "cell_type": "markdown",
   "metadata": {},
   "source": [
    "### 12.4 Separating and uniting"
   ]
  },
  {
   "cell_type": "code",
   "execution_count": 69,
   "metadata": {},
   "outputs": [
    {
     "data": {
      "text/html": [
       "<table>\n",
       "<thead><tr><th scope=col>country</th><th scope=col>year</th><th scope=col>cases</th><th scope=col>population</th></tr></thead>\n",
       "<tbody>\n",
       "\t<tr><td>Afghanistan</td><td>1999       </td><td>745        </td><td>19987071   </td></tr>\n",
       "\t<tr><td>Afghanistan</td><td>2000       </td><td>2666       </td><td>20595360   </td></tr>\n",
       "\t<tr><td>Brazil     </td><td>1999       </td><td>37737      </td><td>172006362  </td></tr>\n",
       "\t<tr><td>Brazil     </td><td>2000       </td><td>80488      </td><td>174504898  </td></tr>\n",
       "\t<tr><td>China      </td><td>1999       </td><td>212258     </td><td>1272915272 </td></tr>\n",
       "\t<tr><td>China      </td><td>2000       </td><td>213766     </td><td>1280428583 </td></tr>\n",
       "</tbody>\n",
       "</table>\n"
      ],
      "text/latex": [
       "\\begin{tabular}{r|llll}\n",
       " country & year & cases & population\\\\\n",
       "\\hline\n",
       "\t Afghanistan & 1999        & 745         & 19987071   \\\\\n",
       "\t Afghanistan & 2000        & 2666        & 20595360   \\\\\n",
       "\t Brazil      & 1999        & 37737       & 172006362  \\\\\n",
       "\t Brazil      & 2000        & 80488       & 174504898  \\\\\n",
       "\t China       & 1999        & 212258      & 1272915272 \\\\\n",
       "\t China       & 2000        & 213766      & 1280428583 \\\\\n",
       "\\end{tabular}\n"
      ],
      "text/markdown": [
       "\n",
       "| country | year | cases | population |\n",
       "|---|---|---|---|\n",
       "| Afghanistan | 1999        | 745         | 19987071    |\n",
       "| Afghanistan | 2000        | 2666        | 20595360    |\n",
       "| Brazil      | 1999        | 37737       | 172006362   |\n",
       "| Brazil      | 2000        | 80488       | 174504898   |\n",
       "| China       | 1999        | 212258      | 1272915272  |\n",
       "| China       | 2000        | 213766      | 1280428583  |\n",
       "\n"
      ],
      "text/plain": [
       "  country     year cases  population\n",
       "1 Afghanistan 1999 745    19987071  \n",
       "2 Afghanistan 2000 2666   20595360  \n",
       "3 Brazil      1999 37737  172006362 \n",
       "4 Brazil      2000 80488  174504898 \n",
       "5 China       1999 212258 1272915272\n",
       "6 China       2000 213766 1280428583"
      ]
     },
     "metadata": {},
     "output_type": "display_data"
    }
   ],
   "source": [
    "table3  %>% separate(rate, into = c(\"cases\", \"population\"))"
   ]
  },
  {
   "cell_type": "code",
   "execution_count": 71,
   "metadata": {},
   "outputs": [
    {
     "data": {
      "text/html": [
       "<table>\n",
       "<thead><tr><th scope=col>country</th><th scope=col>year</th><th scope=col>cases</th><th scope=col>population</th></tr></thead>\n",
       "<tbody>\n",
       "\t<tr><td>Afghanistan</td><td>1999       </td><td>   745     </td><td>  19987071 </td></tr>\n",
       "\t<tr><td>Afghanistan</td><td>2000       </td><td>  2666     </td><td>  20595360 </td></tr>\n",
       "\t<tr><td>Brazil     </td><td>1999       </td><td> 37737     </td><td> 172006362 </td></tr>\n",
       "\t<tr><td>Brazil     </td><td>2000       </td><td> 80488     </td><td> 174504898 </td></tr>\n",
       "\t<tr><td>China      </td><td>1999       </td><td>212258     </td><td>1272915272 </td></tr>\n",
       "\t<tr><td>China      </td><td>2000       </td><td>213766     </td><td>1280428583 </td></tr>\n",
       "</tbody>\n",
       "</table>\n"
      ],
      "text/latex": [
       "\\begin{tabular}{r|llll}\n",
       " country & year & cases & population\\\\\n",
       "\\hline\n",
       "\t Afghanistan & 1999        &    745      &   19987071 \\\\\n",
       "\t Afghanistan & 2000        &   2666      &   20595360 \\\\\n",
       "\t Brazil      & 1999        &  37737      &  172006362 \\\\\n",
       "\t Brazil      & 2000        &  80488      &  174504898 \\\\\n",
       "\t China       & 1999        & 212258      & 1272915272 \\\\\n",
       "\t China       & 2000        & 213766      & 1280428583 \\\\\n",
       "\\end{tabular}\n"
      ],
      "text/markdown": [
       "\n",
       "| country | year | cases | population |\n",
       "|---|---|---|---|\n",
       "| Afghanistan | 1999        |    745      |   19987071  |\n",
       "| Afghanistan | 2000        |   2666      |   20595360  |\n",
       "| Brazil      | 1999        |  37737      |  172006362  |\n",
       "| Brazil      | 2000        |  80488      |  174504898  |\n",
       "| China       | 1999        | 212258      | 1272915272  |\n",
       "| China       | 2000        | 213766      | 1280428583  |\n",
       "\n"
      ],
      "text/plain": [
       "  country     year cases  population\n",
       "1 Afghanistan 1999    745   19987071\n",
       "2 Afghanistan 2000   2666   20595360\n",
       "3 Brazil      1999  37737  172006362\n",
       "4 Brazil      2000  80488  174504898\n",
       "5 China       1999 212258 1272915272\n",
       "6 China       2000 213766 1280428583"
      ]
     },
     "metadata": {},
     "output_type": "display_data"
    }
   ],
   "source": [
    "table3  %>% separate(rate, into = c(\"cases\", \"population\"), sep = \"/\", convert = T)"
   ]
  },
  {
   "cell_type": "code",
   "execution_count": 72,
   "metadata": {},
   "outputs": [
    {
     "data": {
      "text/html": [
       "<table>\n",
       "<thead><tr><th scope=col>country</th><th scope=col>century</th><th scope=col>year</th><th scope=col>rate</th></tr></thead>\n",
       "<tbody>\n",
       "\t<tr><td>Afghanistan      </td><td>19               </td><td>99               </td><td>745/19987071     </td></tr>\n",
       "\t<tr><td>Afghanistan      </td><td>20               </td><td>00               </td><td>2666/20595360    </td></tr>\n",
       "\t<tr><td>Brazil           </td><td>19               </td><td>99               </td><td>37737/172006362  </td></tr>\n",
       "\t<tr><td>Brazil           </td><td>20               </td><td>00               </td><td>80488/174504898  </td></tr>\n",
       "\t<tr><td>China            </td><td>19               </td><td>99               </td><td>212258/1272915272</td></tr>\n",
       "\t<tr><td>China            </td><td>20               </td><td>00               </td><td>213766/1280428583</td></tr>\n",
       "</tbody>\n",
       "</table>\n"
      ],
      "text/latex": [
       "\\begin{tabular}{r|llll}\n",
       " country & century & year & rate\\\\\n",
       "\\hline\n",
       "\t Afghanistan       & 19                & 99                & 745/19987071     \\\\\n",
       "\t Afghanistan       & 20                & 00                & 2666/20595360    \\\\\n",
       "\t Brazil            & 19                & 99                & 37737/172006362  \\\\\n",
       "\t Brazil            & 20                & 00                & 80488/174504898  \\\\\n",
       "\t China             & 19                & 99                & 212258/1272915272\\\\\n",
       "\t China             & 20                & 00                & 213766/1280428583\\\\\n",
       "\\end{tabular}\n"
      ],
      "text/markdown": [
       "\n",
       "| country | century | year | rate |\n",
       "|---|---|---|---|\n",
       "| Afghanistan       | 19                | 99                | 745/19987071      |\n",
       "| Afghanistan       | 20                | 00                | 2666/20595360     |\n",
       "| Brazil            | 19                | 99                | 37737/172006362   |\n",
       "| Brazil            | 20                | 00                | 80488/174504898   |\n",
       "| China             | 19                | 99                | 212258/1272915272 |\n",
       "| China             | 20                | 00                | 213766/1280428583 |\n",
       "\n"
      ],
      "text/plain": [
       "  country     century year rate             \n",
       "1 Afghanistan 19      99   745/19987071     \n",
       "2 Afghanistan 20      00   2666/20595360    \n",
       "3 Brazil      19      99   37737/172006362  \n",
       "4 Brazil      20      00   80488/174504898  \n",
       "5 China       19      99   212258/1272915272\n",
       "6 China       20      00   213766/1280428583"
      ]
     },
     "metadata": {},
     "output_type": "display_data"
    }
   ],
   "source": [
    "table3  %>% separate(year, into = c(\"century\", \"year\"), sep = 2)"
   ]
  },
  {
   "cell_type": "code",
   "execution_count": 96,
   "metadata": {},
   "outputs": [
    {
     "data": {
      "text/html": [
       "<table>\n",
       "<thead><tr><th scope=col>country</th><th scope=col>new</th><th scope=col>century</th><th scope=col>year</th><th scope=col>rate</th></tr></thead>\n",
       "<tbody>\n",
       "\t<tr><td>Afghanistan      </td><td>1999             </td><td>19               </td><td>99               </td><td>745/19987071     </td></tr>\n",
       "\t<tr><td>Afghanistan      </td><td>2000             </td><td>20               </td><td>00               </td><td>2666/20595360    </td></tr>\n",
       "\t<tr><td>Brazil           </td><td>1999             </td><td>19               </td><td>99               </td><td>37737/172006362  </td></tr>\n",
       "\t<tr><td>Brazil           </td><td>2000             </td><td>20               </td><td>00               </td><td>80488/174504898  </td></tr>\n",
       "\t<tr><td>China            </td><td>1999             </td><td>19               </td><td>99               </td><td>212258/1272915272</td></tr>\n",
       "\t<tr><td>China            </td><td>2000             </td><td>20               </td><td>00               </td><td>213766/1280428583</td></tr>\n",
       "</tbody>\n",
       "</table>\n"
      ],
      "text/latex": [
       "\\begin{tabular}{r|lllll}\n",
       " country & new & century & year & rate\\\\\n",
       "\\hline\n",
       "\t Afghanistan       & 1999              & 19                & 99                & 745/19987071     \\\\\n",
       "\t Afghanistan       & 2000              & 20                & 00                & 2666/20595360    \\\\\n",
       "\t Brazil            & 1999              & 19                & 99                & 37737/172006362  \\\\\n",
       "\t Brazil            & 2000              & 20                & 00                & 80488/174504898  \\\\\n",
       "\t China             & 1999              & 19                & 99                & 212258/1272915272\\\\\n",
       "\t China             & 2000              & 20                & 00                & 213766/1280428583\\\\\n",
       "\\end{tabular}\n"
      ],
      "text/markdown": [
       "\n",
       "| country | new | century | year | rate |\n",
       "|---|---|---|---|---|\n",
       "| Afghanistan       | 1999              | 19                | 99                | 745/19987071      |\n",
       "| Afghanistan       | 2000              | 20                | 00                | 2666/20595360     |\n",
       "| Brazil            | 1999              | 19                | 99                | 37737/172006362   |\n",
       "| Brazil            | 2000              | 20                | 00                | 80488/174504898   |\n",
       "| China             | 1999              | 19                | 99                | 212258/1272915272 |\n",
       "| China             | 2000              | 20                | 00                | 213766/1280428583 |\n",
       "\n"
      ],
      "text/plain": [
       "  country     new  century year rate             \n",
       "1 Afghanistan 1999 19      99   745/19987071     \n",
       "2 Afghanistan 2000 20      00   2666/20595360    \n",
       "3 Brazil      1999 19      99   37737/172006362  \n",
       "4 Brazil      2000 20      00   80488/174504898  \n",
       "5 China       1999 19      99   212258/1272915272\n",
       "6 China       2000 20      00   213766/1280428583"
      ]
     },
     "metadata": {},
     "output_type": "display_data"
    }
   ],
   "source": [
    "table5  %>% unite(new, century, year, sep= \"\", remove = T)"
   ]
  },
  {
   "cell_type": "markdown",
   "metadata": {},
   "source": [
    "### 12.4.3"
   ]
  },
  {
   "cell_type": "code",
   "execution_count": 90,
   "metadata": {},
   "outputs": [
    {
     "name": "stderr",
     "output_type": "stream",
     "text": [
      "Warning message:\n",
      "\"Expected 3 pieces. Additional pieces discarded in 1 rows [2].\""
     ]
    },
    {
     "data": {
      "text/html": [
       "<table>\n",
       "<thead><tr><th scope=col>one</th><th scope=col>two</th><th scope=col>three</th></tr></thead>\n",
       "<tbody>\n",
       "\t<tr><td>a</td><td>b</td><td>c</td></tr>\n",
       "\t<tr><td>d</td><td>e</td><td>f</td></tr>\n",
       "\t<tr><td>h</td><td>i</td><td>j</td></tr>\n",
       "</tbody>\n",
       "</table>\n"
      ],
      "text/latex": [
       "\\begin{tabular}{r|lll}\n",
       " one & two & three\\\\\n",
       "\\hline\n",
       "\t a & b & c\\\\\n",
       "\t d & e & f\\\\\n",
       "\t h & i & j\\\\\n",
       "\\end{tabular}\n"
      ],
      "text/markdown": [
       "\n",
       "| one | two | three |\n",
       "|---|---|---|\n",
       "| a | b | c |\n",
       "| d | e | f |\n",
       "| h | i | j |\n",
       "\n"
      ],
      "text/plain": [
       "  one two three\n",
       "1 a   b   c    \n",
       "2 d   e   f    \n",
       "3 h   i   j    "
      ]
     },
     "metadata": {},
     "output_type": "display_data"
    }
   ],
   "source": [
    "tibble(x = c(\"a,b,c\", \"d,e,f,g\", \"h,i,j\")) %>% \n",
    "  separate(x, c(\"one\", \"two\", \"three\"))"
   ]
  },
  {
   "cell_type": "code",
   "execution_count": 94,
   "metadata": {},
   "outputs": [
    {
     "name": "stderr",
     "output_type": "stream",
     "text": [
      "Warning message:\n",
      "\"Expected 3 pieces. Missing pieces filled with `NA` in 1 rows [2].\""
     ]
    },
    {
     "data": {
      "text/html": [
       "<table>\n",
       "<thead><tr><th scope=col>one</th><th scope=col>two</th><th scope=col>three</th></tr></thead>\n",
       "<tbody>\n",
       "\t<tr><td>a </td><td>b </td><td>c </td></tr>\n",
       "\t<tr><td>d </td><td>e </td><td>NA</td></tr>\n",
       "\t<tr><td>f </td><td>g </td><td>i </td></tr>\n",
       "</tbody>\n",
       "</table>\n"
      ],
      "text/latex": [
       "\\begin{tabular}{r|lll}\n",
       " one & two & three\\\\\n",
       "\\hline\n",
       "\t a  & b  & c \\\\\n",
       "\t d  & e  & NA\\\\\n",
       "\t f  & g  & i \\\\\n",
       "\\end{tabular}\n"
      ],
      "text/markdown": [
       "\n",
       "| one | two | three |\n",
       "|---|---|---|\n",
       "| a  | b  | c  |\n",
       "| d  | e  | NA |\n",
       "| f  | g  | i  |\n",
       "\n"
      ],
      "text/plain": [
       "  one two three\n",
       "1 a   b   c    \n",
       "2 d   e   NA   \n",
       "3 f   g   i    "
      ]
     },
     "metadata": {},
     "output_type": "display_data"
    }
   ],
   "source": [
    "tibble(x = c(\"a,b,c\", \"d,e\", \"f,g,i\")) %>% \n",
    "  separate(x, c(\"one\", \"two\", \"three\"), fill = \"left\")"
   ]
  },
  {
   "cell_type": "markdown",
   "metadata": {},
   "source": [
    "### 12.5 결측값"
   ]
  },
  {
   "cell_type": "code",
   "execution_count": 98,
   "metadata": {},
   "outputs": [
    {
     "data": {
      "text/html": [
       "<table>\n",
       "<thead><tr><th scope=col>year</th><th scope=col>qtr</th><th scope=col>return</th></tr></thead>\n",
       "<tbody>\n",
       "\t<tr><td>2015</td><td>1   </td><td>1.88</td></tr>\n",
       "\t<tr><td>2015</td><td>2   </td><td>0.59</td></tr>\n",
       "\t<tr><td>2015</td><td>3   </td><td>0.35</td></tr>\n",
       "\t<tr><td>2015</td><td>4   </td><td>  NA</td></tr>\n",
       "\t<tr><td>2016</td><td>2   </td><td>0.92</td></tr>\n",
       "\t<tr><td>2016</td><td>3   </td><td>0.17</td></tr>\n",
       "\t<tr><td>2016</td><td>4   </td><td>2.66</td></tr>\n",
       "</tbody>\n",
       "</table>\n"
      ],
      "text/latex": [
       "\\begin{tabular}{r|lll}\n",
       " year & qtr & return\\\\\n",
       "\\hline\n",
       "\t 2015 & 1    & 1.88\\\\\n",
       "\t 2015 & 2    & 0.59\\\\\n",
       "\t 2015 & 3    & 0.35\\\\\n",
       "\t 2015 & 4    &   NA\\\\\n",
       "\t 2016 & 2    & 0.92\\\\\n",
       "\t 2016 & 3    & 0.17\\\\\n",
       "\t 2016 & 4    & 2.66\\\\\n",
       "\\end{tabular}\n"
      ],
      "text/markdown": [
       "\n",
       "| year | qtr | return |\n",
       "|---|---|---|\n",
       "| 2015 | 1    | 1.88 |\n",
       "| 2015 | 2    | 0.59 |\n",
       "| 2015 | 3    | 0.35 |\n",
       "| 2015 | 4    |   NA |\n",
       "| 2016 | 2    | 0.92 |\n",
       "| 2016 | 3    | 0.17 |\n",
       "| 2016 | 4    | 2.66 |\n",
       "\n"
      ],
      "text/plain": [
       "  year qtr return\n",
       "1 2015 1   1.88  \n",
       "2 2015 2   0.59  \n",
       "3 2015 3   0.35  \n",
       "4 2015 4     NA  \n",
       "5 2016 2   0.92  \n",
       "6 2016 3   0.17  \n",
       "7 2016 4   2.66  "
      ]
     },
     "metadata": {},
     "output_type": "display_data"
    }
   ],
   "source": [
    "(stocks <- tibble(\n",
    "  year   = c(2015, 2015, 2015, 2015, 2016, 2016, 2016),\n",
    "  qtr    = c(   1,    2,    3,    4,    2,    3,    4),\n",
    "  return = c(1.88, 0.59, 0.35,   NA, 0.92, 0.17, 2.66)\n",
    "))"
   ]
  },
  {
   "cell_type": "code",
   "execution_count": 101,
   "metadata": {},
   "outputs": [
    {
     "data": {
      "text/html": [
       "<table>\n",
       "<thead><tr><th scope=col>year</th><th scope=col>1</th><th scope=col>2</th><th scope=col>3</th><th scope=col>4</th></tr></thead>\n",
       "<tbody>\n",
       "\t<tr><td>2015</td><td>1.88</td><td>0.59</td><td>0.35</td><td>  NA</td></tr>\n",
       "\t<tr><td>2016</td><td>  NA</td><td>0.92</td><td>0.17</td><td>2.66</td></tr>\n",
       "</tbody>\n",
       "</table>\n"
      ],
      "text/latex": [
       "\\begin{tabular}{r|lllll}\n",
       " year & 1 & 2 & 3 & 4\\\\\n",
       "\\hline\n",
       "\t 2015 & 1.88 & 0.59 & 0.35 &   NA\\\\\n",
       "\t 2016 &   NA & 0.92 & 0.17 & 2.66\\\\\n",
       "\\end{tabular}\n"
      ],
      "text/markdown": [
       "\n",
       "| year | 1 | 2 | 3 | 4 |\n",
       "|---|---|---|---|---|\n",
       "| 2015 | 1.88 | 0.59 | 0.35 |   NA |\n",
       "| 2016 |   NA | 0.92 | 0.17 | 2.66 |\n",
       "\n"
      ],
      "text/plain": [
       "  year 1    2    3    4   \n",
       "1 2015 1.88 0.59 0.35   NA\n",
       "2 2016   NA 0.92 0.17 2.66"
      ]
     },
     "metadata": {},
     "output_type": "display_data"
    }
   ],
   "source": [
    "stocks  %>% spread(qtr, return)"
   ]
  },
  {
   "cell_type": "code",
   "execution_count": 105,
   "metadata": {},
   "outputs": [
    {
     "data": {
      "text/html": [
       "<table>\n",
       "<thead><tr><th scope=col>year</th><th scope=col>qtr</th><th scope=col>return</th></tr></thead>\n",
       "<tbody>\n",
       "\t<tr><td>2015</td><td>1   </td><td>1.88</td></tr>\n",
       "\t<tr><td>2015</td><td>2   </td><td>0.59</td></tr>\n",
       "\t<tr><td>2015</td><td>3   </td><td>0.35</td></tr>\n",
       "\t<tr><td>2015</td><td>4   </td><td>  NA</td></tr>\n",
       "\t<tr><td>2016</td><td>1   </td><td>  NA</td></tr>\n",
       "\t<tr><td>2016</td><td>2   </td><td>0.92</td></tr>\n",
       "\t<tr><td>2016</td><td>3   </td><td>0.17</td></tr>\n",
       "\t<tr><td>2016</td><td>4   </td><td>2.66</td></tr>\n",
       "</tbody>\n",
       "</table>\n"
      ],
      "text/latex": [
       "\\begin{tabular}{r|lll}\n",
       " year & qtr & return\\\\\n",
       "\\hline\n",
       "\t 2015 & 1    & 1.88\\\\\n",
       "\t 2015 & 2    & 0.59\\\\\n",
       "\t 2015 & 3    & 0.35\\\\\n",
       "\t 2015 & 4    &   NA\\\\\n",
       "\t 2016 & 1    &   NA\\\\\n",
       "\t 2016 & 2    & 0.92\\\\\n",
       "\t 2016 & 3    & 0.17\\\\\n",
       "\t 2016 & 4    & 2.66\\\\\n",
       "\\end{tabular}\n"
      ],
      "text/markdown": [
       "\n",
       "| year | qtr | return |\n",
       "|---|---|---|\n",
       "| 2015 | 1    | 1.88 |\n",
       "| 2015 | 2    | 0.59 |\n",
       "| 2015 | 3    | 0.35 |\n",
       "| 2015 | 4    |   NA |\n",
       "| 2016 | 1    |   NA |\n",
       "| 2016 | 2    | 0.92 |\n",
       "| 2016 | 3    | 0.17 |\n",
       "| 2016 | 4    | 2.66 |\n",
       "\n"
      ],
      "text/plain": [
       "  year qtr return\n",
       "1 2015 1   1.88  \n",
       "2 2015 2   0.59  \n",
       "3 2015 3   0.35  \n",
       "4 2015 4     NA  \n",
       "5 2016 1     NA  \n",
       "6 2016 2   0.92  \n",
       "7 2016 3   0.17  \n",
       "8 2016 4   2.66  "
      ]
     },
     "metadata": {},
     "output_type": "display_data"
    }
   ],
   "source": [
    "stocks  %>% complete(year, qtr)"
   ]
  },
  {
   "cell_type": "code",
   "execution_count": 109,
   "metadata": {},
   "outputs": [
    {
     "data": {
      "text/html": [
       "<table>\n",
       "<thead><tr><th scope=col>person</th><th scope=col>treatment</th><th scope=col>response</th></tr></thead>\n",
       "<tbody>\n",
       "\t<tr><td>Derrick Whitmore</td><td>1               </td><td> 7              </td></tr>\n",
       "\t<tr><td>NA              </td><td>2               </td><td>10              </td></tr>\n",
       "\t<tr><td>NA              </td><td>3               </td><td> 9              </td></tr>\n",
       "\t<tr><td>Katherine Burke </td><td>1               </td><td> 4              </td></tr>\n",
       "</tbody>\n",
       "</table>\n"
      ],
      "text/latex": [
       "\\begin{tabular}{r|lll}\n",
       " person & treatment & response\\\\\n",
       "\\hline\n",
       "\t Derrick Whitmore & 1                &  7              \\\\\n",
       "\t NA               & 2                & 10              \\\\\n",
       "\t NA               & 3                &  9              \\\\\n",
       "\t Katherine Burke  & 1                &  4              \\\\\n",
       "\\end{tabular}\n"
      ],
      "text/markdown": [
       "\n",
       "| person | treatment | response |\n",
       "|---|---|---|\n",
       "| Derrick Whitmore | 1                |  7               |\n",
       "| NA               | 2                | 10               |\n",
       "| NA               | 3                |  9               |\n",
       "| Katherine Burke  | 1                |  4               |\n",
       "\n"
      ],
      "text/plain": [
       "  person           treatment response\n",
       "1 Derrick Whitmore 1          7      \n",
       "2 NA               2         10      \n",
       "3 NA               3          9      \n",
       "4 Katherine Burke  1          4      "
      ]
     },
     "metadata": {},
     "output_type": "display_data"
    }
   ],
   "source": [
    "(treatment <- tribble(\n",
    "  ~ person,           ~ treatment, ~response,\n",
    "  \"Derrick Whitmore\", 1,           7,\n",
    "  NA,                 2,           10,\n",
    "  NA,                 3,           9,\n",
    "  \"Katherine Burke\",  1,           4\n",
    "))"
   ]
  },
  {
   "cell_type": "code",
   "execution_count": 113,
   "metadata": {},
   "outputs": [
    {
     "data": {
      "text/html": [
       "<table>\n",
       "<thead><tr><th scope=col>person</th><th scope=col>treatment</th><th scope=col>response</th></tr></thead>\n",
       "<tbody>\n",
       "\t<tr><td>Derrick Whitmore</td><td>1               </td><td> 7              </td></tr>\n",
       "\t<tr><td>Katherine Burke </td><td>2               </td><td>10              </td></tr>\n",
       "\t<tr><td>Katherine Burke </td><td>3               </td><td> 9              </td></tr>\n",
       "\t<tr><td>Katherine Burke </td><td>1               </td><td> 4              </td></tr>\n",
       "</tbody>\n",
       "</table>\n"
      ],
      "text/latex": [
       "\\begin{tabular}{r|lll}\n",
       " person & treatment & response\\\\\n",
       "\\hline\n",
       "\t Derrick Whitmore & 1                &  7              \\\\\n",
       "\t Katherine Burke  & 2                & 10              \\\\\n",
       "\t Katherine Burke  & 3                &  9              \\\\\n",
       "\t Katherine Burke  & 1                &  4              \\\\\n",
       "\\end{tabular}\n"
      ],
      "text/markdown": [
       "\n",
       "| person | treatment | response |\n",
       "|---|---|---|\n",
       "| Derrick Whitmore | 1                |  7               |\n",
       "| Katherine Burke  | 2                | 10               |\n",
       "| Katherine Burke  | 3                |  9               |\n",
       "| Katherine Burke  | 1                |  4               |\n",
       "\n"
      ],
      "text/plain": [
       "  person           treatment response\n",
       "1 Derrick Whitmore 1          7      \n",
       "2 Katherine Burke  2         10      \n",
       "3 Katherine Burke  3          9      \n",
       "4 Katherine Burke  1          4      "
      ]
     },
     "metadata": {},
     "output_type": "display_data"
    }
   ],
   "source": [
    "treatment  %>% fill(person, .direction = \"up\")"
   ]
  },
  {
   "cell_type": "code",
   "execution_count": 114,
   "metadata": {},
   "outputs": [
    {
     "data": {
      "text/html": [
       "<table>\n",
       "<thead><tr><th scope=col>person</th><th scope=col>treatment</th><th scope=col>response</th></tr></thead>\n",
       "<tbody>\n",
       "\t<tr><td>Derrick Whitmore</td><td>1               </td><td> 7              </td></tr>\n",
       "\t<tr><td>Derrick Whitmore</td><td>2               </td><td>10              </td></tr>\n",
       "\t<tr><td>Derrick Whitmore</td><td>3               </td><td> 9              </td></tr>\n",
       "\t<tr><td>Katherine Burke </td><td>1               </td><td> 4              </td></tr>\n",
       "</tbody>\n",
       "</table>\n"
      ],
      "text/latex": [
       "\\begin{tabular}{r|lll}\n",
       " person & treatment & response\\\\\n",
       "\\hline\n",
       "\t Derrick Whitmore & 1                &  7              \\\\\n",
       "\t Derrick Whitmore & 2                & 10              \\\\\n",
       "\t Derrick Whitmore & 3                &  9              \\\\\n",
       "\t Katherine Burke  & 1                &  4              \\\\\n",
       "\\end{tabular}\n"
      ],
      "text/markdown": [
       "\n",
       "| person | treatment | response |\n",
       "|---|---|---|\n",
       "| Derrick Whitmore | 1                |  7               |\n",
       "| Derrick Whitmore | 2                | 10               |\n",
       "| Derrick Whitmore | 3                |  9               |\n",
       "| Katherine Burke  | 1                |  4               |\n",
       "\n"
      ],
      "text/plain": [
       "  person           treatment response\n",
       "1 Derrick Whitmore 1          7      \n",
       "2 Derrick Whitmore 2         10      \n",
       "3 Derrick Whitmore 3          9      \n",
       "4 Katherine Burke  1          4      "
      ]
     },
     "metadata": {},
     "output_type": "display_data"
    }
   ],
   "source": [
    "treatment  %>% fill(person)"
   ]
  },
  {
   "cell_type": "code",
   "execution_count": 116,
   "metadata": {},
   "outputs": [
    {
     "data": {
      "text/html": [
       "<table>\n",
       "<thead><tr><th scope=col>country</th><th scope=col>iso2</th><th scope=col>iso3</th><th scope=col>year</th><th scope=col>new_sp_m014</th><th scope=col>new_sp_m1524</th><th scope=col>new_sp_m2534</th><th scope=col>new_sp_m3544</th><th scope=col>new_sp_m4554</th><th scope=col>new_sp_m5564</th><th scope=col>...</th><th scope=col>newrel_m4554</th><th scope=col>newrel_m5564</th><th scope=col>newrel_m65</th><th scope=col>newrel_f014</th><th scope=col>newrel_f1524</th><th scope=col>newrel_f2534</th><th scope=col>newrel_f3544</th><th scope=col>newrel_f4554</th><th scope=col>newrel_f5564</th><th scope=col>newrel_f65</th></tr></thead>\n",
       "<tbody>\n",
       "\t<tr><td>Afghanistan</td><td>AF         </td><td>AFG        </td><td>1980       </td><td>NA         </td><td>NA         </td><td>NA         </td><td>NA         </td><td>NA         </td><td>NA         </td><td>...        </td><td>NA         </td><td>NA         </td><td>NA         </td><td>NA         </td><td>NA         </td><td>NA         </td><td>NA         </td><td>NA         </td><td>NA         </td><td>NA         </td></tr>\n",
       "\t<tr><td>Afghanistan</td><td>AF         </td><td>AFG        </td><td>1981       </td><td>NA         </td><td>NA         </td><td>NA         </td><td>NA         </td><td>NA         </td><td>NA         </td><td>...        </td><td>NA         </td><td>NA         </td><td>NA         </td><td>NA         </td><td>NA         </td><td>NA         </td><td>NA         </td><td>NA         </td><td>NA         </td><td>NA         </td></tr>\n",
       "\t<tr><td>Afghanistan</td><td>AF         </td><td>AFG        </td><td>1982       </td><td>NA         </td><td>NA         </td><td>NA         </td><td>NA         </td><td>NA         </td><td>NA         </td><td>...        </td><td>NA         </td><td>NA         </td><td>NA         </td><td>NA         </td><td>NA         </td><td>NA         </td><td>NA         </td><td>NA         </td><td>NA         </td><td>NA         </td></tr>\n",
       "\t<tr><td>Afghanistan</td><td>AF         </td><td>AFG        </td><td>1983       </td><td>NA         </td><td>NA         </td><td>NA         </td><td>NA         </td><td>NA         </td><td>NA         </td><td>...        </td><td>NA         </td><td>NA         </td><td>NA         </td><td>NA         </td><td>NA         </td><td>NA         </td><td>NA         </td><td>NA         </td><td>NA         </td><td>NA         </td></tr>\n",
       "\t<tr><td>Afghanistan</td><td>AF         </td><td>AFG        </td><td>1984       </td><td>NA         </td><td>NA         </td><td>NA         </td><td>NA         </td><td>NA         </td><td>NA         </td><td>...        </td><td>NA         </td><td>NA         </td><td>NA         </td><td>NA         </td><td>NA         </td><td>NA         </td><td>NA         </td><td>NA         </td><td>NA         </td><td>NA         </td></tr>\n",
       "\t<tr><td>Afghanistan</td><td>AF         </td><td>AFG        </td><td>1985       </td><td>NA         </td><td>NA         </td><td>NA         </td><td>NA         </td><td>NA         </td><td>NA         </td><td>...        </td><td>NA         </td><td>NA         </td><td>NA         </td><td>NA         </td><td>NA         </td><td>NA         </td><td>NA         </td><td>NA         </td><td>NA         </td><td>NA         </td></tr>\n",
       "</tbody>\n",
       "</table>\n"
      ],
      "text/latex": [
       "\\begin{tabular}{r|llllllllllllllllllllllllllllllllllllllllllllllllllllllllllll}\n",
       " country & iso2 & iso3 & year & new\\_sp\\_m014 & new\\_sp\\_m1524 & new\\_sp\\_m2534 & new\\_sp\\_m3544 & new\\_sp\\_m4554 & new\\_sp\\_m5564 & ... & newrel\\_m4554 & newrel\\_m5564 & newrel\\_m65 & newrel\\_f014 & newrel\\_f1524 & newrel\\_f2534 & newrel\\_f3544 & newrel\\_f4554 & newrel\\_f5564 & newrel\\_f65\\\\\n",
       "\\hline\n",
       "\t Afghanistan & AF          & AFG         & 1980        & NA          & NA          & NA          & NA          & NA          & NA          & ...         & NA          & NA          & NA          & NA          & NA          & NA          & NA          & NA          & NA          & NA         \\\\\n",
       "\t Afghanistan & AF          & AFG         & 1981        & NA          & NA          & NA          & NA          & NA          & NA          & ...         & NA          & NA          & NA          & NA          & NA          & NA          & NA          & NA          & NA          & NA         \\\\\n",
       "\t Afghanistan & AF          & AFG         & 1982        & NA          & NA          & NA          & NA          & NA          & NA          & ...         & NA          & NA          & NA          & NA          & NA          & NA          & NA          & NA          & NA          & NA         \\\\\n",
       "\t Afghanistan & AF          & AFG         & 1983        & NA          & NA          & NA          & NA          & NA          & NA          & ...         & NA          & NA          & NA          & NA          & NA          & NA          & NA          & NA          & NA          & NA         \\\\\n",
       "\t Afghanistan & AF          & AFG         & 1984        & NA          & NA          & NA          & NA          & NA          & NA          & ...         & NA          & NA          & NA          & NA          & NA          & NA          & NA          & NA          & NA          & NA         \\\\\n",
       "\t Afghanistan & AF          & AFG         & 1985        & NA          & NA          & NA          & NA          & NA          & NA          & ...         & NA          & NA          & NA          & NA          & NA          & NA          & NA          & NA          & NA          & NA         \\\\\n",
       "\\end{tabular}\n"
      ],
      "text/markdown": [
       "\n",
       "| country | iso2 | iso3 | year | new_sp_m014 | new_sp_m1524 | new_sp_m2534 | new_sp_m3544 | new_sp_m4554 | new_sp_m5564 | ... | newrel_m4554 | newrel_m5564 | newrel_m65 | newrel_f014 | newrel_f1524 | newrel_f2534 | newrel_f3544 | newrel_f4554 | newrel_f5564 | newrel_f65 |\n",
       "|---|---|---|---|---|---|---|---|---|---|---|---|---|---|---|---|---|---|---|---|---|\n",
       "| Afghanistan | AF          | AFG         | 1980        | NA          | NA          | NA          | NA          | NA          | NA          | ...         | NA          | NA          | NA          | NA          | NA          | NA          | NA          | NA          | NA          | NA          |\n",
       "| Afghanistan | AF          | AFG         | 1981        | NA          | NA          | NA          | NA          | NA          | NA          | ...         | NA          | NA          | NA          | NA          | NA          | NA          | NA          | NA          | NA          | NA          |\n",
       "| Afghanistan | AF          | AFG         | 1982        | NA          | NA          | NA          | NA          | NA          | NA          | ...         | NA          | NA          | NA          | NA          | NA          | NA          | NA          | NA          | NA          | NA          |\n",
       "| Afghanistan | AF          | AFG         | 1983        | NA          | NA          | NA          | NA          | NA          | NA          | ...         | NA          | NA          | NA          | NA          | NA          | NA          | NA          | NA          | NA          | NA          |\n",
       "| Afghanistan | AF          | AFG         | 1984        | NA          | NA          | NA          | NA          | NA          | NA          | ...         | NA          | NA          | NA          | NA          | NA          | NA          | NA          | NA          | NA          | NA          |\n",
       "| Afghanistan | AF          | AFG         | 1985        | NA          | NA          | NA          | NA          | NA          | NA          | ...         | NA          | NA          | NA          | NA          | NA          | NA          | NA          | NA          | NA          | NA          |\n",
       "\n"
      ],
      "text/plain": [
       "  country     iso2 iso3 year new_sp_m014 new_sp_m1524 new_sp_m2534 new_sp_m3544\n",
       "1 Afghanistan AF   AFG  1980 NA          NA           NA           NA          \n",
       "2 Afghanistan AF   AFG  1981 NA          NA           NA           NA          \n",
       "3 Afghanistan AF   AFG  1982 NA          NA           NA           NA          \n",
       "4 Afghanistan AF   AFG  1983 NA          NA           NA           NA          \n",
       "5 Afghanistan AF   AFG  1984 NA          NA           NA           NA          \n",
       "6 Afghanistan AF   AFG  1985 NA          NA           NA           NA          \n",
       "  new_sp_m4554 new_sp_m5564 ... newrel_m4554 newrel_m5564 newrel_m65\n",
       "1 NA           NA           ... NA           NA           NA        \n",
       "2 NA           NA           ... NA           NA           NA        \n",
       "3 NA           NA           ... NA           NA           NA        \n",
       "4 NA           NA           ... NA           NA           NA        \n",
       "5 NA           NA           ... NA           NA           NA        \n",
       "6 NA           NA           ... NA           NA           NA        \n",
       "  newrel_f014 newrel_f1524 newrel_f2534 newrel_f3544 newrel_f4554 newrel_f5564\n",
       "1 NA          NA           NA           NA           NA           NA          \n",
       "2 NA          NA           NA           NA           NA           NA          \n",
       "3 NA          NA           NA           NA           NA           NA          \n",
       "4 NA          NA           NA           NA           NA           NA          \n",
       "5 NA          NA           NA           NA           NA           NA          \n",
       "6 NA          NA           NA           NA           NA           NA          \n",
       "  newrel_f65\n",
       "1 NA        \n",
       "2 NA        \n",
       "3 NA        \n",
       "4 NA        \n",
       "5 NA        \n",
       "6 NA        "
      ]
     },
     "metadata": {},
     "output_type": "display_data"
    }
   ],
   "source": [
    "who  %>% head()"
   ]
  },
  {
   "cell_type": "code",
   "execution_count": 118,
   "metadata": {},
   "outputs": [],
   "source": [
    "who  %>% gather(\n",
    "    new_sp_m014:newrel_f65, \n",
    "    key = \"key\",\n",
    "    value = \"cases\", \n",
    "    na.rm =T) -> who1"
   ]
  },
  {
   "cell_type": "code",
   "execution_count": 120,
   "metadata": {},
   "outputs": [],
   "source": [
    "who1  %>% mutate(key = stringr::str_replace(key, \"newrel\", \"new_rel\")) -> who2"
   ]
  },
  {
   "cell_type": "code",
   "execution_count": 123,
   "metadata": {},
   "outputs": [
    {
     "data": {
      "text/html": [
       "<table>\n",
       "<thead><tr><th scope=col>country</th><th scope=col>iso2</th><th scope=col>iso3</th><th scope=col>year</th><th scope=col>new</th><th scope=col>type</th><th scope=col>sexage</th><th scope=col>cases</th></tr></thead>\n",
       "<tbody>\n",
       "\t<tr><td>Afghanistan</td><td>AF         </td><td>AFG        </td><td>1997       </td><td>new        </td><td>sp         </td><td>m014       </td><td>  0        </td></tr>\n",
       "\t<tr><td>Afghanistan</td><td>AF         </td><td>AFG        </td><td>1998       </td><td>new        </td><td>sp         </td><td>m014       </td><td> 30        </td></tr>\n",
       "\t<tr><td>Afghanistan</td><td>AF         </td><td>AFG        </td><td>1999       </td><td>new        </td><td>sp         </td><td>m014       </td><td>  8        </td></tr>\n",
       "\t<tr><td>Afghanistan</td><td>AF         </td><td>AFG        </td><td>2000       </td><td>new        </td><td>sp         </td><td>m014       </td><td> 52        </td></tr>\n",
       "\t<tr><td>Afghanistan</td><td>AF         </td><td>AFG        </td><td>2001       </td><td>new        </td><td>sp         </td><td>m014       </td><td>129        </td></tr>\n",
       "\t<tr><td>Afghanistan</td><td>AF         </td><td>AFG        </td><td>2002       </td><td>new        </td><td>sp         </td><td>m014       </td><td> 90        </td></tr>\n",
       "\t<tr><td>Afghanistan</td><td>AF         </td><td>AFG        </td><td>2003       </td><td>new        </td><td>sp         </td><td>m014       </td><td>127        </td></tr>\n",
       "\t<tr><td>Afghanistan</td><td>AF         </td><td>AFG        </td><td>2004       </td><td>new        </td><td>sp         </td><td>m014       </td><td>139        </td></tr>\n",
       "\t<tr><td>Afghanistan</td><td>AF         </td><td>AFG        </td><td>2005       </td><td>new        </td><td>sp         </td><td>m014       </td><td>151        </td></tr>\n",
       "\t<tr><td>Afghanistan</td><td>AF         </td><td>AFG        </td><td>2006       </td><td>new        </td><td>sp         </td><td>m014       </td><td>193        </td></tr>\n",
       "\t<tr><td>Afghanistan</td><td>AF         </td><td>AFG        </td><td>2007       </td><td>new        </td><td>sp         </td><td>m014       </td><td>186        </td></tr>\n",
       "\t<tr><td>Afghanistan</td><td>AF         </td><td>AFG        </td><td>2008       </td><td>new        </td><td>sp         </td><td>m014       </td><td>187        </td></tr>\n",
       "\t<tr><td>Afghanistan</td><td>AF         </td><td>AFG        </td><td>2009       </td><td>new        </td><td>sp         </td><td>m014       </td><td>200        </td></tr>\n",
       "\t<tr><td>Afghanistan</td><td>AF         </td><td>AFG        </td><td>2010       </td><td>new        </td><td>sp         </td><td>m014       </td><td>197        </td></tr>\n",
       "\t<tr><td>Afghanistan</td><td>AF         </td><td>AFG        </td><td>2011       </td><td>new        </td><td>sp         </td><td>m014       </td><td>204        </td></tr>\n",
       "\t<tr><td>Afghanistan</td><td>AF         </td><td>AFG        </td><td>2012       </td><td>new        </td><td>sp         </td><td>m014       </td><td>188        </td></tr>\n",
       "\t<tr><td>Albania    </td><td>AL         </td><td>ALB        </td><td>1995       </td><td>new        </td><td>sp         </td><td>m014       </td><td>  0        </td></tr>\n",
       "\t<tr><td>Albania    </td><td>AL         </td><td>ALB        </td><td>1997       </td><td>new        </td><td>sp         </td><td>m014       </td><td>  0        </td></tr>\n",
       "\t<tr><td>Albania    </td><td>AL         </td><td>ALB        </td><td>1998       </td><td>new        </td><td>sp         </td><td>m014       </td><td>  1        </td></tr>\n",
       "\t<tr><td>Albania    </td><td>AL         </td><td>ALB        </td><td>1999       </td><td>new        </td><td>sp         </td><td>m014       </td><td>  0        </td></tr>\n",
       "\t<tr><td>Albania    </td><td>AL         </td><td>ALB        </td><td>2000       </td><td>new        </td><td>sp         </td><td>m014       </td><td>  2        </td></tr>\n",
       "\t<tr><td>Albania    </td><td>AL         </td><td>ALB        </td><td>2001       </td><td>new        </td><td>sp         </td><td>m014       </td><td>  3        </td></tr>\n",
       "\t<tr><td>Albania    </td><td>AL         </td><td>ALB        </td><td>2002       </td><td>new        </td><td>sp         </td><td>m014       </td><td>  0        </td></tr>\n",
       "\t<tr><td>Albania    </td><td>AL         </td><td>ALB        </td><td>2003       </td><td>new        </td><td>sp         </td><td>m014       </td><td>  0        </td></tr>\n",
       "\t<tr><td>Albania    </td><td>AL         </td><td>ALB        </td><td>2004       </td><td>new        </td><td>sp         </td><td>m014       </td><td>  5        </td></tr>\n",
       "\t<tr><td>Albania    </td><td>AL         </td><td>ALB        </td><td>2005       </td><td>new        </td><td>sp         </td><td>m014       </td><td>  0        </td></tr>\n",
       "\t<tr><td>Albania    </td><td>AL         </td><td>ALB        </td><td>2006       </td><td>new        </td><td>sp         </td><td>m014       </td><td>  5        </td></tr>\n",
       "\t<tr><td>Albania    </td><td>AL         </td><td>ALB        </td><td>2007       </td><td>new        </td><td>sp         </td><td>m014       </td><td>  0        </td></tr>\n",
       "\t<tr><td>Albania    </td><td>AL         </td><td>ALB        </td><td>2008       </td><td>new        </td><td>sp         </td><td>m014       </td><td>  1        </td></tr>\n",
       "\t<tr><td>Albania    </td><td>AL         </td><td>ALB        </td><td>2009       </td><td>new        </td><td>sp         </td><td>m014       </td><td>  0        </td></tr>\n",
       "\t<tr><td>...</td><td>...</td><td>...</td><td>...</td><td>...</td><td>...</td><td>...</td><td>...</td></tr>\n",
       "\t<tr><td>Spain                                               </td><td>ES                                                  </td><td>ESP                                                 </td><td>2013                                                </td><td>new                                                 </td><td>rel                                                 </td><td>f65                                                 </td><td> 427                                                </td></tr>\n",
       "\t<tr><td>Sri Lanka                                           </td><td>LK                                                  </td><td>LKA                                                 </td><td>2013                                                </td><td>new                                                 </td><td>rel                                                 </td><td>f65                                                 </td><td> 418                                                </td></tr>\n",
       "\t<tr><td>Suriname                                            </td><td>SR                                                  </td><td>SUR                                                 </td><td>2013                                                </td><td>new                                                 </td><td>rel                                                 </td><td>f65                                                 </td><td>   1                                                </td></tr>\n",
       "\t<tr><td>Swaziland                                           </td><td>SZ                                                  </td><td>SWZ                                                 </td><td>2013                                                </td><td>new                                                 </td><td>rel                                                 </td><td>f65                                                 </td><td> 113                                                </td></tr>\n",
       "\t<tr><td>Sweden                                              </td><td>SE                                                  </td><td>SWE                                                 </td><td>2013                                                </td><td>new                                                 </td><td>rel                                                 </td><td>f65                                                 </td><td>  30                                                </td></tr>\n",
       "\t<tr><td>Switzerland                                         </td><td>CH                                                  </td><td>CHE                                                 </td><td>2013                                                </td><td>new                                                 </td><td>rel                                                 </td><td>f65                                                 </td><td>  37                                                </td></tr>\n",
       "\t<tr><td>Syrian Arab Republic                                </td><td>SY                                                  </td><td>SYR                                                 </td><td>2013                                                </td><td>new                                                 </td><td>rel                                                 </td><td>f65                                                 </td><td>  80                                                </td></tr>\n",
       "\t<tr><td>Tajikistan                                          </td><td>TJ                                                  </td><td>TJK                                                 </td><td>2013                                                </td><td>new                                                 </td><td>rel                                                 </td><td>f65                                                 </td><td> 165                                                </td></tr>\n",
       "\t<tr><td>The Former Yugoslav Republic of Macedonia           </td><td>MK                                                  </td><td>MKD                                                 </td><td>2013                                                </td><td>new                                                 </td><td>rel                                                 </td><td>f65                                                 </td><td>  20                                                </td></tr>\n",
       "\t<tr><td>Togo                                                </td><td>TG                                                  </td><td>TGO                                                 </td><td>2013                                                </td><td>new                                                 </td><td>rel                                                 </td><td>f65                                                 </td><td>  53                                                </td></tr>\n",
       "\t<tr><td>Tokelau                                             </td><td>TK                                                  </td><td>TKL                                                 </td><td>2013                                                </td><td>new                                                 </td><td>rel                                                 </td><td>f65                                                 </td><td>   0                                                </td></tr>\n",
       "\t<tr><td>Tonga                                               </td><td>TO                                                  </td><td>TON                                                 </td><td>2013                                                </td><td>new                                                 </td><td>rel                                                 </td><td>f65                                                 </td><td>   2                                                </td></tr>\n",
       "\t<tr><td>Trinidad and Tobago                                 </td><td>TT                                                  </td><td>TTO                                                 </td><td>2013                                                </td><td>new                                                 </td><td>rel                                                 </td><td>f65                                                 </td><td>  10                                                </td></tr>\n",
       "\t<tr><td>Tunisia                                             </td><td>TN                                                  </td><td>TUN                                                 </td><td>2013                                                </td><td>new                                                 </td><td>rel                                                 </td><td>f65                                                 </td><td> 171                                                </td></tr>\n",
       "\t<tr><td>Turkey                                              </td><td>TR                                                  </td><td>TUR                                                 </td><td>2013                                                </td><td>new                                                 </td><td>rel                                                 </td><td>f65                                                 </td><td> 960                                                </td></tr>\n",
       "\t<tr><td>Tuvalu                                              </td><td>TV                                                  </td><td>TUV                                                 </td><td>2013                                                </td><td>new                                                 </td><td>rel                                                 </td><td>f65                                                 </td><td>   0                                                </td></tr>\n",
       "\t<tr><td>Uganda                                              </td><td>UG                                                  </td><td>UGA                                                 </td><td>2013                                                </td><td>new                                                 </td><td>rel                                                 </td><td>f65                                                 </td><td> 341                                                </td></tr>\n",
       "\t<tr><td>Ukraine                                             </td><td>UA                                                  </td><td>UKR                                                 </td><td>2013                                                </td><td>new                                                 </td><td>rel                                                 </td><td>f65                                                 </td><td>1241                                                </td></tr>\n",
       "\t<tr><td>United Arab Emirates                                </td><td>AE                                                  </td><td>ARE                                                 </td><td>2013                                                </td><td>new                                                 </td><td>rel                                                 </td><td>f65                                                 </td><td>   6                                                </td></tr>\n",
       "\t<tr><td>United Kingdom of Great Britain and Northern Ireland</td><td>GB                                                  </td><td>GBR                                                 </td><td>2013                                                </td><td>new                                                 </td><td>rel                                                 </td><td>f65                                                 </td><td> 462                                                </td></tr>\n",
       "\t<tr><td>United States of America                            </td><td>US                                                  </td><td>USA                                                 </td><td>2013                                                </td><td>new                                                 </td><td>rel                                                 </td><td>f65                                                 </td><td> 786                                                </td></tr>\n",
       "\t<tr><td>Uruguay                                             </td><td>UY                                                  </td><td>URY                                                 </td><td>2013                                                </td><td>new                                                 </td><td>rel                                                 </td><td>f65                                                 </td><td>  35                                                </td></tr>\n",
       "\t<tr><td>Uzbekistan                                          </td><td>UZ                                                  </td><td>UZB                                                 </td><td>2013                                                </td><td>new                                                 </td><td>rel                                                 </td><td>f65                                                 </td><td>1120                                                </td></tr>\n",
       "\t<tr><td>Vanuatu                                             </td><td>VU                                                  </td><td>VUT                                                 </td><td>2013                                                </td><td>new                                                 </td><td>rel                                                 </td><td>f65                                                 </td><td>   7                                                </td></tr>\n",
       "\t<tr><td>Venezuela (Bolivarian Republic of)                  </td><td>VE                                                  </td><td>VEN                                                 </td><td>2013                                                </td><td>new                                                 </td><td>rel                                                 </td><td>f65                                                 </td><td> 402                                                </td></tr>\n",
       "\t<tr><td>Viet Nam                                            </td><td>VN                                                  </td><td>VNM                                                 </td><td>2013                                                </td><td>new                                                 </td><td>rel                                                 </td><td>f65                                                 </td><td>3110                                                </td></tr>\n",
       "\t<tr><td>Wallis and Futuna Islands                           </td><td>WF                                                  </td><td>WLF                                                 </td><td>2013                                                </td><td>new                                                 </td><td>rel                                                 </td><td>f65                                                 </td><td>   2                                                </td></tr>\n",
       "\t<tr><td>Yemen                                               </td><td>YE                                                  </td><td>YEM                                                 </td><td>2013                                                </td><td>new                                                 </td><td>rel                                                 </td><td>f65                                                 </td><td> 360                                                </td></tr>\n",
       "\t<tr><td>Zambia                                              </td><td>ZM                                                  </td><td>ZMB                                                 </td><td>2013                                                </td><td>new                                                 </td><td>rel                                                 </td><td>f65                                                 </td><td> 669                                                </td></tr>\n",
       "\t<tr><td>Zimbabwe                                            </td><td>ZW                                                  </td><td>ZWE                                                 </td><td>2013                                                </td><td>new                                                 </td><td>rel                                                 </td><td>f65                                                 </td><td> 725                                                </td></tr>\n",
       "</tbody>\n",
       "</table>\n"
      ],
      "text/latex": [
       "\\begin{tabular}{r|llllllll}\n",
       " country & iso2 & iso3 & year & new & type & sexage & cases\\\\\n",
       "\\hline\n",
       "\t Afghanistan & AF          & AFG         & 1997        & new         & sp          & m014        &   0        \\\\\n",
       "\t Afghanistan & AF          & AFG         & 1998        & new         & sp          & m014        &  30        \\\\\n",
       "\t Afghanistan & AF          & AFG         & 1999        & new         & sp          & m014        &   8        \\\\\n",
       "\t Afghanistan & AF          & AFG         & 2000        & new         & sp          & m014        &  52        \\\\\n",
       "\t Afghanistan & AF          & AFG         & 2001        & new         & sp          & m014        & 129        \\\\\n",
       "\t Afghanistan & AF          & AFG         & 2002        & new         & sp          & m014        &  90        \\\\\n",
       "\t Afghanistan & AF          & AFG         & 2003        & new         & sp          & m014        & 127        \\\\\n",
       "\t Afghanistan & AF          & AFG         & 2004        & new         & sp          & m014        & 139        \\\\\n",
       "\t Afghanistan & AF          & AFG         & 2005        & new         & sp          & m014        & 151        \\\\\n",
       "\t Afghanistan & AF          & AFG         & 2006        & new         & sp          & m014        & 193        \\\\\n",
       "\t Afghanistan & AF          & AFG         & 2007        & new         & sp          & m014        & 186        \\\\\n",
       "\t Afghanistan & AF          & AFG         & 2008        & new         & sp          & m014        & 187        \\\\\n",
       "\t Afghanistan & AF          & AFG         & 2009        & new         & sp          & m014        & 200        \\\\\n",
       "\t Afghanistan & AF          & AFG         & 2010        & new         & sp          & m014        & 197        \\\\\n",
       "\t Afghanistan & AF          & AFG         & 2011        & new         & sp          & m014        & 204        \\\\\n",
       "\t Afghanistan & AF          & AFG         & 2012        & new         & sp          & m014        & 188        \\\\\n",
       "\t Albania     & AL          & ALB         & 1995        & new         & sp          & m014        &   0        \\\\\n",
       "\t Albania     & AL          & ALB         & 1997        & new         & sp          & m014        &   0        \\\\\n",
       "\t Albania     & AL          & ALB         & 1998        & new         & sp          & m014        &   1        \\\\\n",
       "\t Albania     & AL          & ALB         & 1999        & new         & sp          & m014        &   0        \\\\\n",
       "\t Albania     & AL          & ALB         & 2000        & new         & sp          & m014        &   2        \\\\\n",
       "\t Albania     & AL          & ALB         & 2001        & new         & sp          & m014        &   3        \\\\\n",
       "\t Albania     & AL          & ALB         & 2002        & new         & sp          & m014        &   0        \\\\\n",
       "\t Albania     & AL          & ALB         & 2003        & new         & sp          & m014        &   0        \\\\\n",
       "\t Albania     & AL          & ALB         & 2004        & new         & sp          & m014        &   5        \\\\\n",
       "\t Albania     & AL          & ALB         & 2005        & new         & sp          & m014        &   0        \\\\\n",
       "\t Albania     & AL          & ALB         & 2006        & new         & sp          & m014        &   5        \\\\\n",
       "\t Albania     & AL          & ALB         & 2007        & new         & sp          & m014        &   0        \\\\\n",
       "\t Albania     & AL          & ALB         & 2008        & new         & sp          & m014        &   1        \\\\\n",
       "\t Albania     & AL          & ALB         & 2009        & new         & sp          & m014        &   0        \\\\\n",
       "\t ... & ... & ... & ... & ... & ... & ... & ...\\\\\n",
       "\t Spain                                                & ES                                                   & ESP                                                  & 2013                                                 & new                                                  & rel                                                  & f65                                                  &  427                                                \\\\\n",
       "\t Sri Lanka                                            & LK                                                   & LKA                                                  & 2013                                                 & new                                                  & rel                                                  & f65                                                  &  418                                                \\\\\n",
       "\t Suriname                                             & SR                                                   & SUR                                                  & 2013                                                 & new                                                  & rel                                                  & f65                                                  &    1                                                \\\\\n",
       "\t Swaziland                                            & SZ                                                   & SWZ                                                  & 2013                                                 & new                                                  & rel                                                  & f65                                                  &  113                                                \\\\\n",
       "\t Sweden                                               & SE                                                   & SWE                                                  & 2013                                                 & new                                                  & rel                                                  & f65                                                  &   30                                                \\\\\n",
       "\t Switzerland                                          & CH                                                   & CHE                                                  & 2013                                                 & new                                                  & rel                                                  & f65                                                  &   37                                                \\\\\n",
       "\t Syrian Arab Republic                                 & SY                                                   & SYR                                                  & 2013                                                 & new                                                  & rel                                                  & f65                                                  &   80                                                \\\\\n",
       "\t Tajikistan                                           & TJ                                                   & TJK                                                  & 2013                                                 & new                                                  & rel                                                  & f65                                                  &  165                                                \\\\\n",
       "\t The Former Yugoslav Republic of Macedonia            & MK                                                   & MKD                                                  & 2013                                                 & new                                                  & rel                                                  & f65                                                  &   20                                                \\\\\n",
       "\t Togo                                                 & TG                                                   & TGO                                                  & 2013                                                 & new                                                  & rel                                                  & f65                                                  &   53                                                \\\\\n",
       "\t Tokelau                                              & TK                                                   & TKL                                                  & 2013                                                 & new                                                  & rel                                                  & f65                                                  &    0                                                \\\\\n",
       "\t Tonga                                                & TO                                                   & TON                                                  & 2013                                                 & new                                                  & rel                                                  & f65                                                  &    2                                                \\\\\n",
       "\t Trinidad and Tobago                                  & TT                                                   & TTO                                                  & 2013                                                 & new                                                  & rel                                                  & f65                                                  &   10                                                \\\\\n",
       "\t Tunisia                                              & TN                                                   & TUN                                                  & 2013                                                 & new                                                  & rel                                                  & f65                                                  &  171                                                \\\\\n",
       "\t Turkey                                               & TR                                                   & TUR                                                  & 2013                                                 & new                                                  & rel                                                  & f65                                                  &  960                                                \\\\\n",
       "\t Tuvalu                                               & TV                                                   & TUV                                                  & 2013                                                 & new                                                  & rel                                                  & f65                                                  &    0                                                \\\\\n",
       "\t Uganda                                               & UG                                                   & UGA                                                  & 2013                                                 & new                                                  & rel                                                  & f65                                                  &  341                                                \\\\\n",
       "\t Ukraine                                              & UA                                                   & UKR                                                  & 2013                                                 & new                                                  & rel                                                  & f65                                                  & 1241                                                \\\\\n",
       "\t United Arab Emirates                                 & AE                                                   & ARE                                                  & 2013                                                 & new                                                  & rel                                                  & f65                                                  &    6                                                \\\\\n",
       "\t United Kingdom of Great Britain and Northern Ireland & GB                                                   & GBR                                                  & 2013                                                 & new                                                  & rel                                                  & f65                                                  &  462                                                \\\\\n",
       "\t United States of America                             & US                                                   & USA                                                  & 2013                                                 & new                                                  & rel                                                  & f65                                                  &  786                                                \\\\\n",
       "\t Uruguay                                              & UY                                                   & URY                                                  & 2013                                                 & new                                                  & rel                                                  & f65                                                  &   35                                                \\\\\n",
       "\t Uzbekistan                                           & UZ                                                   & UZB                                                  & 2013                                                 & new                                                  & rel                                                  & f65                                                  & 1120                                                \\\\\n",
       "\t Vanuatu                                              & VU                                                   & VUT                                                  & 2013                                                 & new                                                  & rel                                                  & f65                                                  &    7                                                \\\\\n",
       "\t Venezuela (Bolivarian Republic of)                   & VE                                                   & VEN                                                  & 2013                                                 & new                                                  & rel                                                  & f65                                                  &  402                                                \\\\\n",
       "\t Viet Nam                                             & VN                                                   & VNM                                                  & 2013                                                 & new                                                  & rel                                                  & f65                                                  & 3110                                                \\\\\n",
       "\t Wallis and Futuna Islands                            & WF                                                   & WLF                                                  & 2013                                                 & new                                                  & rel                                                  & f65                                                  &    2                                                \\\\\n",
       "\t Yemen                                                & YE                                                   & YEM                                                  & 2013                                                 & new                                                  & rel                                                  & f65                                                  &  360                                                \\\\\n",
       "\t Zambia                                               & ZM                                                   & ZMB                                                  & 2013                                                 & new                                                  & rel                                                  & f65                                                  &  669                                                \\\\\n",
       "\t Zimbabwe                                             & ZW                                                   & ZWE                                                  & 2013                                                 & new                                                  & rel                                                  & f65                                                  &  725                                                \\\\\n",
       "\\end{tabular}\n"
      ],
      "text/markdown": [
       "\n",
       "| country | iso2 | iso3 | year | new | type | sexage | cases |\n",
       "|---|---|---|---|---|---|---|---|\n",
       "| Afghanistan | AF          | AFG         | 1997        | new         | sp          | m014        |   0         |\n",
       "| Afghanistan | AF          | AFG         | 1998        | new         | sp          | m014        |  30         |\n",
       "| Afghanistan | AF          | AFG         | 1999        | new         | sp          | m014        |   8         |\n",
       "| Afghanistan | AF          | AFG         | 2000        | new         | sp          | m014        |  52         |\n",
       "| Afghanistan | AF          | AFG         | 2001        | new         | sp          | m014        | 129         |\n",
       "| Afghanistan | AF          | AFG         | 2002        | new         | sp          | m014        |  90         |\n",
       "| Afghanistan | AF          | AFG         | 2003        | new         | sp          | m014        | 127         |\n",
       "| Afghanistan | AF          | AFG         | 2004        | new         | sp          | m014        | 139         |\n",
       "| Afghanistan | AF          | AFG         | 2005        | new         | sp          | m014        | 151         |\n",
       "| Afghanistan | AF          | AFG         | 2006        | new         | sp          | m014        | 193         |\n",
       "| Afghanistan | AF          | AFG         | 2007        | new         | sp          | m014        | 186         |\n",
       "| Afghanistan | AF          | AFG         | 2008        | new         | sp          | m014        | 187         |\n",
       "| Afghanistan | AF          | AFG         | 2009        | new         | sp          | m014        | 200         |\n",
       "| Afghanistan | AF          | AFG         | 2010        | new         | sp          | m014        | 197         |\n",
       "| Afghanistan | AF          | AFG         | 2011        | new         | sp          | m014        | 204         |\n",
       "| Afghanistan | AF          | AFG         | 2012        | new         | sp          | m014        | 188         |\n",
       "| Albania     | AL          | ALB         | 1995        | new         | sp          | m014        |   0         |\n",
       "| Albania     | AL          | ALB         | 1997        | new         | sp          | m014        |   0         |\n",
       "| Albania     | AL          | ALB         | 1998        | new         | sp          | m014        |   1         |\n",
       "| Albania     | AL          | ALB         | 1999        | new         | sp          | m014        |   0         |\n",
       "| Albania     | AL          | ALB         | 2000        | new         | sp          | m014        |   2         |\n",
       "| Albania     | AL          | ALB         | 2001        | new         | sp          | m014        |   3         |\n",
       "| Albania     | AL          | ALB         | 2002        | new         | sp          | m014        |   0         |\n",
       "| Albania     | AL          | ALB         | 2003        | new         | sp          | m014        |   0         |\n",
       "| Albania     | AL          | ALB         | 2004        | new         | sp          | m014        |   5         |\n",
       "| Albania     | AL          | ALB         | 2005        | new         | sp          | m014        |   0         |\n",
       "| Albania     | AL          | ALB         | 2006        | new         | sp          | m014        |   5         |\n",
       "| Albania     | AL          | ALB         | 2007        | new         | sp          | m014        |   0         |\n",
       "| Albania     | AL          | ALB         | 2008        | new         | sp          | m014        |   1         |\n",
       "| Albania     | AL          | ALB         | 2009        | new         | sp          | m014        |   0         |\n",
       "| ... | ... | ... | ... | ... | ... | ... | ... |\n",
       "| Spain                                                | ES                                                   | ESP                                                  | 2013                                                 | new                                                  | rel                                                  | f65                                                  |  427                                                 |\n",
       "| Sri Lanka                                            | LK                                                   | LKA                                                  | 2013                                                 | new                                                  | rel                                                  | f65                                                  |  418                                                 |\n",
       "| Suriname                                             | SR                                                   | SUR                                                  | 2013                                                 | new                                                  | rel                                                  | f65                                                  |    1                                                 |\n",
       "| Swaziland                                            | SZ                                                   | SWZ                                                  | 2013                                                 | new                                                  | rel                                                  | f65                                                  |  113                                                 |\n",
       "| Sweden                                               | SE                                                   | SWE                                                  | 2013                                                 | new                                                  | rel                                                  | f65                                                  |   30                                                 |\n",
       "| Switzerland                                          | CH                                                   | CHE                                                  | 2013                                                 | new                                                  | rel                                                  | f65                                                  |   37                                                 |\n",
       "| Syrian Arab Republic                                 | SY                                                   | SYR                                                  | 2013                                                 | new                                                  | rel                                                  | f65                                                  |   80                                                 |\n",
       "| Tajikistan                                           | TJ                                                   | TJK                                                  | 2013                                                 | new                                                  | rel                                                  | f65                                                  |  165                                                 |\n",
       "| The Former Yugoslav Republic of Macedonia            | MK                                                   | MKD                                                  | 2013                                                 | new                                                  | rel                                                  | f65                                                  |   20                                                 |\n",
       "| Togo                                                 | TG                                                   | TGO                                                  | 2013                                                 | new                                                  | rel                                                  | f65                                                  |   53                                                 |\n",
       "| Tokelau                                              | TK                                                   | TKL                                                  | 2013                                                 | new                                                  | rel                                                  | f65                                                  |    0                                                 |\n",
       "| Tonga                                                | TO                                                   | TON                                                  | 2013                                                 | new                                                  | rel                                                  | f65                                                  |    2                                                 |\n",
       "| Trinidad and Tobago                                  | TT                                                   | TTO                                                  | 2013                                                 | new                                                  | rel                                                  | f65                                                  |   10                                                 |\n",
       "| Tunisia                                              | TN                                                   | TUN                                                  | 2013                                                 | new                                                  | rel                                                  | f65                                                  |  171                                                 |\n",
       "| Turkey                                               | TR                                                   | TUR                                                  | 2013                                                 | new                                                  | rel                                                  | f65                                                  |  960                                                 |\n",
       "| Tuvalu                                               | TV                                                   | TUV                                                  | 2013                                                 | new                                                  | rel                                                  | f65                                                  |    0                                                 |\n",
       "| Uganda                                               | UG                                                   | UGA                                                  | 2013                                                 | new                                                  | rel                                                  | f65                                                  |  341                                                 |\n",
       "| Ukraine                                              | UA                                                   | UKR                                                  | 2013                                                 | new                                                  | rel                                                  | f65                                                  | 1241                                                 |\n",
       "| United Arab Emirates                                 | AE                                                   | ARE                                                  | 2013                                                 | new                                                  | rel                                                  | f65                                                  |    6                                                 |\n",
       "| United Kingdom of Great Britain and Northern Ireland | GB                                                   | GBR                                                  | 2013                                                 | new                                                  | rel                                                  | f65                                                  |  462                                                 |\n",
       "| United States of America                             | US                                                   | USA                                                  | 2013                                                 | new                                                  | rel                                                  | f65                                                  |  786                                                 |\n",
       "| Uruguay                                              | UY                                                   | URY                                                  | 2013                                                 | new                                                  | rel                                                  | f65                                                  |   35                                                 |\n",
       "| Uzbekistan                                           | UZ                                                   | UZB                                                  | 2013                                                 | new                                                  | rel                                                  | f65                                                  | 1120                                                 |\n",
       "| Vanuatu                                              | VU                                                   | VUT                                                  | 2013                                                 | new                                                  | rel                                                  | f65                                                  |    7                                                 |\n",
       "| Venezuela (Bolivarian Republic of)                   | VE                                                   | VEN                                                  | 2013                                                 | new                                                  | rel                                                  | f65                                                  |  402                                                 |\n",
       "| Viet Nam                                             | VN                                                   | VNM                                                  | 2013                                                 | new                                                  | rel                                                  | f65                                                  | 3110                                                 |\n",
       "| Wallis and Futuna Islands                            | WF                                                   | WLF                                                  | 2013                                                 | new                                                  | rel                                                  | f65                                                  |    2                                                 |\n",
       "| Yemen                                                | YE                                                   | YEM                                                  | 2013                                                 | new                                                  | rel                                                  | f65                                                  |  360                                                 |\n",
       "| Zambia                                               | ZM                                                   | ZMB                                                  | 2013                                                 | new                                                  | rel                                                  | f65                                                  |  669                                                 |\n",
       "| Zimbabwe                                             | ZW                                                   | ZWE                                                  | 2013                                                 | new                                                  | rel                                                  | f65                                                  |  725                                                 |\n",
       "\n"
      ],
      "text/plain": [
       "      country                                              iso2 iso3 year new\n",
       "1     Afghanistan                                          AF   AFG  1997 new\n",
       "2     Afghanistan                                          AF   AFG  1998 new\n",
       "3     Afghanistan                                          AF   AFG  1999 new\n",
       "4     Afghanistan                                          AF   AFG  2000 new\n",
       "5     Afghanistan                                          AF   AFG  2001 new\n",
       "6     Afghanistan                                          AF   AFG  2002 new\n",
       "7     Afghanistan                                          AF   AFG  2003 new\n",
       "8     Afghanistan                                          AF   AFG  2004 new\n",
       "9     Afghanistan                                          AF   AFG  2005 new\n",
       "10    Afghanistan                                          AF   AFG  2006 new\n",
       "11    Afghanistan                                          AF   AFG  2007 new\n",
       "12    Afghanistan                                          AF   AFG  2008 new\n",
       "13    Afghanistan                                          AF   AFG  2009 new\n",
       "14    Afghanistan                                          AF   AFG  2010 new\n",
       "15    Afghanistan                                          AF   AFG  2011 new\n",
       "16    Afghanistan                                          AF   AFG  2012 new\n",
       "17    Albania                                              AL   ALB  1995 new\n",
       "18    Albania                                              AL   ALB  1997 new\n",
       "19    Albania                                              AL   ALB  1998 new\n",
       "20    Albania                                              AL   ALB  1999 new\n",
       "21    Albania                                              AL   ALB  2000 new\n",
       "22    Albania                                              AL   ALB  2001 new\n",
       "23    Albania                                              AL   ALB  2002 new\n",
       "24    Albania                                              AL   ALB  2003 new\n",
       "25    Albania                                              AL   ALB  2004 new\n",
       "26    Albania                                              AL   ALB  2005 new\n",
       "27    Albania                                              AL   ALB  2006 new\n",
       "28    Albania                                              AL   ALB  2007 new\n",
       "29    Albania                                              AL   ALB  2008 new\n",
       "30    Albania                                              AL   ALB  2009 new\n",
       "...   ...                                                  ...  ...  ...  ...\n",
       "76017 Spain                                                ES   ESP  2013 new\n",
       "76018 Sri Lanka                                            LK   LKA  2013 new\n",
       "76019 Suriname                                             SR   SUR  2013 new\n",
       "76020 Swaziland                                            SZ   SWZ  2013 new\n",
       "76021 Sweden                                               SE   SWE  2013 new\n",
       "76022 Switzerland                                          CH   CHE  2013 new\n",
       "76023 Syrian Arab Republic                                 SY   SYR  2013 new\n",
       "76024 Tajikistan                                           TJ   TJK  2013 new\n",
       "76025 The Former Yugoslav Republic of Macedonia            MK   MKD  2013 new\n",
       "76026 Togo                                                 TG   TGO  2013 new\n",
       "76027 Tokelau                                              TK   TKL  2013 new\n",
       "76028 Tonga                                                TO   TON  2013 new\n",
       "76029 Trinidad and Tobago                                  TT   TTO  2013 new\n",
       "76030 Tunisia                                              TN   TUN  2013 new\n",
       "76031 Turkey                                               TR   TUR  2013 new\n",
       "76032 Tuvalu                                               TV   TUV  2013 new\n",
       "76033 Uganda                                               UG   UGA  2013 new\n",
       "76034 Ukraine                                              UA   UKR  2013 new\n",
       "76035 United Arab Emirates                                 AE   ARE  2013 new\n",
       "76036 United Kingdom of Great Britain and Northern Ireland GB   GBR  2013 new\n",
       "76037 United States of America                             US   USA  2013 new\n",
       "76038 Uruguay                                              UY   URY  2013 new\n",
       "76039 Uzbekistan                                           UZ   UZB  2013 new\n",
       "76040 Vanuatu                                              VU   VUT  2013 new\n",
       "76041 Venezuela (Bolivarian Republic of)                   VE   VEN  2013 new\n",
       "76042 Viet Nam                                             VN   VNM  2013 new\n",
       "76043 Wallis and Futuna Islands                            WF   WLF  2013 new\n",
       "76044 Yemen                                                YE   YEM  2013 new\n",
       "76045 Zambia                                               ZM   ZMB  2013 new\n",
       "76046 Zimbabwe                                             ZW   ZWE  2013 new\n",
       "      type sexage cases\n",
       "1     sp   m014     0  \n",
       "2     sp   m014    30  \n",
       "3     sp   m014     8  \n",
       "4     sp   m014    52  \n",
       "5     sp   m014   129  \n",
       "6     sp   m014    90  \n",
       "7     sp   m014   127  \n",
       "8     sp   m014   139  \n",
       "9     sp   m014   151  \n",
       "10    sp   m014   193  \n",
       "11    sp   m014   186  \n",
       "12    sp   m014   187  \n",
       "13    sp   m014   200  \n",
       "14    sp   m014   197  \n",
       "15    sp   m014   204  \n",
       "16    sp   m014   188  \n",
       "17    sp   m014     0  \n",
       "18    sp   m014     0  \n",
       "19    sp   m014     1  \n",
       "20    sp   m014     0  \n",
       "21    sp   m014     2  \n",
       "22    sp   m014     3  \n",
       "23    sp   m014     0  \n",
       "24    sp   m014     0  \n",
       "25    sp   m014     5  \n",
       "26    sp   m014     0  \n",
       "27    sp   m014     5  \n",
       "28    sp   m014     0  \n",
       "29    sp   m014     1  \n",
       "30    sp   m014     0  \n",
       "...   ...  ...    ...  \n",
       "76017 rel  f65     427 \n",
       "76018 rel  f65     418 \n",
       "76019 rel  f65       1 \n",
       "76020 rel  f65     113 \n",
       "76021 rel  f65      30 \n",
       "76022 rel  f65      37 \n",
       "76023 rel  f65      80 \n",
       "76024 rel  f65     165 \n",
       "76025 rel  f65      20 \n",
       "76026 rel  f65      53 \n",
       "76027 rel  f65       0 \n",
       "76028 rel  f65       2 \n",
       "76029 rel  f65      10 \n",
       "76030 rel  f65     171 \n",
       "76031 rel  f65     960 \n",
       "76032 rel  f65       0 \n",
       "76033 rel  f65     341 \n",
       "76034 rel  f65    1241 \n",
       "76035 rel  f65       6 \n",
       "76036 rel  f65     462 \n",
       "76037 rel  f65     786 \n",
       "76038 rel  f65      35 \n",
       "76039 rel  f65    1120 \n",
       "76040 rel  f65       7 \n",
       "76041 rel  f65     402 \n",
       "76042 rel  f65    3110 \n",
       "76043 rel  f65       2 \n",
       "76044 rel  f65     360 \n",
       "76045 rel  f65     669 \n",
       "76046 rel  f65     725 "
      ]
     },
     "metadata": {},
     "output_type": "display_data"
    }
   ],
   "source": [
    "(who3 <- who2  %>% separate(key, c(\"new\", \"type\", \"sexage\"), sep = \"_\"))"
   ]
  },
  {
   "cell_type": "code",
   "execution_count": 125,
   "metadata": {},
   "outputs": [],
   "source": [
    "who3  %>% select(-c(new, iso2, iso3)) -> who4"
   ]
  },
  {
   "cell_type": "code",
   "execution_count": 129,
   "metadata": {},
   "outputs": [
    {
     "data": {
      "text/html": [
       "<table>\n",
       "<thead><tr><th scope=col>country</th><th scope=col>year</th><th scope=col>type</th><th scope=col>sex</th><th scope=col>age</th><th scope=col>cases</th></tr></thead>\n",
       "<tbody>\n",
       "\t<tr><td>Afghanistan</td><td>1997       </td><td>sp         </td><td>m          </td><td>014        </td><td>  0        </td></tr>\n",
       "\t<tr><td>Afghanistan</td><td>1998       </td><td>sp         </td><td>m          </td><td>014        </td><td> 30        </td></tr>\n",
       "\t<tr><td>Afghanistan</td><td>1999       </td><td>sp         </td><td>m          </td><td>014        </td><td>  8        </td></tr>\n",
       "\t<tr><td>Afghanistan</td><td>2000       </td><td>sp         </td><td>m          </td><td>014        </td><td> 52        </td></tr>\n",
       "\t<tr><td>Afghanistan</td><td>2001       </td><td>sp         </td><td>m          </td><td>014        </td><td>129        </td></tr>\n",
       "\t<tr><td>Afghanistan</td><td>2002       </td><td>sp         </td><td>m          </td><td>014        </td><td> 90        </td></tr>\n",
       "</tbody>\n",
       "</table>\n"
      ],
      "text/latex": [
       "\\begin{tabular}{r|llllll}\n",
       " country & year & type & sex & age & cases\\\\\n",
       "\\hline\n",
       "\t Afghanistan & 1997        & sp          & m           & 014         &   0        \\\\\n",
       "\t Afghanistan & 1998        & sp          & m           & 014         &  30        \\\\\n",
       "\t Afghanistan & 1999        & sp          & m           & 014         &   8        \\\\\n",
       "\t Afghanistan & 2000        & sp          & m           & 014         &  52        \\\\\n",
       "\t Afghanistan & 2001        & sp          & m           & 014         & 129        \\\\\n",
       "\t Afghanistan & 2002        & sp          & m           & 014         &  90        \\\\\n",
       "\\end{tabular}\n"
      ],
      "text/markdown": [
       "\n",
       "| country | year | type | sex | age | cases |\n",
       "|---|---|---|---|---|---|\n",
       "| Afghanistan | 1997        | sp          | m           | 014         |   0         |\n",
       "| Afghanistan | 1998        | sp          | m           | 014         |  30         |\n",
       "| Afghanistan | 1999        | sp          | m           | 014         |   8         |\n",
       "| Afghanistan | 2000        | sp          | m           | 014         |  52         |\n",
       "| Afghanistan | 2001        | sp          | m           | 014         | 129         |\n",
       "| Afghanistan | 2002        | sp          | m           | 014         |  90         |\n",
       "\n"
      ],
      "text/plain": [
       "  country     year type sex age cases\n",
       "1 Afghanistan 1997 sp   m   014   0  \n",
       "2 Afghanistan 1998 sp   m   014  30  \n",
       "3 Afghanistan 1999 sp   m   014   8  \n",
       "4 Afghanistan 2000 sp   m   014  52  \n",
       "5 Afghanistan 2001 sp   m   014 129  \n",
       "6 Afghanistan 2002 sp   m   014  90  "
      ]
     },
     "metadata": {},
     "output_type": "display_data"
    }
   ],
   "source": [
    "who4  %>% separate(sexage, c(\"sex\", \"age\"), sep = 1) -> who5\n",
    "head(who5)"
   ]
  },
  {
   "cell_type": "code",
   "execution_count": 135,
   "metadata": {},
   "outputs": [
    {
     "data": {
      "image/png": "[encoded data removed]",
      "text/plain": [
       "plot without title"
      ]
     },
     "metadata": {},
     "output_type": "display_data"
    }
   ],
   "source": [
    "who5  %>% group_by(country, year, sex)  %>% \n",
    "    summarize(n = n())  %>% \n",
    "    ggplot(aes(year, n, color = country)) + geom_point(show.legend = F) + geom_line(show.legend = F)"
   ]
  },
  {
   "cell_type": "code",
   "execution_count": null,
   "metadata": {},
   "outputs": [],
   "source": []
  },
  {
   "cell_type": "code",
   "execution_count": null,
   "metadata": {},
   "outputs": [],
   "source": []
  },
  {
   "cell_type": "code",
   "execution_count": null,
   "metadata": {},
   "outputs": [],
   "source": []
  },
  {
   "cell_type": "code",
   "execution_count": null,
   "metadata": {},
   "outputs": [],
   "source": []
  },
  {
   "cell_type": "code",
   "execution_count": null,
   "metadata": {},
   "outputs": [],
   "source": []
  },
  {
   "cell_type": "code",
   "execution_count": null,
   "metadata": {},
   "outputs": [],
   "source": []
  },
  {
   "cell_type": "code",
   "execution_count": null,
   "metadata": {},
   "outputs": [],
   "source": []
  },
  {
   "cell_type": "code",
   "execution_count": null,
   "metadata": {},
   "outputs": [],
   "source": []
  }
 ],
 "metadata": {
  "kernelspec": {
   "display_name": "R",
   "language": "R",
   "name": "ir"
  },
  "language_info": {
   "codemirror_mode": "r",
   "file_extension": ".r",
   "mimetype": "text/x-r-source",
   "name": "R",
   "pygments_lexer": "r",
   "version": "3.6.1"
  }
 },
 "nbformat": 4,
 "nbformat_minor": 2
}
